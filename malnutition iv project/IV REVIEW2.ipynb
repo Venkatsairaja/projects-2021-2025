{
 "cells": [
  {
   "cell_type": "code",
   "execution_count": 99,
   "id": "3600ec31",
   "metadata": {},
   "outputs": [
    {
     "data": {
      "text/html": [
       "        <script type=\"text/javascript\">\n",
       "        window.PlotlyConfig = {MathJaxConfig: 'local'};\n",
       "        if (window.MathJax && window.MathJax.Hub && window.MathJax.Hub.Config) {window.MathJax.Hub.Config({SVG: {font: \"STIX-Web\"}});}\n",
       "        if (typeof require !== 'undefined') {\n",
       "        require.undef(\"plotly\");\n",
       "        requirejs.config({\n",
       "            paths: {\n",
       "                'plotly': ['https://cdn.plot.ly/plotly-2.24.1.min']\n",
       "            }\n",
       "        });\n",
       "        require(['plotly'], function(Plotly) {\n",
       "            window._Plotly = Plotly;\n",
       "        });\n",
       "        }\n",
       "        </script>\n",
       "        "
      ]
     },
     "metadata": {},
     "output_type": "display_data"
    }
   ],
   "source": [
    "import numpy as np # linear algebra\n",
    "import pandas as pd # data processing, CSV file I/O (e.g. pd.read_csv)\n",
    "import matplotlib.pyplot as plt # this is used for the plot the graph\n",
    "import seaborn as sns # used for plot interactive graph.\n",
    "import plotly.offline as py\n",
    "py.init_notebook_mode(connected=True)\n",
    "import plotly.graph_objs as go\n",
    "import warnings\n",
    "warnings.filterwarnings('ignore')\n",
    "from pylab import rcParams\n",
    "# figure size in inches\n",
    "%matplotlib inline"
   ]
  },
  {
   "cell_type": "code",
   "execution_count": 100,
   "id": "09424e18",
   "metadata": {},
   "outputs": [],
   "source": [
    "import os\n",
    "for dirname, _, filenames in os.walk('/kaggle/input'):\n",
    "    for filename in filenames:\n",
    "        print(os.path.join(dirname, filename))\n"
   ]
  },
  {
   "cell_type": "code",
   "execution_count": 101,
   "id": "9a4da50b",
   "metadata": {},
   "outputs": [],
   "source": [
    "df_country = pd.read_csv(\"country-wise-average.csv\")\n",
    "df_world = pd.read_csv(\"World_Malnutrition_Data.csv\")\n",
    "df_region = pd.read_csv(\"Region_Data.csv\")"
   ]
  },
  {
   "cell_type": "code",
   "execution_count": 102,
   "id": "727e21a1",
   "metadata": {},
   "outputs": [
    {
     "data": {
      "text/html": [
       "<div>\n",
       "<style scoped>\n",
       "    .dataframe tbody tr th:only-of-type {\n",
       "        vertical-align: middle;\n",
       "    }\n",
       "\n",
       "    .dataframe tbody tr th {\n",
       "        vertical-align: top;\n",
       "    }\n",
       "\n",
       "    .dataframe thead th {\n",
       "        text-align: right;\n",
       "    }\n",
       "</style>\n",
       "<table border=\"1\" class=\"dataframe\">\n",
       "  <thead>\n",
       "    <tr style=\"text-align: right;\">\n",
       "      <th></th>\n",
       "      <th>Country</th>\n",
       "      <th>Income Classification</th>\n",
       "      <th>Severe Wasting</th>\n",
       "      <th>Wasting</th>\n",
       "      <th>Overweight</th>\n",
       "      <th>Stunting</th>\n",
       "      <th>Underweight</th>\n",
       "      <th>U5 Population ('000s)</th>\n",
       "    </tr>\n",
       "  </thead>\n",
       "  <tbody>\n",
       "    <tr>\n",
       "      <th>0</th>\n",
       "      <td>AFGHANISTAN</td>\n",
       "      <td>0.0</td>\n",
       "      <td>3.033333</td>\n",
       "      <td>10.350000</td>\n",
       "      <td>5.125000</td>\n",
       "      <td>47.775000</td>\n",
       "      <td>30.375000</td>\n",
       "      <td>4918.561500</td>\n",
       "    </tr>\n",
       "    <tr>\n",
       "      <th>1</th>\n",
       "      <td>ALBANIA</td>\n",
       "      <td>2.0</td>\n",
       "      <td>4.075000</td>\n",
       "      <td>7.760000</td>\n",
       "      <td>20.800000</td>\n",
       "      <td>24.160000</td>\n",
       "      <td>7.700000</td>\n",
       "      <td>232.859800</td>\n",
       "    </tr>\n",
       "    <tr>\n",
       "      <th>2</th>\n",
       "      <td>ALGERIA</td>\n",
       "      <td>2.0</td>\n",
       "      <td>2.733333</td>\n",
       "      <td>5.942857</td>\n",
       "      <td>12.833333</td>\n",
       "      <td>19.571429</td>\n",
       "      <td>7.342857</td>\n",
       "      <td>3565.213143</td>\n",
       "    </tr>\n",
       "    <tr>\n",
       "      <th>3</th>\n",
       "      <td>ANGOLA</td>\n",
       "      <td>1.0</td>\n",
       "      <td>2.400000</td>\n",
       "      <td>6.933333</td>\n",
       "      <td>2.550000</td>\n",
       "      <td>42.633333</td>\n",
       "      <td>23.600000</td>\n",
       "      <td>3980.054000</td>\n",
       "    </tr>\n",
       "    <tr>\n",
       "      <th>4</th>\n",
       "      <td>ARGENTINA</td>\n",
       "      <td>2.0</td>\n",
       "      <td>0.200000</td>\n",
       "      <td>2.150000</td>\n",
       "      <td>11.125000</td>\n",
       "      <td>10.025000</td>\n",
       "      <td>2.600000</td>\n",
       "      <td>3613.651750</td>\n",
       "    </tr>\n",
       "  </tbody>\n",
       "</table>\n",
       "</div>"
      ],
      "text/plain": [
       "       Country  Income Classification  Severe Wasting    Wasting  Overweight   \n",
       "0  AFGHANISTAN                    0.0        3.033333  10.350000    5.125000  \\\n",
       "1      ALBANIA                    2.0        4.075000   7.760000   20.800000   \n",
       "2      ALGERIA                    2.0        2.733333   5.942857   12.833333   \n",
       "3       ANGOLA                    1.0        2.400000   6.933333    2.550000   \n",
       "4    ARGENTINA                    2.0        0.200000   2.150000   11.125000   \n",
       "\n",
       "    Stunting  Underweight  U5 Population ('000s)  \n",
       "0  47.775000    30.375000            4918.561500  \n",
       "1  24.160000     7.700000             232.859800  \n",
       "2  19.571429     7.342857            3565.213143  \n",
       "3  42.633333    23.600000            3980.054000  \n",
       "4  10.025000     2.600000            3613.651750  "
      ]
     },
     "execution_count": 102,
     "metadata": {},
     "output_type": "execute_result"
    }
   ],
   "source": [
    "df_country.head()"
   ]
  },
  {
   "cell_type": "code",
   "execution_count": 103,
   "id": "1e7c4dc6",
   "metadata": {},
   "outputs": [],
   "source": [
    "# Income classification is a category and can be converted to int\n",
    "df_country[\"Income Classification\"] =  df_country[\"Income Classification\"].astype(\"int32\")"
   ]
  },
  {
   "cell_type": "code",
   "execution_count": 104,
   "id": "10a81b4b",
   "metadata": {},
   "outputs": [
    {
     "data": {
      "text/plain": [
       "count    140.000000\n",
       "mean       2.168650\n",
       "std        1.708939\n",
       "min        0.000000\n",
       "25%        0.900000\n",
       "50%        1.872500\n",
       "75%        2.822727\n",
       "max       11.400000\n",
       "Name: Severe Wasting, dtype: float64"
      ]
     },
     "execution_count": 104,
     "metadata": {},
     "output_type": "execute_result"
    }
   ],
   "source": [
    "df_country[\"Severe Wasting\"].describe()"
   ]
  },
  {
   "cell_type": "code",
   "execution_count": 105,
   "id": "35a81d33",
   "metadata": {},
   "outputs": [
    {
     "data": {
      "text/plain": [
       "<Figure size 1600x800 with 0 Axes>"
      ]
     },
     "metadata": {},
     "output_type": "display_data"
    },
    {
     "data": {
      "image/png": "[encoded data removed]",
      "text/plain": [
       "<Figure size 1500x1500 with 42 Axes>"
      ]
     },
     "metadata": {},
     "output_type": "display_data"
    }
   ],
   "source": [
    "plt.figure(figsize=(16, 8))\n",
    "sns.set(style=\"whitegrid\")\n",
    "cols = [\"Income Classification\",\"Severe Wasting\",\"Wasting\",\"Overweight\",\"Stunting\",\"Underweight\" ]\n",
    "sns.pairplot(df_country[cols], height = 2.5 )\n",
    "plt.show();"
   ]
  },
  {
   "cell_type": "code",
   "execution_count": 106,
   "id": "0e2b355a",
   "metadata": {},
   "outputs": [],
   "source": [
    "import seaborn as sns"
   ]
  },
  {
   "cell_type": "code",
   "execution_count": 107,
   "id": "7dcf274f",
   "metadata": {},
   "outputs": [
    {
     "data": {
      "text/plain": [
       "(array([0, 1, 2, 3]),\n",
       " [Text(0, 0, '0'), Text(1, 0, '1'), Text(2, 0, '2'), Text(3, 0, '3')])"
      ]
     },
     "execution_count": 107,
     "metadata": {},
     "output_type": "execute_result"
    },
    {
     "data": {
      "image/png": "[encoded data removed]",
      "text/plain": [
       "<Figure size 1600x800 with 1 Axes>"
      ]
     },
     "metadata": {},
     "output_type": "display_data"
    }
   ],
   "source": [
    "plt.figure(figsize=(16, 8))\n",
    "x = df_country.groupby([\"Income Classification\"])[\"Severe Wasting\"].mean()\n",
    "sns.set(style=\"whitegrid\")\n",
    "ax = sns.barplot(x=x.index, y=x)\n",
    "ax.set_title('Severe Wasting')\n",
    "ax.set_ylabel('% Severe Wasting')\n",
    "ax.set_xlabel('Income Classification')\n",
    "plt.xticks(rotation = 90)"
   ]
  },
  {
   "cell_type": "code",
   "execution_count": 108,
   "id": "60397413",
   "metadata": {},
   "outputs": [
    {
     "data": {
      "application/vnd.plotly.v1+json": {
       "config": {
        "plotlyServerURL": "https://plot.ly"
       },
       "data": [
        {
         "colorbar": {
          "len": 100,
          "lenmode": "pixels",
          "title": {
           "text": "Severe Wasting %"
          }
         },
         "colorscale": [
          [
           0,
           "rgb(12,51,131)"
          ],
          [
           0.25,
           "rgb(10,136,186)"
          ],
          [
           0.5,
           "rgb(242,211,56)"
          ],
          [
           0.75,
           "rgb(242,143,56)"
          ],
          [
           1,
           "rgb(217,30,30)"
          ]
         ],
         "locationmode": "country names",
         "locations": [
          "AFGHANISTAN",
          "ALBANIA",
          "ALGERIA",
          "ANGOLA",
          "ARGENTINA",
          "ARMENIA",
          "AUSTRALIA",
          "AZERBAIJAN",
          "BAHRAIN",
          "BANGLADESH",
          "BARBADOS",
          "BELARUS",
          "BELIZE",
          "BENIN",
          "BHUTAN",
          "BOLIVIA (PLURINATIONAL STATE OF)",
          "BOSNIA AND HERZEGOVINA",
          "BOTSWANA",
          "BRAZIL",
          "BRUNEI DARUSSALAM",
          "BULGARIA",
          "BURKINA FASO",
          "BURUNDI",
          "CABO VERDE",
          "CAMBODIA",
          "CAMEROON",
          "CANADA",
          "CENTRAL AFRICAN REPUBLIC (THE)",
          "CHAD",
          "CHILE",
          "CHINA",
          "COLOMBIA",
          "COMOROS (THE)",
          "CONGO (THE)",
          "COSTA RICA",
          "COTE D'IVOIRE",
          "CUBA",
          "CZECHIA",
          "DEMOCRATIC PEOPLE'S REP. OF KOREA (THE)",
          "DEMOCRATIC REP. OF THE CONGO (THE)",
          "DJIBOUTI",
          "DOMINICAN REPUBLIC (THE)",
          "ECUADOR",
          "EGYPT",
          "EL SALVADOR",
          "EQUATORIAL GUINEA",
          "ERITREA",
          "ESWATINI",
          "ETHIOPIA",
          "FIJI",
          "GABON",
          "GAMBIA (THE)",
          "GEORGIA",
          "GERMANY",
          "GHANA",
          "GUATEMALA",
          "GUINEA",
          "GUINEA-BISSAU",
          "GUYANA",
          "HAITI",
          "HONDURAS",
          "INDIA",
          "INDONESIA",
          "IRAN (ISLAMIC REPUBLIC OF)",
          "IRAQ",
          "JAMAICA",
          "JAPAN",
          "JORDAN",
          "KAZAKHSTAN",
          "KENYA",
          "KIRIBATI",
          "KUWAIT",
          "KYRGYZSTAN",
          "LAO PEOPLE'S DEMOCRATIC REP. (THE)",
          "LEBANON",
          "LESOTHO",
          "LIBERIA",
          "LIBYA",
          "MADAGASCAR",
          "MALAWI",
          "MALAYSIA",
          "MALDIVES",
          "MALI",
          "MARSHALL ISLANDS",
          "MAURITANIA",
          "MAURITIUS",
          "MEXICO",
          "MONGOLIA",
          "MONTENEGRO",
          "MOROCCO",
          "MOZAMBIQUE",
          "MYANMAR",
          "NAMIBIA",
          "NAURU",
          "NEPAL",
          "NICARAGUA",
          "NIGER (THE)",
          "NIGERIA",
          "NORTH MACEDONIA",
          "OMAN",
          "PAKISTAN",
          "PANAMA",
          "PAPUA NEW GUINEA",
          "PARAGUAY",
          "PERU",
          "PHILIPPINES (THE)",
          "POLAND",
          "QATAR",
          "REPUBLIC OF KOREA (THE)",
          "REPUBLIC OF MOLDOVA (THE)",
          "ROMANIA",
          "RWANDA",
          "SAINT LUCIA",
          "SAMOA",
          "SAO TOME AND PRINCIPE",
          "SAUDI ARABIA",
          "SENEGAL",
          "SERBIA",
          "SEYCHELLES",
          "SIERRA LEONE",
          "SINGAPORE",
          "SOLOMON ISLANDS",
          "SOMALIA",
          "SOUTH AFRICA",
          "SOUTH SUDAN",
          "SRI LANKA",
          "STATE OF PALESTINE",
          "SUDAN (THE)",
          "SURINAME",
          "SYRIAN ARAB REPUBLIC (THE)",
          "TAJIKISTAN",
          "THAILAND",
          "TIMOR-LESTE",
          "TOGO",
          "TONGA",
          "TRINIDAD AND TOBAGO",
          "TUNISIA",
          "TURKEY",
          "TURKMENISTAN",
          "TUVALU",
          "UGANDA",
          "UKRAINE",
          "UNITED REPUBLIC OF TANZANIA (THE)",
          "UNITED STATES OF AMERICA (THE)",
          "URUGUAY",
          "UZBEKISTAN",
          "VANUATU",
          "VENEZUELA (BOLIVARIAN REPUBLIC OF)",
          "VIET NAM",
          "YEMEN",
          "ZAMBIA",
          "ZIMBABWE"
         ],
         "text": [
          "AFGHANISTAN",
          "ALBANIA",
          "ALGERIA",
          "ANGOLA",
          "ARGENTINA",
          "ARMENIA",
          "AUSTRALIA",
          "AZERBAIJAN",
          "BAHRAIN",
          "BANGLADESH",
          "BARBADOS",
          "BELARUS",
          "BELIZE",
          "BENIN",
          "BHUTAN",
          "BOLIVIA (PLURINATIONAL STATE OF)",
          "BOSNIA AND HERZEGOVINA",
          "BOTSWANA",
          "BRAZIL",
          "BRUNEI DARUSSALAM",
          "BULGARIA",
          "BURKINA FASO",
          "BURUNDI",
          "CABO VERDE",
          "CAMBODIA",
          "CAMEROON",
          "CANADA",
          "CENTRAL AFRICAN REPUBLIC (THE)",
          "CHAD",
          "CHILE",
          "CHINA",
          "COLOMBIA",
          "COMOROS (THE)",
          "CONGO (THE)",
          "COSTA RICA",
          "COTE D'IVOIRE",
          "CUBA",
          "CZECHIA",
          "DEMOCRATIC PEOPLE'S REP. OF KOREA (THE)",
          "DEMOCRATIC REP. OF THE CONGO (THE)",
          "DJIBOUTI",
          "DOMINICAN REPUBLIC (THE)",
          "ECUADOR",
          "EGYPT",
          "EL SALVADOR",
          "EQUATORIAL GUINEA",
          "ERITREA",
          "ESWATINI",
          "ETHIOPIA",
          "FIJI",
          "GABON",
          "GAMBIA (THE)",
          "GEORGIA",
          "GERMANY",
          "GHANA",
          "GUATEMALA",
          "GUINEA",
          "GUINEA-BISSAU",
          "GUYANA",
          "HAITI",
          "HONDURAS",
          "INDIA",
          "INDONESIA",
          "IRAN (ISLAMIC REPUBLIC OF)",
          "IRAQ",
          "JAMAICA",
          "JAPAN",
          "JORDAN",
          "KAZAKHSTAN",
          "KENYA",
          "KIRIBATI",
          "KUWAIT",
          "KYRGYZSTAN",
          "LAO PEOPLE'S DEMOCRATIC REP. (THE)",
          "LEBANON",
          "LESOTHO",
          "LIBERIA",
          "LIBYA",
          "MADAGASCAR",
          "MALAWI",
          "MALAYSIA",
          "MALDIVES",
          "MALI",
          "MARSHALL ISLANDS",
          "MAURITANIA",
          "MAURITIUS",
          "MEXICO",
          "MONGOLIA",
          "MONTENEGRO",
          "MOROCCO",
          "MOZAMBIQUE",
          "MYANMAR",
          "NAMIBIA",
          "NAURU",
          "NEPAL",
          "NICARAGUA",
          "NIGER (THE)",
          "NIGERIA",
          "NORTH MACEDONIA",
          "OMAN",
          "PAKISTAN",
          "PANAMA",
          "PAPUA NEW GUINEA",
          "PARAGUAY",
          "PERU",
          "PHILIPPINES (THE)",
          "POLAND",
          "QATAR",
          "REPUBLIC OF KOREA (THE)",
          "REPUBLIC OF MOLDOVA (THE)",
          "ROMANIA",
          "RWANDA",
          "SAINT LUCIA",
          "SAMOA",
          "SAO TOME AND PRINCIPE",
          "SAUDI ARABIA",
          "SENEGAL",
          "SERBIA",
          "SEYCHELLES",
          "SIERRA LEONE",
          "SINGAPORE",
          "SOLOMON ISLANDS",
          "SOMALIA",
          "SOUTH AFRICA",
          "SOUTH SUDAN",
          "SRI LANKA",
          "STATE OF PALESTINE",
          "SUDAN (THE)",
          "SURINAME",
          "SYRIAN ARAB REPUBLIC (THE)",
          "TAJIKISTAN",
          "THAILAND",
          "TIMOR-LESTE",
          "TOGO",
          "TONGA",
          "TRINIDAD AND TOBAGO",
          "TUNISIA",
          "TURKEY",
          "TURKMENISTAN",
          "TUVALU",
          "UGANDA",
          "UKRAINE",
          "UNITED REPUBLIC OF TANZANIA (THE)",
          "UNITED STATES OF AMERICA (THE)",
          "URUGUAY",
          "UZBEKISTAN",
          "VANUATU",
          "VENEZUELA (BOLIVARIAN REPUBLIC OF)",
          "VIET NAM",
          "YEMEN",
          "ZAMBIA",
          "ZIMBABWE"
         ],
         "type": "choropleth",
         "z": [
          3.033333333333333,
          4.075,
          2.733333333333333,
          2.4,
          0.2,
          1.6,
          0,
          2.575,
          null,
          2.813636363636364,
          2,
          0.6,
          0.8333333333333334,
          2.425,
          1.4,
          0.7000000000000001,
          2.2,
          2.85,
          0.7,
          0.4,
          1.5333333333333332,
          4.1692307692307695,
          1.2600000000000002,
          null,
          3.483333333333334,
          1.8142857142857145,
          null,
          3.16,
          5.5,
          null,
          0.9199999999999996,
          0.3666666666666667,
          5.4,
          2.4333333333333336,
          null,
          2.6,
          null,
          1,
          1.275,
          4.15,
          9.4,
          0.7428571428571429,
          0.58,
          2.4875000000000003,
          0.4333333333333333,
          2.425,
          4.633333333333333,
          0.5999999999999999,
          3.016666666666666,
          2,
          1.4,
          2.085714285714286,
          0.8500000000000001,
          0.1,
          2.011111111111111,
          0.8571428571428571,
          3.242857142857143,
          2.9250000000000003,
          2.45,
          1.98,
          0.275,
          6.116666666666667,
          4.171428571428572,
          1.4,
          2.175,
          0.9210526315789472,
          0.2,
          0.7600000000000001,
          1.58,
          2.3625000000000003,
          null,
          0.6285714285714284,
          0.8166666666666668,
          3.2,
          2.25,
          1.62,
          1.7799999999999998,
          3.233333333333333,
          2.24,
          1.6076923076923082,
          null,
          4.725,
          4.457142857142856,
          1.1,
          3.975,
          null,
          0.6499999999999999,
          0.9625,
          1.7000000000000002,
          1.95,
          2.566666666666667,
          2.5,
          2.75,
          0.2,
          2.5285714285714285,
          0.75,
          4.33,
          4.379999999999999,
          0.6333333333333334,
          1.6800000000000002,
          4.5,
          0.3333333333333333,
          2.8000000000000003,
          0.3333333333333333,
          0.2133333333333333,
          1.92,
          null,
          null,
          0.15,
          1.45,
          0.9000000000000001,
          1.425,
          0.7,
          1.3,
          2.333333333333333,
          4.5,
          1.825,
          1.2333333333333334,
          1.2,
          3.075,
          0.5,
          2.333333333333333,
          4.35,
          2.92,
          11.4,
          2.45,
          0.8499999999999999,
          4.766666666666667,
          1.2666666666666666,
          5.05,
          2.483333333333333,
          1.475,
          4.775,
          2.0375,
          2.1,
          1.4,
          1.1,
          0.6,
          1.6,
          0.9,
          1.3333333333333337,
          3.8,
          1.5,
          0.04,
          0.65,
          2.975,
          1.7,
          null,
          2.3312500000000003,
          5.3,
          2.042857142857143,
          1.3888888888888888
         ]
        }
       ],
       "layout": {
        "geo": {
         "scope": "world"
        },
        "template": {
         "data": {
          "bar": [
           {
            "error_x": {
             "color": "#2a3f5f"
            },
            "error_y": {
             "color": "#2a3f5f"
            },
            "marker": {
             "line": {
              "color": "#E5ECF6",
              "width": 0.5
             },
             "pattern": {
              "fillmode": "overlay",
              "size": 10,
              "solidity": 0.2
             }
            },
            "type": "bar"
           }
          ],
          "barpolar": [
           {
            "marker": {
             "line": {
              "color": "#E5ECF6",
              "width": 0.5
             },
             "pattern": {
              "fillmode": "overlay",
              "size": 10,
              "solidity": 0.2
             }
            },
            "type": "barpolar"
           }
          ],
          "carpet": [
           {
            "aaxis": {
             "endlinecolor": "#2a3f5f",
             "gridcolor": "white",
             "linecolor": "white",
             "minorgridcolor": "white",
             "startlinecolor": "#2a3f5f"
            },
            "baxis": {
             "endlinecolor": "#2a3f5f",
             "gridcolor": "white",
             "linecolor": "white",
             "minorgridcolor": "white",
             "startlinecolor": "#2a3f5f"
            },
            "type": "carpet"
           }
          ],
          "choropleth": [
           {
            "colorbar": {
             "outlinewidth": 0,
             "ticks": ""
            },
            "type": "choropleth"
           }
          ],
          "contour": [
           {
            "colorbar": {
             "outlinewidth": 0,
             "ticks": ""
            },
            "colorscale": [
             [
              0,
              "#0d0887"
             ],
             [
              0.1111111111111111,
              "#46039f"
             ],
             [
              0.2222222222222222,
              "#7201a8"
             ],
             [
              0.3333333333333333,
              "#9c179e"
             ],
             [
              0.4444444444444444,
              "#bd3786"
             ],
             [
              0.5555555555555556,
              "#d8576b"
             ],
             [
              0.6666666666666666,
              "#ed7953"
             ],
             [
              0.7777777777777778,
              "#fb9f3a"
             ],
             [
              0.8888888888888888,
              "#fdca26"
             ],
             [
              1,
              "#f0f921"
             ]
            ],
            "type": "contour"
           }
          ],
          "contourcarpet": [
           {
            "colorbar": {
             "outlinewidth": 0,
             "ticks": ""
            },
            "type": "contourcarpet"
           }
          ],
          "heatmap": [
           {
            "colorbar": {
             "outlinewidth": 0,
             "ticks": ""
            },
            "colorscale": [
             [
              0,
              "#0d0887"
             ],
             [
              0.1111111111111111,
              "#46039f"
             ],
             [
              0.2222222222222222,
              "#7201a8"
             ],
             [
              0.3333333333333333,
              "#9c179e"
             ],
             [
              0.4444444444444444,
              "#bd3786"
             ],
             [
              0.5555555555555556,
              "#d8576b"
             ],
             [
              0.6666666666666666,
              "#ed7953"
             ],
             [
              0.7777777777777778,
              "#fb9f3a"
             ],
             [
              0.8888888888888888,
              "#fdca26"
             ],
             [
              1,
              "#f0f921"
             ]
            ],
            "type": "heatmap"
           }
          ],
          "heatmapgl": [
           {
            "colorbar": {
             "outlinewidth": 0,
             "ticks": ""
            },
            "colorscale": [
             [
              0,
              "#0d0887"
             ],
             [
              0.1111111111111111,
              "#46039f"
             ],
             [
              0.2222222222222222,
              "#7201a8"
             ],
             [
              0.3333333333333333,
              "#9c179e"
             ],
             [
              0.4444444444444444,
              "#bd3786"
             ],
             [
              0.5555555555555556,
              "#d8576b"
             ],
             [
              0.6666666666666666,
              "#ed7953"
             ],
             [
              0.7777777777777778,
              "#fb9f3a"
             ],
             [
              0.8888888888888888,
              "#fdca26"
             ],
             [
              1,
              "#f0f921"
             ]
            ],
            "type": "heatmapgl"
           }
          ],
          "histogram": [
           {
            "marker": {
             "pattern": {
              "fillmode": "overlay",
              "size": 10,
              "solidity": 0.2
             }
            },
            "type": "histogram"
           }
          ],
          "histogram2d": [
           {
            "colorbar": {
             "outlinewidth": 0,
             "ticks": ""
            },
            "colorscale": [
             [
              0,
              "#0d0887"
             ],
             [
              0.1111111111111111,
              "#46039f"
             ],
             [
              0.2222222222222222,
              "#7201a8"
             ],
             [
              0.3333333333333333,
              "#9c179e"
             ],
             [
              0.4444444444444444,
              "#bd3786"
             ],
             [
              0.5555555555555556,
              "#d8576b"
             ],
             [
              0.6666666666666666,
              "#ed7953"
             ],
             [
              0.7777777777777778,
              "#fb9f3a"
             ],
             [
              0.8888888888888888,
              "#fdca26"
             ],
             [
              1,
              "#f0f921"
             ]
            ],
            "type": "histogram2d"
           }
          ],
          "histogram2dcontour": [
           {
            "colorbar": {
             "outlinewidth": 0,
             "ticks": ""
            },
            "colorscale": [
             [
              0,
              "#0d0887"
             ],
             [
              0.1111111111111111,
              "#46039f"
             ],
             [
              0.2222222222222222,
              "#7201a8"
             ],
             [
              0.3333333333333333,
              "#9c179e"
             ],
             [
              0.4444444444444444,
              "#bd3786"
             ],
             [
              0.5555555555555556,
              "#d8576b"
             ],
             [
              0.6666666666666666,
              "#ed7953"
             ],
             [
              0.7777777777777778,
              "#fb9f3a"
             ],
             [
              0.8888888888888888,
              "#fdca26"
             ],
             [
              1,
              "#f0f921"
             ]
            ],
            "type": "histogram2dcontour"
           }
          ],
          "mesh3d": [
           {
            "colorbar": {
             "outlinewidth": 0,
             "ticks": ""
            },
            "type": "mesh3d"
           }
          ],
          "parcoords": [
           {
            "line": {
             "colorbar": {
              "outlinewidth": 0,
              "ticks": ""
             }
            },
            "type": "parcoords"
           }
          ],
          "pie": [
           {
            "automargin": true,
            "type": "pie"
           }
          ],
          "scatter": [
           {
            "fillpattern": {
             "fillmode": "overlay",
             "size": 10,
             "solidity": 0.2
            },
            "type": "scatter"
           }
          ],
          "scatter3d": [
           {
            "line": {
             "colorbar": {
              "outlinewidth": 0,
              "ticks": ""
             }
            },
            "marker": {
             "colorbar": {
              "outlinewidth": 0,
              "ticks": ""
             }
            },
            "type": "scatter3d"
           }
          ],
          "scattercarpet": [
           {
            "marker": {
             "colorbar": {
              "outlinewidth": 0,
              "ticks": ""
             }
            },
            "type": "scattercarpet"
           }
          ],
          "scattergeo": [
           {
            "marker": {
             "colorbar": {
              "outlinewidth": 0,
              "ticks": ""
             }
            },
            "type": "scattergeo"
           }
          ],
          "scattergl": [
           {
            "marker": {
             "colorbar": {
              "outlinewidth": 0,
              "ticks": ""
             }
            },
            "type": "scattergl"
           }
          ],
          "scattermapbox": [
           {
            "marker": {
             "colorbar": {
              "outlinewidth": 0,
              "ticks": ""
             }
            },
            "type": "scattermapbox"
           }
          ],
          "scatterpolar": [
           {
            "marker": {
             "colorbar": {
              "outlinewidth": 0,
              "ticks": ""
             }
            },
            "type": "scatterpolar"
           }
          ],
          "scatterpolargl": [
           {
            "marker": {
             "colorbar": {
              "outlinewidth": 0,
              "ticks": ""
             }
            },
            "type": "scatterpolargl"
           }
          ],
          "scatterternary": [
           {
            "marker": {
             "colorbar": {
              "outlinewidth": 0,
              "ticks": ""
             }
            },
            "type": "scatterternary"
           }
          ],
          "surface": [
           {
            "colorbar": {
             "outlinewidth": 0,
             "ticks": ""
            },
            "colorscale": [
             [
              0,
              "#0d0887"
             ],
             [
              0.1111111111111111,
              "#46039f"
             ],
             [
              0.2222222222222222,
              "#7201a8"
             ],
             [
              0.3333333333333333,
              "#9c179e"
             ],
             [
              0.4444444444444444,
              "#bd3786"
             ],
             [
              0.5555555555555556,
              "#d8576b"
             ],
             [
              0.6666666666666666,
              "#ed7953"
             ],
             [
              0.7777777777777778,
              "#fb9f3a"
             ],
             [
              0.8888888888888888,
              "#fdca26"
             ],
             [
              1,
              "#f0f921"
             ]
            ],
            "type": "surface"
           }
          ],
          "table": [
           {
            "cells": {
             "fill": {
              "color": "#EBF0F8"
             },
             "line": {
              "color": "white"
             }
            },
            "header": {
             "fill": {
              "color": "#C8D4E3"
             },
             "line": {
              "color": "white"
             }
            },
            "type": "table"
           }
          ]
         },
         "layout": {
          "annotationdefaults": {
           "arrowcolor": "#2a3f5f",
           "arrowhead": 0,
           "arrowwidth": 1
          },
          "autotypenumbers": "strict",
          "coloraxis": {
           "colorbar": {
            "outlinewidth": 0,
            "ticks": ""
           }
          },
          "colorscale": {
           "diverging": [
            [
             0,
             "#8e0152"
            ],
            [
             0.1,
             "#c51b7d"
            ],
            [
             0.2,
             "#de77ae"
            ],
            [
             0.3,
             "#f1b6da"
            ],
            [
             0.4,
             "#fde0ef"
            ],
            [
             0.5,
             "#f7f7f7"
            ],
            [
             0.6,
             "#e6f5d0"
            ],
            [
             0.7,
             "#b8e186"
            ],
            [
             0.8,
             "#7fbc41"
            ],
            [
             0.9,
             "#4d9221"
            ],
            [
             1,
             "#276419"
            ]
           ],
           "sequential": [
            [
             0,
             "#0d0887"
            ],
            [
             0.1111111111111111,
             "#46039f"
            ],
            [
             0.2222222222222222,
             "#7201a8"
            ],
            [
             0.3333333333333333,
             "#9c179e"
            ],
            [
             0.4444444444444444,
             "#bd3786"
            ],
            [
             0.5555555555555556,
             "#d8576b"
            ],
            [
             0.6666666666666666,
             "#ed7953"
            ],
            [
             0.7777777777777778,
             "#fb9f3a"
            ],
            [
             0.8888888888888888,
             "#fdca26"
            ],
            [
             1,
             "#f0f921"
            ]
           ],
           "sequentialminus": [
            [
             0,
             "#0d0887"
            ],
            [
             0.1111111111111111,
             "#46039f"
            ],
            [
             0.2222222222222222,
             "#7201a8"
            ],
            [
             0.3333333333333333,
             "#9c179e"
            ],
            [
             0.4444444444444444,
             "#bd3786"
            ],
            [
             0.5555555555555556,
             "#d8576b"
            ],
            [
             0.6666666666666666,
             "#ed7953"
            ],
            [
             0.7777777777777778,
             "#fb9f3a"
            ],
            [
             0.8888888888888888,
             "#fdca26"
            ],
            [
             1,
             "#f0f921"
            ]
           ]
          },
          "colorway": [
           "#636efa",
           "#EF553B",
           "#00cc96",
           "#ab63fa",
           "#FFA15A",
           "#19d3f3",
           "#FF6692",
           "#B6E880",
           "#FF97FF",
           "#FECB52"
          ],
          "font": {
           "color": "#2a3f5f"
          },
          "geo": {
           "bgcolor": "white",
           "lakecolor": "white",
           "landcolor": "#E5ECF6",
           "showlakes": true,
           "showland": true,
           "subunitcolor": "white"
          },
          "hoverlabel": {
           "align": "left"
          },
          "hovermode": "closest",
          "mapbox": {
           "style": "light"
          },
          "paper_bgcolor": "white",
          "plot_bgcolor": "#E5ECF6",
          "polar": {
           "angularaxis": {
            "gridcolor": "white",
            "linecolor": "white",
            "ticks": ""
           },
           "bgcolor": "#E5ECF6",
           "radialaxis": {
            "gridcolor": "white",
            "linecolor": "white",
            "ticks": ""
           }
          },
          "scene": {
           "xaxis": {
            "backgroundcolor": "#E5ECF6",
            "gridcolor": "white",
            "gridwidth": 2,
            "linecolor": "white",
            "showbackground": true,
            "ticks": "",
            "zerolinecolor": "white"
           },
           "yaxis": {
            "backgroundcolor": "#E5ECF6",
            "gridcolor": "white",
            "gridwidth": 2,
            "linecolor": "white",
            "showbackground": true,
            "ticks": "",
            "zerolinecolor": "white"
           },
           "zaxis": {
            "backgroundcolor": "#E5ECF6",
            "gridcolor": "white",
            "gridwidth": 2,
            "linecolor": "white",
            "showbackground": true,
            "ticks": "",
            "zerolinecolor": "white"
           }
          },
          "shapedefaults": {
           "line": {
            "color": "#2a3f5f"
           }
          },
          "ternary": {
           "aaxis": {
            "gridcolor": "white",
            "linecolor": "white",
            "ticks": ""
           },
           "baxis": {
            "gridcolor": "white",
            "linecolor": "white",
            "ticks": ""
           },
           "bgcolor": "#E5ECF6",
           "caxis": {
            "gridcolor": "white",
            "linecolor": "white",
            "ticks": ""
           }
          },
          "title": {
           "x": 0.05
          },
          "xaxis": {
           "automargin": true,
           "gridcolor": "white",
           "linecolor": "white",
           "ticks": "",
           "title": {
            "standoff": 15
           },
           "zerolinecolor": "white",
           "zerolinewidth": 2
          },
          "yaxis": {
           "automargin": true,
           "gridcolor": "white",
           "linecolor": "white",
           "ticks": "",
           "title": {
            "standoff": 15
           },
           "zerolinecolor": "white",
           "zerolinewidth": 2
          }
         }
        },
        "title": {
         "text": "Severe Wasting % around the world"
        }
       }
      },
      "text/html": [
       "<div>                            <div id=\"31e1c84b-4928-4c7d-bdd6-df63fbaa7d9c\" class=\"plotly-graph-div\" style=\"height:525px; width:100%;\"></div>            <script type=\"text/javascript\">                require([\"plotly\"], function(Plotly) {                    window.PLOTLYENV=window.PLOTLYENV || {};                                    if (document.getElementById(\"31e1c84b-4928-4c7d-bdd6-df63fbaa7d9c\")) {                    Plotly.newPlot(                        \"31e1c84b-4928-4c7d-bdd6-df63fbaa7d9c\",                        [{\"colorbar\":{\"len\":100,\"lenmode\":\"pixels\",\"title\":{\"text\":\"Severe Wasting %\"}},\"colorscale\":[[0.0,\"rgb(12,51,131)\"],[0.25,\"rgb(10,136,186)\"],[0.5,\"rgb(242,211,56)\"],[0.75,\"rgb(242,143,56)\"],[1.0,\"rgb(217,30,30)\"]],\"locationmode\":\"country names\",\"locations\":[\"AFGHANISTAN\",\"ALBANIA\",\"ALGERIA\",\"ANGOLA\",\"ARGENTINA\",\"ARMENIA\",\"AUSTRALIA\",\"AZERBAIJAN\",\"BAHRAIN\",\"BANGLADESH\",\"BARBADOS\",\"BELARUS\",\"BELIZE\",\"BENIN\",\"BHUTAN\",\"BOLIVIA (PLURINATIONAL STATE OF)\",\"BOSNIA AND HERZEGOVINA\",\"BOTSWANA\",\"BRAZIL\",\"BRUNEI DARUSSALAM\",\"BULGARIA\",\"BURKINA FASO\",\"BURUNDI\",\"CABO VERDE\",\"CAMBODIA\",\"CAMEROON\",\"CANADA\",\"CENTRAL AFRICAN REPUBLIC (THE)\",\"CHAD\",\"CHILE\",\"CHINA\",\"COLOMBIA\",\"COMOROS (THE)\",\"CONGO (THE)\",\"COSTA RICA\",\"COTE D'IVOIRE\",\"CUBA\",\"CZECHIA\",\"DEMOCRATIC PEOPLE'S REP. OF KOREA (THE)\",\"DEMOCRATIC REP. OF THE CONGO (THE)\",\"DJIBOUTI\",\"DOMINICAN REPUBLIC (THE)\",\"ECUADOR\",\"EGYPT\",\"EL SALVADOR\",\"EQUATORIAL GUINEA\",\"ERITREA\",\"ESWATINI\",\"ETHIOPIA\",\"FIJI\",\"GABON\",\"GAMBIA (THE)\",\"GEORGIA\",\"GERMANY\",\"GHANA\",\"GUATEMALA\",\"GUINEA\",\"GUINEA-BISSAU\",\"GUYANA\",\"HAITI\",\"HONDURAS\",\"INDIA\",\"INDONESIA\",\"IRAN (ISLAMIC REPUBLIC OF)\",\"IRAQ\",\"JAMAICA\",\"JAPAN\",\"JORDAN\",\"KAZAKHSTAN\",\"KENYA\",\"KIRIBATI\",\"KUWAIT\",\"KYRGYZSTAN\",\"LAO PEOPLE'S DEMOCRATIC REP. (THE)\",\"LEBANON\",\"LESOTHO\",\"LIBERIA\",\"LIBYA\",\"MADAGASCAR\",\"MALAWI\",\"MALAYSIA\",\"MALDIVES\",\"MALI\",\"MARSHALL ISLANDS\",\"MAURITANIA\",\"MAURITIUS\",\"MEXICO\",\"MONGOLIA\",\"MONTENEGRO\",\"MOROCCO\",\"MOZAMBIQUE\",\"MYANMAR\",\"NAMIBIA\",\"NAURU\",\"NEPAL\",\"NICARAGUA\",\"NIGER (THE)\",\"NIGERIA\",\"NORTH MACEDONIA\",\"OMAN\",\"PAKISTAN\",\"PANAMA\",\"PAPUA NEW GUINEA\",\"PARAGUAY\",\"PERU\",\"PHILIPPINES (THE)\",\"POLAND\",\"QATAR\",\"REPUBLIC OF KOREA (THE)\",\"REPUBLIC OF MOLDOVA (THE)\",\"ROMANIA\",\"RWANDA\",\"SAINT LUCIA\",\"SAMOA\",\"SAO TOME AND PRINCIPE\",\"SAUDI ARABIA\",\"SENEGAL\",\"SERBIA\",\"SEYCHELLES\",\"SIERRA LEONE\",\"SINGAPORE\",\"SOLOMON ISLANDS\",\"SOMALIA\",\"SOUTH AFRICA\",\"SOUTH SUDAN\",\"SRI LANKA\",\"STATE OF PALESTINE\",\"SUDAN (THE)\",\"SURINAME\",\"SYRIAN ARAB REPUBLIC (THE)\",\"TAJIKISTAN\",\"THAILAND\",\"TIMOR-LESTE\",\"TOGO\",\"TONGA\",\"TRINIDAD AND TOBAGO\",\"TUNISIA\",\"TURKEY\",\"TURKMENISTAN\",\"TUVALU\",\"UGANDA\",\"UKRAINE\",\"UNITED REPUBLIC OF TANZANIA (THE)\",\"UNITED STATES OF AMERICA (THE)\",\"URUGUAY\",\"UZBEKISTAN\",\"VANUATU\",\"VENEZUELA (BOLIVARIAN REPUBLIC OF)\",\"VIET NAM\",\"YEMEN\",\"ZAMBIA\",\"ZIMBABWE\"],\"text\":[\"AFGHANISTAN\",\"ALBANIA\",\"ALGERIA\",\"ANGOLA\",\"ARGENTINA\",\"ARMENIA\",\"AUSTRALIA\",\"AZERBAIJAN\",\"BAHRAIN\",\"BANGLADESH\",\"BARBADOS\",\"BELARUS\",\"BELIZE\",\"BENIN\",\"BHUTAN\",\"BOLIVIA (PLURINATIONAL STATE OF)\",\"BOSNIA AND HERZEGOVINA\",\"BOTSWANA\",\"BRAZIL\",\"BRUNEI DARUSSALAM\",\"BULGARIA\",\"BURKINA FASO\",\"BURUNDI\",\"CABO VERDE\",\"CAMBODIA\",\"CAMEROON\",\"CANADA\",\"CENTRAL AFRICAN REPUBLIC (THE)\",\"CHAD\",\"CHILE\",\"CHINA\",\"COLOMBIA\",\"COMOROS (THE)\",\"CONGO (THE)\",\"COSTA RICA\",\"COTE D'IVOIRE\",\"CUBA\",\"CZECHIA\",\"DEMOCRATIC PEOPLE'S REP. OF KOREA (THE)\",\"DEMOCRATIC REP. OF THE CONGO (THE)\",\"DJIBOUTI\",\"DOMINICAN REPUBLIC (THE)\",\"ECUADOR\",\"EGYPT\",\"EL SALVADOR\",\"EQUATORIAL GUINEA\",\"ERITREA\",\"ESWATINI\",\"ETHIOPIA\",\"FIJI\",\"GABON\",\"GAMBIA (THE)\",\"GEORGIA\",\"GERMANY\",\"GHANA\",\"GUATEMALA\",\"GUINEA\",\"GUINEA-BISSAU\",\"GUYANA\",\"HAITI\",\"HONDURAS\",\"INDIA\",\"INDONESIA\",\"IRAN (ISLAMIC REPUBLIC OF)\",\"IRAQ\",\"JAMAICA\",\"JAPAN\",\"JORDAN\",\"KAZAKHSTAN\",\"KENYA\",\"KIRIBATI\",\"KUWAIT\",\"KYRGYZSTAN\",\"LAO PEOPLE'S DEMOCRATIC REP. (THE)\",\"LEBANON\",\"LESOTHO\",\"LIBERIA\",\"LIBYA\",\"MADAGASCAR\",\"MALAWI\",\"MALAYSIA\",\"MALDIVES\",\"MALI\",\"MARSHALL ISLANDS\",\"MAURITANIA\",\"MAURITIUS\",\"MEXICO\",\"MONGOLIA\",\"MONTENEGRO\",\"MOROCCO\",\"MOZAMBIQUE\",\"MYANMAR\",\"NAMIBIA\",\"NAURU\",\"NEPAL\",\"NICARAGUA\",\"NIGER (THE)\",\"NIGERIA\",\"NORTH MACEDONIA\",\"OMAN\",\"PAKISTAN\",\"PANAMA\",\"PAPUA NEW GUINEA\",\"PARAGUAY\",\"PERU\",\"PHILIPPINES (THE)\",\"POLAND\",\"QATAR\",\"REPUBLIC OF KOREA (THE)\",\"REPUBLIC OF MOLDOVA (THE)\",\"ROMANIA\",\"RWANDA\",\"SAINT LUCIA\",\"SAMOA\",\"SAO TOME AND PRINCIPE\",\"SAUDI ARABIA\",\"SENEGAL\",\"SERBIA\",\"SEYCHELLES\",\"SIERRA LEONE\",\"SINGAPORE\",\"SOLOMON ISLANDS\",\"SOMALIA\",\"SOUTH AFRICA\",\"SOUTH SUDAN\",\"SRI LANKA\",\"STATE OF PALESTINE\",\"SUDAN (THE)\",\"SURINAME\",\"SYRIAN ARAB REPUBLIC (THE)\",\"TAJIKISTAN\",\"THAILAND\",\"TIMOR-LESTE\",\"TOGO\",\"TONGA\",\"TRINIDAD AND TOBAGO\",\"TUNISIA\",\"TURKEY\",\"TURKMENISTAN\",\"TUVALU\",\"UGANDA\",\"UKRAINE\",\"UNITED REPUBLIC OF TANZANIA (THE)\",\"UNITED STATES OF AMERICA (THE)\",\"URUGUAY\",\"UZBEKISTAN\",\"VANUATU\",\"VENEZUELA (BOLIVARIAN REPUBLIC OF)\",\"VIET NAM\",\"YEMEN\",\"ZAMBIA\",\"ZIMBABWE\"],\"z\":[3.033333333333333,4.075,2.733333333333333,2.4,0.2,1.6,0.0,2.575,null,2.813636363636364,2.0,0.6,0.8333333333333334,2.425,1.4,0.7000000000000001,2.2,2.85,0.7,0.4,1.5333333333333332,4.1692307692307695,1.2600000000000002,null,3.483333333333334,1.8142857142857145,null,3.16,5.5,null,0.9199999999999996,0.3666666666666667,5.4,2.4333333333333336,null,2.6,null,1.0,1.275,4.15,9.4,0.7428571428571429,0.58,2.4875000000000003,0.4333333333333333,2.425,4.633333333333333,0.5999999999999999,3.016666666666666,2.0,1.4,2.085714285714286,0.8500000000000001,0.1,2.011111111111111,0.8571428571428571,3.242857142857143,2.9250000000000003,2.45,1.98,0.275,6.116666666666667,4.171428571428572,1.4,2.175,0.9210526315789472,0.2,0.7600000000000001,1.58,2.3625000000000003,null,0.6285714285714284,0.8166666666666668,3.2,2.25,1.62,1.7799999999999998,3.233333333333333,2.24,1.6076923076923082,null,4.725,4.457142857142856,1.1,3.975,null,0.6499999999999999,0.9625,1.7000000000000002,1.95,2.566666666666667,2.5,2.75,0.2,2.5285714285714285,0.75,4.33,4.379999999999999,0.6333333333333334,1.6800000000000002,4.5,0.3333333333333333,2.8000000000000003,0.3333333333333333,0.2133333333333333,1.92,null,null,0.15,1.45,0.9000000000000001,1.425,0.7,1.3,2.333333333333333,4.5,1.825,1.2333333333333334,1.2,3.075,0.5,2.333333333333333,4.35,2.92,11.4,2.45,0.8499999999999999,4.766666666666667,1.2666666666666666,5.05,2.483333333333333,1.475,4.775,2.0375,2.1,1.4,1.1,0.6,1.6,0.9,1.3333333333333337,3.8,1.5,0.04,0.65,2.975,1.7,null,2.3312500000000003,5.3,2.042857142857143,1.3888888888888888],\"type\":\"choropleth\"}],                        {\"geo\":{\"scope\":\"world\"},\"title\":{\"text\":\"Severe Wasting % around the world\"},\"template\":{\"data\":{\"histogram2dcontour\":[{\"type\":\"histogram2dcontour\",\"colorbar\":{\"outlinewidth\":0,\"ticks\":\"\"},\"colorscale\":[[0.0,\"#0d0887\"],[0.1111111111111111,\"#46039f\"],[0.2222222222222222,\"#7201a8\"],[0.3333333333333333,\"#9c179e\"],[0.4444444444444444,\"#bd3786\"],[0.5555555555555556,\"#d8576b\"],[0.6666666666666666,\"#ed7953\"],[0.7777777777777778,\"#fb9f3a\"],[0.8888888888888888,\"#fdca26\"],[1.0,\"#f0f921\"]]}],\"choropleth\":[{\"type\":\"choropleth\",\"colorbar\":{\"outlinewidth\":0,\"ticks\":\"\"}}],\"histogram2d\":[{\"type\":\"histogram2d\",\"colorbar\":{\"outlinewidth\":0,\"ticks\":\"\"},\"colorscale\":[[0.0,\"#0d0887\"],[0.1111111111111111,\"#46039f\"],[0.2222222222222222,\"#7201a8\"],[0.3333333333333333,\"#9c179e\"],[0.4444444444444444,\"#bd3786\"],[0.5555555555555556,\"#d8576b\"],[0.6666666666666666,\"#ed7953\"],[0.7777777777777778,\"#fb9f3a\"],[0.8888888888888888,\"#fdca26\"],[1.0,\"#f0f921\"]]}],\"heatmap\":[{\"type\":\"heatmap\",\"colorbar\":{\"outlinewidth\":0,\"ticks\":\"\"},\"colorscale\":[[0.0,\"#0d0887\"],[0.1111111111111111,\"#46039f\"],[0.2222222222222222,\"#7201a8\"],[0.3333333333333333,\"#9c179e\"],[0.4444444444444444,\"#bd3786\"],[0.5555555555555556,\"#d8576b\"],[0.6666666666666666,\"#ed7953\"],[0.7777777777777778,\"#fb9f3a\"],[0.8888888888888888,\"#fdca26\"],[1.0,\"#f0f921\"]]}],\"heatmapgl\":[{\"type\":\"heatmapgl\",\"colorbar\":{\"outlinewidth\":0,\"ticks\":\"\"},\"colorscale\":[[0.0,\"#0d0887\"],[0.1111111111111111,\"#46039f\"],[0.2222222222222222,\"#7201a8\"],[0.3333333333333333,\"#9c179e\"],[0.4444444444444444,\"#bd3786\"],[0.5555555555555556,\"#d8576b\"],[0.6666666666666666,\"#ed7953\"],[0.7777777777777778,\"#fb9f3a\"],[0.8888888888888888,\"#fdca26\"],[1.0,\"#f0f921\"]]}],\"contourcarpet\":[{\"type\":\"contourcarpet\",\"colorbar\":{\"outlinewidth\":0,\"ticks\":\"\"}}],\"contour\":[{\"type\":\"contour\",\"colorbar\":{\"outlinewidth\":0,\"ticks\":\"\"},\"colorscale\":[[0.0,\"#0d0887\"],[0.1111111111111111,\"#46039f\"],[0.2222222222222222,\"#7201a8\"],[0.3333333333333333,\"#9c179e\"],[0.4444444444444444,\"#bd3786\"],[0.5555555555555556,\"#d8576b\"],[0.6666666666666666,\"#ed7953\"],[0.7777777777777778,\"#fb9f3a\"],[0.8888888888888888,\"#fdca26\"],[1.0,\"#f0f921\"]]}],\"surface\":[{\"type\":\"surface\",\"colorbar\":{\"outlinewidth\":0,\"ticks\":\"\"},\"colorscale\":[[0.0,\"#0d0887\"],[0.1111111111111111,\"#46039f\"],[0.2222222222222222,\"#7201a8\"],[0.3333333333333333,\"#9c179e\"],[0.4444444444444444,\"#bd3786\"],[0.5555555555555556,\"#d8576b\"],[0.6666666666666666,\"#ed7953\"],[0.7777777777777778,\"#fb9f3a\"],[0.8888888888888888,\"#fdca26\"],[1.0,\"#f0f921\"]]}],\"mesh3d\":[{\"type\":\"mesh3d\",\"colorbar\":{\"outlinewidth\":0,\"ticks\":\"\"}}],\"scatter\":[{\"fillpattern\":{\"fillmode\":\"overlay\",\"size\":10,\"solidity\":0.2},\"type\":\"scatter\"}],\"parcoords\":[{\"type\":\"parcoords\",\"line\":{\"colorbar\":{\"outlinewidth\":0,\"ticks\":\"\"}}}],\"scatterpolargl\":[{\"type\":\"scatterpolargl\",\"marker\":{\"colorbar\":{\"outlinewidth\":0,\"ticks\":\"\"}}}],\"bar\":[{\"error_x\":{\"color\":\"#2a3f5f\"},\"error_y\":{\"color\":\"#2a3f5f\"},\"marker\":{\"line\":{\"color\":\"#E5ECF6\",\"width\":0.5},\"pattern\":{\"fillmode\":\"overlay\",\"size\":10,\"solidity\":0.2}},\"type\":\"bar\"}],\"scattergeo\":[{\"type\":\"scattergeo\",\"marker\":{\"colorbar\":{\"outlinewidth\":0,\"ticks\":\"\"}}}],\"scatterpolar\":[{\"type\":\"scatterpolar\",\"marker\":{\"colorbar\":{\"outlinewidth\":0,\"ticks\":\"\"}}}],\"histogram\":[{\"marker\":{\"pattern\":{\"fillmode\":\"overlay\",\"size\":10,\"solidity\":0.2}},\"type\":\"histogram\"}],\"scattergl\":[{\"type\":\"scattergl\",\"marker\":{\"colorbar\":{\"outlinewidth\":0,\"ticks\":\"\"}}}],\"scatter3d\":[{\"type\":\"scatter3d\",\"line\":{\"colorbar\":{\"outlinewidth\":0,\"ticks\":\"\"}},\"marker\":{\"colorbar\":{\"outlinewidth\":0,\"ticks\":\"\"}}}],\"scattermapbox\":[{\"type\":\"scattermapbox\",\"marker\":{\"colorbar\":{\"outlinewidth\":0,\"ticks\":\"\"}}}],\"scatterternary\":[{\"type\":\"scatterternary\",\"marker\":{\"colorbar\":{\"outlinewidth\":0,\"ticks\":\"\"}}}],\"scattercarpet\":[{\"type\":\"scattercarpet\",\"marker\":{\"colorbar\":{\"outlinewidth\":0,\"ticks\":\"\"}}}],\"carpet\":[{\"aaxis\":{\"endlinecolor\":\"#2a3f5f\",\"gridcolor\":\"white\",\"linecolor\":\"white\",\"minorgridcolor\":\"white\",\"startlinecolor\":\"#2a3f5f\"},\"baxis\":{\"endlinecolor\":\"#2a3f5f\",\"gridcolor\":\"white\",\"linecolor\":\"white\",\"minorgridcolor\":\"white\",\"startlinecolor\":\"#2a3f5f\"},\"type\":\"carpet\"}],\"table\":[{\"cells\":{\"fill\":{\"color\":\"#EBF0F8\"},\"line\":{\"color\":\"white\"}},\"header\":{\"fill\":{\"color\":\"#C8D4E3\"},\"line\":{\"color\":\"white\"}},\"type\":\"table\"}],\"barpolar\":[{\"marker\":{\"line\":{\"color\":\"#E5ECF6\",\"width\":0.5},\"pattern\":{\"fillmode\":\"overlay\",\"size\":10,\"solidity\":0.2}},\"type\":\"barpolar\"}],\"pie\":[{\"automargin\":true,\"type\":\"pie\"}]},\"layout\":{\"autotypenumbers\":\"strict\",\"colorway\":[\"#636efa\",\"#EF553B\",\"#00cc96\",\"#ab63fa\",\"#FFA15A\",\"#19d3f3\",\"#FF6692\",\"#B6E880\",\"#FF97FF\",\"#FECB52\"],\"font\":{\"color\":\"#2a3f5f\"},\"hovermode\":\"closest\",\"hoverlabel\":{\"align\":\"left\"},\"paper_bgcolor\":\"white\",\"plot_bgcolor\":\"#E5ECF6\",\"polar\":{\"bgcolor\":\"#E5ECF6\",\"angularaxis\":{\"gridcolor\":\"white\",\"linecolor\":\"white\",\"ticks\":\"\"},\"radialaxis\":{\"gridcolor\":\"white\",\"linecolor\":\"white\",\"ticks\":\"\"}},\"ternary\":{\"bgcolor\":\"#E5ECF6\",\"aaxis\":{\"gridcolor\":\"white\",\"linecolor\":\"white\",\"ticks\":\"\"},\"baxis\":{\"gridcolor\":\"white\",\"linecolor\":\"white\",\"ticks\":\"\"},\"caxis\":{\"gridcolor\":\"white\",\"linecolor\":\"white\",\"ticks\":\"\"}},\"coloraxis\":{\"colorbar\":{\"outlinewidth\":0,\"ticks\":\"\"}},\"colorscale\":{\"sequential\":[[0.0,\"#0d0887\"],[0.1111111111111111,\"#46039f\"],[0.2222222222222222,\"#7201a8\"],[0.3333333333333333,\"#9c179e\"],[0.4444444444444444,\"#bd3786\"],[0.5555555555555556,\"#d8576b\"],[0.6666666666666666,\"#ed7953\"],[0.7777777777777778,\"#fb9f3a\"],[0.8888888888888888,\"#fdca26\"],[1.0,\"#f0f921\"]],\"sequentialminus\":[[0.0,\"#0d0887\"],[0.1111111111111111,\"#46039f\"],[0.2222222222222222,\"#7201a8\"],[0.3333333333333333,\"#9c179e\"],[0.4444444444444444,\"#bd3786\"],[0.5555555555555556,\"#d8576b\"],[0.6666666666666666,\"#ed7953\"],[0.7777777777777778,\"#fb9f3a\"],[0.8888888888888888,\"#fdca26\"],[1.0,\"#f0f921\"]],\"diverging\":[[0,\"#8e0152\"],[0.1,\"#c51b7d\"],[0.2,\"#de77ae\"],[0.3,\"#f1b6da\"],[0.4,\"#fde0ef\"],[0.5,\"#f7f7f7\"],[0.6,\"#e6f5d0\"],[0.7,\"#b8e186\"],[0.8,\"#7fbc41\"],[0.9,\"#4d9221\"],[1,\"#276419\"]]},\"xaxis\":{\"gridcolor\":\"white\",\"linecolor\":\"white\",\"ticks\":\"\",\"title\":{\"standoff\":15},\"zerolinecolor\":\"white\",\"automargin\":true,\"zerolinewidth\":2},\"yaxis\":{\"gridcolor\":\"white\",\"linecolor\":\"white\",\"ticks\":\"\",\"title\":{\"standoff\":15},\"zerolinecolor\":\"white\",\"automargin\":true,\"zerolinewidth\":2},\"scene\":{\"xaxis\":{\"backgroundcolor\":\"#E5ECF6\",\"gridcolor\":\"white\",\"linecolor\":\"white\",\"showbackground\":true,\"ticks\":\"\",\"zerolinecolor\":\"white\",\"gridwidth\":2},\"yaxis\":{\"backgroundcolor\":\"#E5ECF6\",\"gridcolor\":\"white\",\"linecolor\":\"white\",\"showbackground\":true,\"ticks\":\"\",\"zerolinecolor\":\"white\",\"gridwidth\":2},\"zaxis\":{\"backgroundcolor\":\"#E5ECF6\",\"gridcolor\":\"white\",\"linecolor\":\"white\",\"showbackground\":true,\"ticks\":\"\",\"zerolinecolor\":\"white\",\"gridwidth\":2}},\"shapedefaults\":{\"line\":{\"color\":\"#2a3f5f\"}},\"annotationdefaults\":{\"arrowcolor\":\"#2a3f5f\",\"arrowhead\":0,\"arrowwidth\":1},\"geo\":{\"bgcolor\":\"white\",\"landcolor\":\"#E5ECF6\",\"subunitcolor\":\"white\",\"showland\":true,\"showlakes\":true,\"lakecolor\":\"white\"},\"title\":{\"x\":0.05},\"mapbox\":{\"style\":\"light\"}}}},                        {\"responsive\": true}                    ).then(function(){\n",
       "                            \n",
       "var gd = document.getElementById('31e1c84b-4928-4c7d-bdd6-df63fbaa7d9c');\n",
       "var x = new MutationObserver(function (mutations, observer) {{\n",
       "        var display = window.getComputedStyle(gd).display;\n",
       "        if (!display || display === 'none') {{\n",
       "            console.log([gd, 'removed!']);\n",
       "            Plotly.purge(gd);\n",
       "            observer.disconnect();\n",
       "        }}\n",
       "}});\n",
       "\n",
       "// Listen for the removal of the full notebook cells\n",
       "var notebookContainer = gd.closest('#notebook-container');\n",
       "if (notebookContainer) {{\n",
       "    x.observe(notebookContainer, {childList: true});\n",
       "}}\n",
       "\n",
       "// Listen for the clearing of the current output cell\n",
       "var outputEl = gd.closest('.output');\n",
       "if (outputEl) {{\n",
       "    x.observe(outputEl, {childList: true});\n",
       "}}\n",
       "\n",
       "                        })                };                });            </script>        </div>"
      ]
     },
     "metadata": {},
     "output_type": "display_data"
    }
   ],
   "source": [
    "#Plotting on the WorldMap using plotly\n",
    "x = df_country.groupby([\"Country\"])[\"Severe Wasting\"].mean()\n",
    "data = dict(type = 'choropleth',\n",
    "            locations = x.index,\n",
    "            locationmode = 'country names',\n",
    "            colorscale= 'Portland',\n",
    "            text= x.index,\n",
    "            z=x,\n",
    "            colorbar = {'title':'Severe Wasting %', 'len':100,'lenmode':'pixels' })\n",
    "layout = dict(geo = {'scope':'world'},title=\"Severe Wasting % around the world\")\n",
    "col_map = go.Figure(data = [data],layout = layout)\n",
    "col_map.show()"
   ]
  },
  {
   "cell_type": "code",
   "execution_count": 109,
   "id": "51b62e2a",
   "metadata": {},
   "outputs": [
    {
     "data": {
      "text/plain": [
       "(array([0, 1, 2, 3]),\n",
       " [Text(0, 0, '0'), Text(1, 0, '1'), Text(2, 0, '2'), Text(3, 0, '3')])"
      ]
     },
     "execution_count": 109,
     "metadata": {},
     "output_type": "execute_result"
    },
    {
     "data": {
      "image/png": "[encoded data removed]",
      "text/plain": [
       "<Figure size 1600x800 with 1 Axes>"
      ]
     },
     "metadata": {},
     "output_type": "display_data"
    }
   ],
   "source": [
    "plt.figure(figsize=(16, 8))\n",
    "x = df_country.groupby([\"Income Classification\"])[\"Wasting\"].mean()\n",
    "sns.set(style=\"whitegrid\")\n",
    "ax = sns.barplot(x=x.index, y=x)\n",
    "ax.set_title('Wasting')\n",
    "ax.set_ylabel('% Wasting')\n",
    "ax.set_xlabel('Income Classification')\n",
    "plt.xticks(rotation = 90)"
   ]
  },
  {
   "cell_type": "code",
   "execution_count": 110,
   "id": "3e422e26",
   "metadata": {},
   "outputs": [
    {
     "data": {
      "application/vnd.plotly.v1+json": {
       "config": {
        "plotlyServerURL": "https://plot.ly"
       },
       "data": [
        {
         "colorbar": {
          "len": 200,
          "lenmode": "pixels",
          "title": {
           "text": "Wasting %"
          }
         },
         "colorscale": [
          [
           0,
           "rgb(12,51,131)"
          ],
          [
           0.25,
           "rgb(10,136,186)"
          ],
          [
           0.5,
           "rgb(242,211,56)"
          ],
          [
           0.75,
           "rgb(242,143,56)"
          ],
          [
           1,
           "rgb(217,30,30)"
          ]
         ],
         "locationmode": "country names",
         "locations": [
          "AFGHANISTAN",
          "ALBANIA",
          "ALGERIA",
          "ANGOLA",
          "ARGENTINA",
          "ARMENIA",
          "AUSTRALIA",
          "AZERBAIJAN",
          "BAHRAIN",
          "BANGLADESH",
          "BARBADOS",
          "BELARUS",
          "BELIZE",
          "BENIN",
          "BHUTAN",
          "BOLIVIA (PLURINATIONAL STATE OF)",
          "BOSNIA AND HERZEGOVINA",
          "BOTSWANA",
          "BRAZIL",
          "BRUNEI DARUSSALAM",
          "BULGARIA",
          "BURKINA FASO",
          "BURUNDI",
          "CABO VERDE",
          "CAMBODIA",
          "CAMEROON",
          "CANADA",
          "CENTRAL AFRICAN REPUBLIC (THE)",
          "CHAD",
          "CHILE",
          "CHINA",
          "COLOMBIA",
          "COMOROS (THE)",
          "CONGO (THE)",
          "COSTA RICA",
          "COTE D'IVOIRE",
          "CUBA",
          "CZECHIA",
          "DEMOCRATIC PEOPLE'S REP. OF KOREA (THE)",
          "DEMOCRATIC REP. OF THE CONGO (THE)",
          "DJIBOUTI",
          "DOMINICAN REPUBLIC (THE)",
          "ECUADOR",
          "EGYPT",
          "EL SALVADOR",
          "EQUATORIAL GUINEA",
          "ERITREA",
          "ESWATINI",
          "ETHIOPIA",
          "FIJI",
          "GABON",
          "GAMBIA (THE)",
          "GEORGIA",
          "GERMANY",
          "GHANA",
          "GUATEMALA",
          "GUINEA",
          "GUINEA-BISSAU",
          "GUYANA",
          "HAITI",
          "HONDURAS",
          "INDIA",
          "INDONESIA",
          "IRAN (ISLAMIC REPUBLIC OF)",
          "IRAQ",
          "JAMAICA",
          "JAPAN",
          "JORDAN",
          "KAZAKHSTAN",
          "KENYA",
          "KIRIBATI",
          "KUWAIT",
          "KYRGYZSTAN",
          "LAO PEOPLE'S DEMOCRATIC REP. (THE)",
          "LEBANON",
          "LESOTHO",
          "LIBERIA",
          "LIBYA",
          "MADAGASCAR",
          "MALAWI",
          "MALAYSIA",
          "MALDIVES",
          "MALI",
          "MARSHALL ISLANDS",
          "MAURITANIA",
          "MAURITIUS",
          "MEXICO",
          "MONGOLIA",
          "MONTENEGRO",
          "MOROCCO",
          "MOZAMBIQUE",
          "MYANMAR",
          "NAMIBIA",
          "NAURU",
          "NEPAL",
          "NICARAGUA",
          "NIGER (THE)",
          "NIGERIA",
          "NORTH MACEDONIA",
          "OMAN",
          "PAKISTAN",
          "PANAMA",
          "PAPUA NEW GUINEA",
          "PARAGUAY",
          "PERU",
          "PHILIPPINES (THE)",
          "POLAND",
          "QATAR",
          "REPUBLIC OF KOREA (THE)",
          "REPUBLIC OF MOLDOVA (THE)",
          "ROMANIA",
          "RWANDA",
          "SAINT LUCIA",
          "SAMOA",
          "SAO TOME AND PRINCIPE",
          "SAUDI ARABIA",
          "SENEGAL",
          "SERBIA",
          "SEYCHELLES",
          "SIERRA LEONE",
          "SINGAPORE",
          "SOLOMON ISLANDS",
          "SOMALIA",
          "SOUTH AFRICA",
          "SOUTH SUDAN",
          "SRI LANKA",
          "STATE OF PALESTINE",
          "SUDAN (THE)",
          "SURINAME",
          "SYRIAN ARAB REPUBLIC (THE)",
          "TAJIKISTAN",
          "THAILAND",
          "TIMOR-LESTE",
          "TOGO",
          "TONGA",
          "TRINIDAD AND TOBAGO",
          "TUNISIA",
          "TURKEY",
          "TURKMENISTAN",
          "TUVALU",
          "UGANDA",
          "UKRAINE",
          "UNITED REPUBLIC OF TANZANIA (THE)",
          "UNITED STATES OF AMERICA (THE)",
          "URUGUAY",
          "UZBEKISTAN",
          "VANUATU",
          "VENEZUELA (BOLIVARIAN REPUBLIC OF)",
          "VIET NAM",
          "YEMEN",
          "ZAMBIA",
          "ZIMBABWE"
         ],
         "text": [
          "AFGHANISTAN",
          "ALBANIA",
          "ALGERIA",
          "ANGOLA",
          "ARGENTINA",
          "ARMENIA",
          "AUSTRALIA",
          "AZERBAIJAN",
          "BAHRAIN",
          "BANGLADESH",
          "BARBADOS",
          "BELARUS",
          "BELIZE",
          "BENIN",
          "BHUTAN",
          "BOLIVIA (PLURINATIONAL STATE OF)",
          "BOSNIA AND HERZEGOVINA",
          "BOTSWANA",
          "BRAZIL",
          "BRUNEI DARUSSALAM",
          "BULGARIA",
          "BURKINA FASO",
          "BURUNDI",
          "CABO VERDE",
          "CAMBODIA",
          "CAMEROON",
          "CANADA",
          "CENTRAL AFRICAN REPUBLIC (THE)",
          "CHAD",
          "CHILE",
          "CHINA",
          "COLOMBIA",
          "COMOROS (THE)",
          "CONGO (THE)",
          "COSTA RICA",
          "COTE D'IVOIRE",
          "CUBA",
          "CZECHIA",
          "DEMOCRATIC PEOPLE'S REP. OF KOREA (THE)",
          "DEMOCRATIC REP. OF THE CONGO (THE)",
          "DJIBOUTI",
          "DOMINICAN REPUBLIC (THE)",
          "ECUADOR",
          "EGYPT",
          "EL SALVADOR",
          "EQUATORIAL GUINEA",
          "ERITREA",
          "ESWATINI",
          "ETHIOPIA",
          "FIJI",
          "GABON",
          "GAMBIA (THE)",
          "GEORGIA",
          "GERMANY",
          "GHANA",
          "GUATEMALA",
          "GUINEA",
          "GUINEA-BISSAU",
          "GUYANA",
          "HAITI",
          "HONDURAS",
          "INDIA",
          "INDONESIA",
          "IRAN (ISLAMIC REPUBLIC OF)",
          "IRAQ",
          "JAMAICA",
          "JAPAN",
          "JORDAN",
          "KAZAKHSTAN",
          "KENYA",
          "KIRIBATI",
          "KUWAIT",
          "KYRGYZSTAN",
          "LAO PEOPLE'S DEMOCRATIC REP. (THE)",
          "LEBANON",
          "LESOTHO",
          "LIBERIA",
          "LIBYA",
          "MADAGASCAR",
          "MALAWI",
          "MALAYSIA",
          "MALDIVES",
          "MALI",
          "MARSHALL ISLANDS",
          "MAURITANIA",
          "MAURITIUS",
          "MEXICO",
          "MONGOLIA",
          "MONTENEGRO",
          "MOROCCO",
          "MOZAMBIQUE",
          "MYANMAR",
          "NAMIBIA",
          "NAURU",
          "NEPAL",
          "NICARAGUA",
          "NIGER (THE)",
          "NIGERIA",
          "NORTH MACEDONIA",
          "OMAN",
          "PAKISTAN",
          "PANAMA",
          "PAPUA NEW GUINEA",
          "PARAGUAY",
          "PERU",
          "PHILIPPINES (THE)",
          "POLAND",
          "QATAR",
          "REPUBLIC OF KOREA (THE)",
          "REPUBLIC OF MOLDOVA (THE)",
          "ROMANIA",
          "RWANDA",
          "SAINT LUCIA",
          "SAMOA",
          "SAO TOME AND PRINCIPE",
          "SAUDI ARABIA",
          "SENEGAL",
          "SERBIA",
          "SEYCHELLES",
          "SIERRA LEONE",
          "SINGAPORE",
          "SOLOMON ISLANDS",
          "SOMALIA",
          "SOUTH AFRICA",
          "SOUTH SUDAN",
          "SRI LANKA",
          "STATE OF PALESTINE",
          "SUDAN (THE)",
          "SURINAME",
          "SYRIAN ARAB REPUBLIC (THE)",
          "TAJIKISTAN",
          "THAILAND",
          "TIMOR-LESTE",
          "TOGO",
          "TONGA",
          "TRINIDAD AND TOBAGO",
          "TUNISIA",
          "TURKEY",
          "TURKMENISTAN",
          "TUVALU",
          "UGANDA",
          "UKRAINE",
          "UNITED REPUBLIC OF TANZANIA (THE)",
          "UNITED STATES OF AMERICA (THE)",
          "URUGUAY",
          "UZBEKISTAN",
          "VANUATU",
          "VENEZUELA (BOLIVARIAN REPUBLIC OF)",
          "VIET NAM",
          "YEMEN",
          "ZAMBIA",
          "ZIMBABWE"
         ],
         "type": "choropleth",
         "z": [
          10.35,
          7.76,
          5.942857142857143,
          6.933333333333333,
          2.1500000000000004,
          3.94,
          0,
          5.433333333333334,
          6.699999999999999,
          14.5375,
          6.8,
          2.2,
          2.333333333333333,
          7.7,
          4.525,
          1.9,
          4.566666666666666,
          8.8,
          2.3,
          2.9,
          4.666666666666667,
          12.73076923076923,
          6.666666666666667,
          5.550000000000001,
          11.466666666666669,
          5.671428571428571,
          null,
          8.766666666666667,
          15.239999999999998,
          0.4666666666666667,
          3.1749999999999994,
          1.657142857142857,
          10.125,
          7.2,
          1.7,
          8.8,
          2.4,
          3.7,
          8.842857142857143,
          10.86,
          17.075,
          2.2125,
          2.183333333333333,
          5.79,
          1.7,
          4.775,
          14.6,
          1.7,
          9.957142857142856,
          8.05,
          3.8,
          8.385714285714286,
          2.5666666666666664,
          0.65,
          7.622222222222222,
          2.2857142857142856,
          9.425,
          8.125,
          9.12,
          6.616666666666667,
          1.828571428571429,
          18.766666666666666,
          11.375,
          5.75,
          5.542857142857143,
          3.3950000000000005,
          2.3,
          2.58,
          4.2,
          6.466666666666667,
          12.6,
          2.5222222222222226,
          2.533333333333333,
          10.514285714285714,
          5.1,
          6.671428571428571,
          5.84,
          6.766666666666666,
          9.957142857142856,
          4.64,
          11.6,
          15.779999999999998,
          13.242857142857144,
          3.5,
          13.41,
          17,
          3.825,
          2.444444444444444,
          3.5,
          4.483333333333333,
          6.8,
          9.771428571428572,
          8.575000000000001,
          1,
          10.325,
          2.033333333333333,
          15.936363636363636,
          12.045454545454549,
          2.3,
          7.783333333333334,
          14.314285714285711,
          1.366666666666667,
          8,
          1.3250000000000002,
          0.7933333333333332,
          7.127272727272726,
          null,
          2.1,
          1.05,
          3.85,
          3.72,
          4.866666666666666,
          3.7,
          2.6,
          7.0200000000000005,
          7.35,
          8.27142857142857,
          3.966666666666667,
          3.5,
          8.610000000000001,
          3.6,
          6.733333333333333,
          15.633333333333336,
          5.371428571428572,
          23.65,
          15.7625,
          3.733333333333334,
          15.4,
          5.633333333333333,
          9.566666666666665,
          8.290909090909091,
          6.083333333333333,
          15.62,
          7.712499999999999,
          3.25,
          5.466666666666666,
          3.583333333333334,
          2.1,
          6.166666666666667,
          3.3,
          4.522222222222222,
          8.2,
          5.054545454545454,
          0.5142857142857143,
          2.3833333333333333,
          6.4750000000000005,
          5.8,
          4.333333333333333,
          8.661904761904761,
          15.242857142857142,
          5.542857142857144,
          4.166666666666666
         ]
        }
       ],
       "layout": {
        "geo": {
         "scope": "world"
        },
        "template": {
         "data": {
          "bar": [
           {
            "error_x": {
             "color": "#2a3f5f"
            },
            "error_y": {
             "color": "#2a3f5f"
            },
            "marker": {
             "line": {
              "color": "#E5ECF6",
              "width": 0.5
             },
             "pattern": {
              "fillmode": "overlay",
              "size": 10,
              "solidity": 0.2
             }
            },
            "type": "bar"
           }
          ],
          "barpolar": [
           {
            "marker": {
             "line": {
              "color": "#E5ECF6",
              "width": 0.5
             },
             "pattern": {
              "fillmode": "overlay",
              "size": 10,
              "solidity": 0.2
             }
            },
            "type": "barpolar"
           }
          ],
          "carpet": [
           {
            "aaxis": {
             "endlinecolor": "#2a3f5f",
             "gridcolor": "white",
             "linecolor": "white",
             "minorgridcolor": "white",
             "startlinecolor": "#2a3f5f"
            },
            "baxis": {
             "endlinecolor": "#2a3f5f",
             "gridcolor": "white",
             "linecolor": "white",
             "minorgridcolor": "white",
             "startlinecolor": "#2a3f5f"
            },
            "type": "carpet"
           }
          ],
          "choropleth": [
           {
            "colorbar": {
             "outlinewidth": 0,
             "ticks": ""
            },
            "type": "choropleth"
           }
          ],
          "contour": [
           {
            "colorbar": {
             "outlinewidth": 0,
             "ticks": ""
            },
            "colorscale": [
             [
              0,
              "#0d0887"
             ],
             [
              0.1111111111111111,
              "#46039f"
             ],
             [
              0.2222222222222222,
              "#7201a8"
             ],
             [
              0.3333333333333333,
              "#9c179e"
             ],
             [
              0.4444444444444444,
              "#bd3786"
             ],
             [
              0.5555555555555556,
              "#d8576b"
             ],
             [
              0.6666666666666666,
              "#ed7953"
             ],
             [
              0.7777777777777778,
              "#fb9f3a"
             ],
             [
              0.8888888888888888,
              "#fdca26"
             ],
             [
              1,
              "#f0f921"
             ]
            ],
            "type": "contour"
           }
          ],
          "contourcarpet": [
           {
            "colorbar": {
             "outlinewidth": 0,
             "ticks": ""
            },
            "type": "contourcarpet"
           }
          ],
          "heatmap": [
           {
            "colorbar": {
             "outlinewidth": 0,
             "ticks": ""
            },
            "colorscale": [
             [
              0,
              "#0d0887"
             ],
             [
              0.1111111111111111,
              "#46039f"
             ],
             [
              0.2222222222222222,
              "#7201a8"
             ],
             [
              0.3333333333333333,
              "#9c179e"
             ],
             [
              0.4444444444444444,
              "#bd3786"
             ],
             [
              0.5555555555555556,
              "#d8576b"
             ],
             [
              0.6666666666666666,
              "#ed7953"
             ],
             [
              0.7777777777777778,
              "#fb9f3a"
             ],
             [
              0.8888888888888888,
              "#fdca26"
             ],
             [
              1,
              "#f0f921"
             ]
            ],
            "type": "heatmap"
           }
          ],
          "heatmapgl": [
           {
            "colorbar": {
             "outlinewidth": 0,
             "ticks": ""
            },
            "colorscale": [
             [
              0,
              "#0d0887"
             ],
             [
              0.1111111111111111,
              "#46039f"
             ],
             [
              0.2222222222222222,
              "#7201a8"
             ],
             [
              0.3333333333333333,
              "#9c179e"
             ],
             [
              0.4444444444444444,
              "#bd3786"
             ],
             [
              0.5555555555555556,
              "#d8576b"
             ],
             [
              0.6666666666666666,
              "#ed7953"
             ],
             [
              0.7777777777777778,
              "#fb9f3a"
             ],
             [
              0.8888888888888888,
              "#fdca26"
             ],
             [
              1,
              "#f0f921"
             ]
            ],
            "type": "heatmapgl"
           }
          ],
          "histogram": [
           {
            "marker": {
             "pattern": {
              "fillmode": "overlay",
              "size": 10,
              "solidity": 0.2
             }
            },
            "type": "histogram"
           }
          ],
          "histogram2d": [
           {
            "colorbar": {
             "outlinewidth": 0,
             "ticks": ""
            },
            "colorscale": [
             [
              0,
              "#0d0887"
             ],
             [
              0.1111111111111111,
              "#46039f"
             ],
             [
              0.2222222222222222,
              "#7201a8"
             ],
             [
              0.3333333333333333,
              "#9c179e"
             ],
             [
              0.4444444444444444,
              "#bd3786"
             ],
             [
              0.5555555555555556,
              "#d8576b"
             ],
             [
              0.6666666666666666,
              "#ed7953"
             ],
             [
              0.7777777777777778,
              "#fb9f3a"
             ],
             [
              0.8888888888888888,
              "#fdca26"
             ],
             [
              1,
              "#f0f921"
             ]
            ],
            "type": "histogram2d"
           }
          ],
          "histogram2dcontour": [
           {
            "colorbar": {
             "outlinewidth": 0,
             "ticks": ""
            },
            "colorscale": [
             [
              0,
              "#0d0887"
             ],
             [
              0.1111111111111111,
              "#46039f"
             ],
             [
              0.2222222222222222,
              "#7201a8"
             ],
             [
              0.3333333333333333,
              "#9c179e"
             ],
             [
              0.4444444444444444,
              "#bd3786"
             ],
             [
              0.5555555555555556,
              "#d8576b"
             ],
             [
              0.6666666666666666,
              "#ed7953"
             ],
             [
              0.7777777777777778,
              "#fb9f3a"
             ],
             [
              0.8888888888888888,
              "#fdca26"
             ],
             [
              1,
              "#f0f921"
             ]
            ],
            "type": "histogram2dcontour"
           }
          ],
          "mesh3d": [
           {
            "colorbar": {
             "outlinewidth": 0,
             "ticks": ""
            },
            "type": "mesh3d"
           }
          ],
          "parcoords": [
           {
            "line": {
             "colorbar": {
              "outlinewidth": 0,
              "ticks": ""
             }
            },
            "type": "parcoords"
           }
          ],
          "pie": [
           {
            "automargin": true,
            "type": "pie"
           }
          ],
          "scatter": [
           {
            "fillpattern": {
             "fillmode": "overlay",
             "size": 10,
             "solidity": 0.2
            },
            "type": "scatter"
           }
          ],
          "scatter3d": [
           {
            "line": {
             "colorbar": {
              "outlinewidth": 0,
              "ticks": ""
             }
            },
            "marker": {
             "colorbar": {
              "outlinewidth": 0,
              "ticks": ""
             }
            },
            "type": "scatter3d"
           }
          ],
          "scattercarpet": [
           {
            "marker": {
             "colorbar": {
              "outlinewidth": 0,
              "ticks": ""
             }
            },
            "type": "scattercarpet"
           }
          ],
          "scattergeo": [
           {
            "marker": {
             "colorbar": {
              "outlinewidth": 0,
              "ticks": ""
             }
            },
            "type": "scattergeo"
           }
          ],
          "scattergl": [
           {
            "marker": {
             "colorbar": {
              "outlinewidth": 0,
              "ticks": ""
             }
            },
            "type": "scattergl"
           }
          ],
          "scattermapbox": [
           {
            "marker": {
             "colorbar": {
              "outlinewidth": 0,
              "ticks": ""
             }
            },
            "type": "scattermapbox"
           }
          ],
          "scatterpolar": [
           {
            "marker": {
             "colorbar": {
              "outlinewidth": 0,
              "ticks": ""
             }
            },
            "type": "scatterpolar"
           }
          ],
          "scatterpolargl": [
           {
            "marker": {
             "colorbar": {
              "outlinewidth": 0,
              "ticks": ""
             }
            },
            "type": "scatterpolargl"
           }
          ],
          "scatterternary": [
           {
            "marker": {
             "colorbar": {
              "outlinewidth": 0,
              "ticks": ""
             }
            },
            "type": "scatterternary"
           }
          ],
          "surface": [
           {
            "colorbar": {
             "outlinewidth": 0,
             "ticks": ""
            },
            "colorscale": [
             [
              0,
              "#0d0887"
             ],
             [
              0.1111111111111111,
              "#46039f"
             ],
             [
              0.2222222222222222,
              "#7201a8"
             ],
             [
              0.3333333333333333,
              "#9c179e"
             ],
             [
              0.4444444444444444,
              "#bd3786"
             ],
             [
              0.5555555555555556,
              "#d8576b"
             ],
             [
              0.6666666666666666,
              "#ed7953"
             ],
             [
              0.7777777777777778,
              "#fb9f3a"
             ],
             [
              0.8888888888888888,
              "#fdca26"
             ],
             [
              1,
              "#f0f921"
             ]
            ],
            "type": "surface"
           }
          ],
          "table": [
           {
            "cells": {
             "fill": {
              "color": "#EBF0F8"
             },
             "line": {
              "color": "white"
             }
            },
            "header": {
             "fill": {
              "color": "#C8D4E3"
             },
             "line": {
              "color": "white"
             }
            },
            "type": "table"
           }
          ]
         },
         "layout": {
          "annotationdefaults": {
           "arrowcolor": "#2a3f5f",
           "arrowhead": 0,
           "arrowwidth": 1
          },
          "autotypenumbers": "strict",
          "coloraxis": {
           "colorbar": {
            "outlinewidth": 0,
            "ticks": ""
           }
          },
          "colorscale": {
           "diverging": [
            [
             0,
             "#8e0152"
            ],
            [
             0.1,
             "#c51b7d"
            ],
            [
             0.2,
             "#de77ae"
            ],
            [
             0.3,
             "#f1b6da"
            ],
            [
             0.4,
             "#fde0ef"
            ],
            [
             0.5,
             "#f7f7f7"
            ],
            [
             0.6,
             "#e6f5d0"
            ],
            [
             0.7,
             "#b8e186"
            ],
            [
             0.8,
             "#7fbc41"
            ],
            [
             0.9,
             "#4d9221"
            ],
            [
             1,
             "#276419"
            ]
           ],
           "sequential": [
            [
             0,
             "#0d0887"
            ],
            [
             0.1111111111111111,
             "#46039f"
            ],
            [
             0.2222222222222222,
             "#7201a8"
            ],
            [
             0.3333333333333333,
             "#9c179e"
            ],
            [
             0.4444444444444444,
             "#bd3786"
            ],
            [
             0.5555555555555556,
             "#d8576b"
            ],
            [
             0.6666666666666666,
             "#ed7953"
            ],
            [
             0.7777777777777778,
             "#fb9f3a"
            ],
            [
             0.8888888888888888,
             "#fdca26"
            ],
            [
             1,
             "#f0f921"
            ]
           ],
           "sequentialminus": [
            [
             0,
             "#0d0887"
            ],
            [
             0.1111111111111111,
             "#46039f"
            ],
            [
             0.2222222222222222,
             "#7201a8"
            ],
            [
             0.3333333333333333,
             "#9c179e"
            ],
            [
             0.4444444444444444,
             "#bd3786"
            ],
            [
             0.5555555555555556,
             "#d8576b"
            ],
            [
             0.6666666666666666,
             "#ed7953"
            ],
            [
             0.7777777777777778,
             "#fb9f3a"
            ],
            [
             0.8888888888888888,
             "#fdca26"
            ],
            [
             1,
             "#f0f921"
            ]
           ]
          },
          "colorway": [
           "#636efa",
           "#EF553B",
           "#00cc96",
           "#ab63fa",
           "#FFA15A",
           "#19d3f3",
           "#FF6692",
           "#B6E880",
           "#FF97FF",
           "#FECB52"
          ],
          "font": {
           "color": "#2a3f5f"
          },
          "geo": {
           "bgcolor": "white",
           "lakecolor": "white",
           "landcolor": "#E5ECF6",
           "showlakes": true,
           "showland": true,
           "subunitcolor": "white"
          },
          "hoverlabel": {
           "align": "left"
          },
          "hovermode": "closest",
          "mapbox": {
           "style": "light"
          },
          "paper_bgcolor": "white",
          "plot_bgcolor": "#E5ECF6",
          "polar": {
           "angularaxis": {
            "gridcolor": "white",
            "linecolor": "white",
            "ticks": ""
           },
           "bgcolor": "#E5ECF6",
           "radialaxis": {
            "gridcolor": "white",
            "linecolor": "white",
            "ticks": ""
           }
          },
          "scene": {
           "xaxis": {
            "backgroundcolor": "#E5ECF6",
            "gridcolor": "white",
            "gridwidth": 2,
            "linecolor": "white",
            "showbackground": true,
            "ticks": "",
            "zerolinecolor": "white"
           },
           "yaxis": {
            "backgroundcolor": "#E5ECF6",
            "gridcolor": "white",
            "gridwidth": 2,
            "linecolor": "white",
            "showbackground": true,
            "ticks": "",
            "zerolinecolor": "white"
           },
           "zaxis": {
            "backgroundcolor": "#E5ECF6",
            "gridcolor": "white",
            "gridwidth": 2,
            "linecolor": "white",
            "showbackground": true,
            "ticks": "",
            "zerolinecolor": "white"
           }
          },
          "shapedefaults": {
           "line": {
            "color": "#2a3f5f"
           }
          },
          "ternary": {
           "aaxis": {
            "gridcolor": "white",
            "linecolor": "white",
            "ticks": ""
           },
           "baxis": {
            "gridcolor": "white",
            "linecolor": "white",
            "ticks": ""
           },
           "bgcolor": "#E5ECF6",
           "caxis": {
            "gridcolor": "white",
            "linecolor": "white",
            "ticks": ""
           }
          },
          "title": {
           "x": 0.05
          },
          "xaxis": {
           "automargin": true,
           "gridcolor": "white",
           "linecolor": "white",
           "ticks": "",
           "title": {
            "standoff": 15
           },
           "zerolinecolor": "white",
           "zerolinewidth": 2
          },
          "yaxis": {
           "automargin": true,
           "gridcolor": "white",
           "linecolor": "white",
           "ticks": "",
           "title": {
            "standoff": 15
           },
           "zerolinecolor": "white",
           "zerolinewidth": 2
          }
         }
        },
        "title": {
         "text": "Wasting % around the world"
        }
       }
      },
      "text/html": [
       "<div>                            <div id=\"2dc3e184-671d-405a-a2fd-30f88b92c524\" class=\"plotly-graph-div\" style=\"height:525px; width:100%;\"></div>            <script type=\"text/javascript\">                require([\"plotly\"], function(Plotly) {                    window.PLOTLYENV=window.PLOTLYENV || {};                                    if (document.getElementById(\"2dc3e184-671d-405a-a2fd-30f88b92c524\")) {                    Plotly.newPlot(                        \"2dc3e184-671d-405a-a2fd-30f88b92c524\",                        [{\"colorbar\":{\"len\":200,\"lenmode\":\"pixels\",\"title\":{\"text\":\"Wasting %\"}},\"colorscale\":[[0.0,\"rgb(12,51,131)\"],[0.25,\"rgb(10,136,186)\"],[0.5,\"rgb(242,211,56)\"],[0.75,\"rgb(242,143,56)\"],[1.0,\"rgb(217,30,30)\"]],\"locationmode\":\"country names\",\"locations\":[\"AFGHANISTAN\",\"ALBANIA\",\"ALGERIA\",\"ANGOLA\",\"ARGENTINA\",\"ARMENIA\",\"AUSTRALIA\",\"AZERBAIJAN\",\"BAHRAIN\",\"BANGLADESH\",\"BARBADOS\",\"BELARUS\",\"BELIZE\",\"BENIN\",\"BHUTAN\",\"BOLIVIA (PLURINATIONAL STATE OF)\",\"BOSNIA AND HERZEGOVINA\",\"BOTSWANA\",\"BRAZIL\",\"BRUNEI DARUSSALAM\",\"BULGARIA\",\"BURKINA FASO\",\"BURUNDI\",\"CABO VERDE\",\"CAMBODIA\",\"CAMEROON\",\"CANADA\",\"CENTRAL AFRICAN REPUBLIC (THE)\",\"CHAD\",\"CHILE\",\"CHINA\",\"COLOMBIA\",\"COMOROS (THE)\",\"CONGO (THE)\",\"COSTA RICA\",\"COTE D'IVOIRE\",\"CUBA\",\"CZECHIA\",\"DEMOCRATIC PEOPLE'S REP. OF KOREA (THE)\",\"DEMOCRATIC REP. OF THE CONGO (THE)\",\"DJIBOUTI\",\"DOMINICAN REPUBLIC (THE)\",\"ECUADOR\",\"EGYPT\",\"EL SALVADOR\",\"EQUATORIAL GUINEA\",\"ERITREA\",\"ESWATINI\",\"ETHIOPIA\",\"FIJI\",\"GABON\",\"GAMBIA (THE)\",\"GEORGIA\",\"GERMANY\",\"GHANA\",\"GUATEMALA\",\"GUINEA\",\"GUINEA-BISSAU\",\"GUYANA\",\"HAITI\",\"HONDURAS\",\"INDIA\",\"INDONESIA\",\"IRAN (ISLAMIC REPUBLIC OF)\",\"IRAQ\",\"JAMAICA\",\"JAPAN\",\"JORDAN\",\"KAZAKHSTAN\",\"KENYA\",\"KIRIBATI\",\"KUWAIT\",\"KYRGYZSTAN\",\"LAO PEOPLE'S DEMOCRATIC REP. (THE)\",\"LEBANON\",\"LESOTHO\",\"LIBERIA\",\"LIBYA\",\"MADAGASCAR\",\"MALAWI\",\"MALAYSIA\",\"MALDIVES\",\"MALI\",\"MARSHALL ISLANDS\",\"MAURITANIA\",\"MAURITIUS\",\"MEXICO\",\"MONGOLIA\",\"MONTENEGRO\",\"MOROCCO\",\"MOZAMBIQUE\",\"MYANMAR\",\"NAMIBIA\",\"NAURU\",\"NEPAL\",\"NICARAGUA\",\"NIGER (THE)\",\"NIGERIA\",\"NORTH MACEDONIA\",\"OMAN\",\"PAKISTAN\",\"PANAMA\",\"PAPUA NEW GUINEA\",\"PARAGUAY\",\"PERU\",\"PHILIPPINES (THE)\",\"POLAND\",\"QATAR\",\"REPUBLIC OF KOREA (THE)\",\"REPUBLIC OF MOLDOVA (THE)\",\"ROMANIA\",\"RWANDA\",\"SAINT LUCIA\",\"SAMOA\",\"SAO TOME AND PRINCIPE\",\"SAUDI ARABIA\",\"SENEGAL\",\"SERBIA\",\"SEYCHELLES\",\"SIERRA LEONE\",\"SINGAPORE\",\"SOLOMON ISLANDS\",\"SOMALIA\",\"SOUTH AFRICA\",\"SOUTH SUDAN\",\"SRI LANKA\",\"STATE OF PALESTINE\",\"SUDAN (THE)\",\"SURINAME\",\"SYRIAN ARAB REPUBLIC (THE)\",\"TAJIKISTAN\",\"THAILAND\",\"TIMOR-LESTE\",\"TOGO\",\"TONGA\",\"TRINIDAD AND TOBAGO\",\"TUNISIA\",\"TURKEY\",\"TURKMENISTAN\",\"TUVALU\",\"UGANDA\",\"UKRAINE\",\"UNITED REPUBLIC OF TANZANIA (THE)\",\"UNITED STATES OF AMERICA (THE)\",\"URUGUAY\",\"UZBEKISTAN\",\"VANUATU\",\"VENEZUELA (BOLIVARIAN REPUBLIC OF)\",\"VIET NAM\",\"YEMEN\",\"ZAMBIA\",\"ZIMBABWE\"],\"text\":[\"AFGHANISTAN\",\"ALBANIA\",\"ALGERIA\",\"ANGOLA\",\"ARGENTINA\",\"ARMENIA\",\"AUSTRALIA\",\"AZERBAIJAN\",\"BAHRAIN\",\"BANGLADESH\",\"BARBADOS\",\"BELARUS\",\"BELIZE\",\"BENIN\",\"BHUTAN\",\"BOLIVIA (PLURINATIONAL STATE OF)\",\"BOSNIA AND HERZEGOVINA\",\"BOTSWANA\",\"BRAZIL\",\"BRUNEI DARUSSALAM\",\"BULGARIA\",\"BURKINA FASO\",\"BURUNDI\",\"CABO VERDE\",\"CAMBODIA\",\"CAMEROON\",\"CANADA\",\"CENTRAL AFRICAN REPUBLIC (THE)\",\"CHAD\",\"CHILE\",\"CHINA\",\"COLOMBIA\",\"COMOROS (THE)\",\"CONGO (THE)\",\"COSTA RICA\",\"COTE D'IVOIRE\",\"CUBA\",\"CZECHIA\",\"DEMOCRATIC PEOPLE'S REP. OF KOREA (THE)\",\"DEMOCRATIC REP. OF THE CONGO (THE)\",\"DJIBOUTI\",\"DOMINICAN REPUBLIC (THE)\",\"ECUADOR\",\"EGYPT\",\"EL SALVADOR\",\"EQUATORIAL GUINEA\",\"ERITREA\",\"ESWATINI\",\"ETHIOPIA\",\"FIJI\",\"GABON\",\"GAMBIA (THE)\",\"GEORGIA\",\"GERMANY\",\"GHANA\",\"GUATEMALA\",\"GUINEA\",\"GUINEA-BISSAU\",\"GUYANA\",\"HAITI\",\"HONDURAS\",\"INDIA\",\"INDONESIA\",\"IRAN (ISLAMIC REPUBLIC OF)\",\"IRAQ\",\"JAMAICA\",\"JAPAN\",\"JORDAN\",\"KAZAKHSTAN\",\"KENYA\",\"KIRIBATI\",\"KUWAIT\",\"KYRGYZSTAN\",\"LAO PEOPLE'S DEMOCRATIC REP. (THE)\",\"LEBANON\",\"LESOTHO\",\"LIBERIA\",\"LIBYA\",\"MADAGASCAR\",\"MALAWI\",\"MALAYSIA\",\"MALDIVES\",\"MALI\",\"MARSHALL ISLANDS\",\"MAURITANIA\",\"MAURITIUS\",\"MEXICO\",\"MONGOLIA\",\"MONTENEGRO\",\"MOROCCO\",\"MOZAMBIQUE\",\"MYANMAR\",\"NAMIBIA\",\"NAURU\",\"NEPAL\",\"NICARAGUA\",\"NIGER (THE)\",\"NIGERIA\",\"NORTH MACEDONIA\",\"OMAN\",\"PAKISTAN\",\"PANAMA\",\"PAPUA NEW GUINEA\",\"PARAGUAY\",\"PERU\",\"PHILIPPINES (THE)\",\"POLAND\",\"QATAR\",\"REPUBLIC OF KOREA (THE)\",\"REPUBLIC OF MOLDOVA (THE)\",\"ROMANIA\",\"RWANDA\",\"SAINT LUCIA\",\"SAMOA\",\"SAO TOME AND PRINCIPE\",\"SAUDI ARABIA\",\"SENEGAL\",\"SERBIA\",\"SEYCHELLES\",\"SIERRA LEONE\",\"SINGAPORE\",\"SOLOMON ISLANDS\",\"SOMALIA\",\"SOUTH AFRICA\",\"SOUTH SUDAN\",\"SRI LANKA\",\"STATE OF PALESTINE\",\"SUDAN (THE)\",\"SURINAME\",\"SYRIAN ARAB REPUBLIC (THE)\",\"TAJIKISTAN\",\"THAILAND\",\"TIMOR-LESTE\",\"TOGO\",\"TONGA\",\"TRINIDAD AND TOBAGO\",\"TUNISIA\",\"TURKEY\",\"TURKMENISTAN\",\"TUVALU\",\"UGANDA\",\"UKRAINE\",\"UNITED REPUBLIC OF TANZANIA (THE)\",\"UNITED STATES OF AMERICA (THE)\",\"URUGUAY\",\"UZBEKISTAN\",\"VANUATU\",\"VENEZUELA (BOLIVARIAN REPUBLIC OF)\",\"VIET NAM\",\"YEMEN\",\"ZAMBIA\",\"ZIMBABWE\"],\"z\":[10.35,7.76,5.942857142857143,6.933333333333333,2.1500000000000004,3.94,0.0,5.433333333333334,6.699999999999999,14.5375,6.8,2.2,2.333333333333333,7.7,4.525,1.9,4.566666666666666,8.8,2.3,2.9,4.666666666666667,12.73076923076923,6.666666666666667,5.550000000000001,11.466666666666669,5.671428571428571,null,8.766666666666667,15.239999999999998,0.4666666666666667,3.1749999999999994,1.657142857142857,10.125,7.2,1.7,8.8,2.4,3.7,8.842857142857143,10.86,17.075,2.2125,2.183333333333333,5.79,1.7,4.775,14.6,1.7,9.957142857142856,8.05,3.8,8.385714285714286,2.5666666666666664,0.65,7.622222222222222,2.2857142857142856,9.425,8.125,9.12,6.616666666666667,1.828571428571429,18.766666666666666,11.375,5.75,5.542857142857143,3.3950000000000005,2.3,2.58,4.2,6.466666666666667,12.6,2.5222222222222226,2.533333333333333,10.514285714285714,5.1,6.671428571428571,5.84,6.766666666666666,9.957142857142856,4.64,11.6,15.779999999999998,13.242857142857144,3.5,13.41,17.0,3.825,2.444444444444444,3.5,4.483333333333333,6.8,9.771428571428572,8.575000000000001,1.0,10.325,2.033333333333333,15.936363636363636,12.045454545454549,2.3,7.783333333333334,14.314285714285711,1.366666666666667,8.0,1.3250000000000002,0.7933333333333332,7.127272727272726,null,2.1,1.05,3.85,3.72,4.866666666666666,3.7,2.6,7.0200000000000005,7.35,8.27142857142857,3.966666666666667,3.5,8.610000000000001,3.6,6.733333333333333,15.633333333333336,5.371428571428572,23.65,15.7625,3.733333333333334,15.4,5.633333333333333,9.566666666666665,8.290909090909091,6.083333333333333,15.62,7.712499999999999,3.25,5.466666666666666,3.583333333333334,2.1,6.166666666666667,3.3,4.522222222222222,8.2,5.054545454545454,0.5142857142857143,2.3833333333333333,6.4750000000000005,5.8,4.333333333333333,8.661904761904761,15.242857142857142,5.542857142857144,4.166666666666666],\"type\":\"choropleth\"}],                        {\"geo\":{\"scope\":\"world\"},\"title\":{\"text\":\"Wasting % around the world\"},\"template\":{\"data\":{\"histogram2dcontour\":[{\"type\":\"histogram2dcontour\",\"colorbar\":{\"outlinewidth\":0,\"ticks\":\"\"},\"colorscale\":[[0.0,\"#0d0887\"],[0.1111111111111111,\"#46039f\"],[0.2222222222222222,\"#7201a8\"],[0.3333333333333333,\"#9c179e\"],[0.4444444444444444,\"#bd3786\"],[0.5555555555555556,\"#d8576b\"],[0.6666666666666666,\"#ed7953\"],[0.7777777777777778,\"#fb9f3a\"],[0.8888888888888888,\"#fdca26\"],[1.0,\"#f0f921\"]]}],\"choropleth\":[{\"type\":\"choropleth\",\"colorbar\":{\"outlinewidth\":0,\"ticks\":\"\"}}],\"histogram2d\":[{\"type\":\"histogram2d\",\"colorbar\":{\"outlinewidth\":0,\"ticks\":\"\"},\"colorscale\":[[0.0,\"#0d0887\"],[0.1111111111111111,\"#46039f\"],[0.2222222222222222,\"#7201a8\"],[0.3333333333333333,\"#9c179e\"],[0.4444444444444444,\"#bd3786\"],[0.5555555555555556,\"#d8576b\"],[0.6666666666666666,\"#ed7953\"],[0.7777777777777778,\"#fb9f3a\"],[0.8888888888888888,\"#fdca26\"],[1.0,\"#f0f921\"]]}],\"heatmap\":[{\"type\":\"heatmap\",\"colorbar\":{\"outlinewidth\":0,\"ticks\":\"\"},\"colorscale\":[[0.0,\"#0d0887\"],[0.1111111111111111,\"#46039f\"],[0.2222222222222222,\"#7201a8\"],[0.3333333333333333,\"#9c179e\"],[0.4444444444444444,\"#bd3786\"],[0.5555555555555556,\"#d8576b\"],[0.6666666666666666,\"#ed7953\"],[0.7777777777777778,\"#fb9f3a\"],[0.8888888888888888,\"#fdca26\"],[1.0,\"#f0f921\"]]}],\"heatmapgl\":[{\"type\":\"heatmapgl\",\"colorbar\":{\"outlinewidth\":0,\"ticks\":\"\"},\"colorscale\":[[0.0,\"#0d0887\"],[0.1111111111111111,\"#46039f\"],[0.2222222222222222,\"#7201a8\"],[0.3333333333333333,\"#9c179e\"],[0.4444444444444444,\"#bd3786\"],[0.5555555555555556,\"#d8576b\"],[0.6666666666666666,\"#ed7953\"],[0.7777777777777778,\"#fb9f3a\"],[0.8888888888888888,\"#fdca26\"],[1.0,\"#f0f921\"]]}],\"contourcarpet\":[{\"type\":\"contourcarpet\",\"colorbar\":{\"outlinewidth\":0,\"ticks\":\"\"}}],\"contour\":[{\"type\":\"contour\",\"colorbar\":{\"outlinewidth\":0,\"ticks\":\"\"},\"colorscale\":[[0.0,\"#0d0887\"],[0.1111111111111111,\"#46039f\"],[0.2222222222222222,\"#7201a8\"],[0.3333333333333333,\"#9c179e\"],[0.4444444444444444,\"#bd3786\"],[0.5555555555555556,\"#d8576b\"],[0.6666666666666666,\"#ed7953\"],[0.7777777777777778,\"#fb9f3a\"],[0.8888888888888888,\"#fdca26\"],[1.0,\"#f0f921\"]]}],\"surface\":[{\"type\":\"surface\",\"colorbar\":{\"outlinewidth\":0,\"ticks\":\"\"},\"colorscale\":[[0.0,\"#0d0887\"],[0.1111111111111111,\"#46039f\"],[0.2222222222222222,\"#7201a8\"],[0.3333333333333333,\"#9c179e\"],[0.4444444444444444,\"#bd3786\"],[0.5555555555555556,\"#d8576b\"],[0.6666666666666666,\"#ed7953\"],[0.7777777777777778,\"#fb9f3a\"],[0.8888888888888888,\"#fdca26\"],[1.0,\"#f0f921\"]]}],\"mesh3d\":[{\"type\":\"mesh3d\",\"colorbar\":{\"outlinewidth\":0,\"ticks\":\"\"}}],\"scatter\":[{\"fillpattern\":{\"fillmode\":\"overlay\",\"size\":10,\"solidity\":0.2},\"type\":\"scatter\"}],\"parcoords\":[{\"type\":\"parcoords\",\"line\":{\"colorbar\":{\"outlinewidth\":0,\"ticks\":\"\"}}}],\"scatterpolargl\":[{\"type\":\"scatterpolargl\",\"marker\":{\"colorbar\":{\"outlinewidth\":0,\"ticks\":\"\"}}}],\"bar\":[{\"error_x\":{\"color\":\"#2a3f5f\"},\"error_y\":{\"color\":\"#2a3f5f\"},\"marker\":{\"line\":{\"color\":\"#E5ECF6\",\"width\":0.5},\"pattern\":{\"fillmode\":\"overlay\",\"size\":10,\"solidity\":0.2}},\"type\":\"bar\"}],\"scattergeo\":[{\"type\":\"scattergeo\",\"marker\":{\"colorbar\":{\"outlinewidth\":0,\"ticks\":\"\"}}}],\"scatterpolar\":[{\"type\":\"scatterpolar\",\"marker\":{\"colorbar\":{\"outlinewidth\":0,\"ticks\":\"\"}}}],\"histogram\":[{\"marker\":{\"pattern\":{\"fillmode\":\"overlay\",\"size\":10,\"solidity\":0.2}},\"type\":\"histogram\"}],\"scattergl\":[{\"type\":\"scattergl\",\"marker\":{\"colorbar\":{\"outlinewidth\":0,\"ticks\":\"\"}}}],\"scatter3d\":[{\"type\":\"scatter3d\",\"line\":{\"colorbar\":{\"outlinewidth\":0,\"ticks\":\"\"}},\"marker\":{\"colorbar\":{\"outlinewidth\":0,\"ticks\":\"\"}}}],\"scattermapbox\":[{\"type\":\"scattermapbox\",\"marker\":{\"colorbar\":{\"outlinewidth\":0,\"ticks\":\"\"}}}],\"scatterternary\":[{\"type\":\"scatterternary\",\"marker\":{\"colorbar\":{\"outlinewidth\":0,\"ticks\":\"\"}}}],\"scattercarpet\":[{\"type\":\"scattercarpet\",\"marker\":{\"colorbar\":{\"outlinewidth\":0,\"ticks\":\"\"}}}],\"carpet\":[{\"aaxis\":{\"endlinecolor\":\"#2a3f5f\",\"gridcolor\":\"white\",\"linecolor\":\"white\",\"minorgridcolor\":\"white\",\"startlinecolor\":\"#2a3f5f\"},\"baxis\":{\"endlinecolor\":\"#2a3f5f\",\"gridcolor\":\"white\",\"linecolor\":\"white\",\"minorgridcolor\":\"white\",\"startlinecolor\":\"#2a3f5f\"},\"type\":\"carpet\"}],\"table\":[{\"cells\":{\"fill\":{\"color\":\"#EBF0F8\"},\"line\":{\"color\":\"white\"}},\"header\":{\"fill\":{\"color\":\"#C8D4E3\"},\"line\":{\"color\":\"white\"}},\"type\":\"table\"}],\"barpolar\":[{\"marker\":{\"line\":{\"color\":\"#E5ECF6\",\"width\":0.5},\"pattern\":{\"fillmode\":\"overlay\",\"size\":10,\"solidity\":0.2}},\"type\":\"barpolar\"}],\"pie\":[{\"automargin\":true,\"type\":\"pie\"}]},\"layout\":{\"autotypenumbers\":\"strict\",\"colorway\":[\"#636efa\",\"#EF553B\",\"#00cc96\",\"#ab63fa\",\"#FFA15A\",\"#19d3f3\",\"#FF6692\",\"#B6E880\",\"#FF97FF\",\"#FECB52\"],\"font\":{\"color\":\"#2a3f5f\"},\"hovermode\":\"closest\",\"hoverlabel\":{\"align\":\"left\"},\"paper_bgcolor\":\"white\",\"plot_bgcolor\":\"#E5ECF6\",\"polar\":{\"bgcolor\":\"#E5ECF6\",\"angularaxis\":{\"gridcolor\":\"white\",\"linecolor\":\"white\",\"ticks\":\"\"},\"radialaxis\":{\"gridcolor\":\"white\",\"linecolor\":\"white\",\"ticks\":\"\"}},\"ternary\":{\"bgcolor\":\"#E5ECF6\",\"aaxis\":{\"gridcolor\":\"white\",\"linecolor\":\"white\",\"ticks\":\"\"},\"baxis\":{\"gridcolor\":\"white\",\"linecolor\":\"white\",\"ticks\":\"\"},\"caxis\":{\"gridcolor\":\"white\",\"linecolor\":\"white\",\"ticks\":\"\"}},\"coloraxis\":{\"colorbar\":{\"outlinewidth\":0,\"ticks\":\"\"}},\"colorscale\":{\"sequential\":[[0.0,\"#0d0887\"],[0.1111111111111111,\"#46039f\"],[0.2222222222222222,\"#7201a8\"],[0.3333333333333333,\"#9c179e\"],[0.4444444444444444,\"#bd3786\"],[0.5555555555555556,\"#d8576b\"],[0.6666666666666666,\"#ed7953\"],[0.7777777777777778,\"#fb9f3a\"],[0.8888888888888888,\"#fdca26\"],[1.0,\"#f0f921\"]],\"sequentialminus\":[[0.0,\"#0d0887\"],[0.1111111111111111,\"#46039f\"],[0.2222222222222222,\"#7201a8\"],[0.3333333333333333,\"#9c179e\"],[0.4444444444444444,\"#bd3786\"],[0.5555555555555556,\"#d8576b\"],[0.6666666666666666,\"#ed7953\"],[0.7777777777777778,\"#fb9f3a\"],[0.8888888888888888,\"#fdca26\"],[1.0,\"#f0f921\"]],\"diverging\":[[0,\"#8e0152\"],[0.1,\"#c51b7d\"],[0.2,\"#de77ae\"],[0.3,\"#f1b6da\"],[0.4,\"#fde0ef\"],[0.5,\"#f7f7f7\"],[0.6,\"#e6f5d0\"],[0.7,\"#b8e186\"],[0.8,\"#7fbc41\"],[0.9,\"#4d9221\"],[1,\"#276419\"]]},\"xaxis\":{\"gridcolor\":\"white\",\"linecolor\":\"white\",\"ticks\":\"\",\"title\":{\"standoff\":15},\"zerolinecolor\":\"white\",\"automargin\":true,\"zerolinewidth\":2},\"yaxis\":{\"gridcolor\":\"white\",\"linecolor\":\"white\",\"ticks\":\"\",\"title\":{\"standoff\":15},\"zerolinecolor\":\"white\",\"automargin\":true,\"zerolinewidth\":2},\"scene\":{\"xaxis\":{\"backgroundcolor\":\"#E5ECF6\",\"gridcolor\":\"white\",\"linecolor\":\"white\",\"showbackground\":true,\"ticks\":\"\",\"zerolinecolor\":\"white\",\"gridwidth\":2},\"yaxis\":{\"backgroundcolor\":\"#E5ECF6\",\"gridcolor\":\"white\",\"linecolor\":\"white\",\"showbackground\":true,\"ticks\":\"\",\"zerolinecolor\":\"white\",\"gridwidth\":2},\"zaxis\":{\"backgroundcolor\":\"#E5ECF6\",\"gridcolor\":\"white\",\"linecolor\":\"white\",\"showbackground\":true,\"ticks\":\"\",\"zerolinecolor\":\"white\",\"gridwidth\":2}},\"shapedefaults\":{\"line\":{\"color\":\"#2a3f5f\"}},\"annotationdefaults\":{\"arrowcolor\":\"#2a3f5f\",\"arrowhead\":0,\"arrowwidth\":1},\"geo\":{\"bgcolor\":\"white\",\"landcolor\":\"#E5ECF6\",\"subunitcolor\":\"white\",\"showland\":true,\"showlakes\":true,\"lakecolor\":\"white\"},\"title\":{\"x\":0.05},\"mapbox\":{\"style\":\"light\"}}}},                        {\"responsive\": true}                    ).then(function(){\n",
       "                            \n",
       "var gd = document.getElementById('2dc3e184-671d-405a-a2fd-30f88b92c524');\n",
       "var x = new MutationObserver(function (mutations, observer) {{\n",
       "        var display = window.getComputedStyle(gd).display;\n",
       "        if (!display || display === 'none') {{\n",
       "            console.log([gd, 'removed!']);\n",
       "            Plotly.purge(gd);\n",
       "            observer.disconnect();\n",
       "        }}\n",
       "}});\n",
       "\n",
       "// Listen for the removal of the full notebook cells\n",
       "var notebookContainer = gd.closest('#notebook-container');\n",
       "if (notebookContainer) {{\n",
       "    x.observe(notebookContainer, {childList: true});\n",
       "}}\n",
       "\n",
       "// Listen for the clearing of the current output cell\n",
       "var outputEl = gd.closest('.output');\n",
       "if (outputEl) {{\n",
       "    x.observe(outputEl, {childList: true});\n",
       "}}\n",
       "\n",
       "                        })                };                });            </script>        </div>"
      ]
     },
     "metadata": {},
     "output_type": "display_data"
    }
   ],
   "source": [
    "#Plotting on the WorldMap using plotly\n",
    "x = df_country.groupby([\"Country\"])[\"Wasting\"].mean()\n",
    "data = dict(type = 'choropleth',\n",
    "            locations = x.index,\n",
    "            locationmode = 'country names',\n",
    "            colorscale= 'Portland',\n",
    "            text= x.index,\n",
    "            z=x,\n",
    "            colorbar = {'title':'Wasting %', 'len':200,'lenmode':'pixels' })\n",
    "layout = dict(geo = {'scope':'world'},title=\"Wasting % around the world\")\n",
    "col_map = go.Figure(data = [data],layout = layout)\n",
    "col_map.show()"
   ]
  },
  {
   "cell_type": "code",
   "execution_count": 111,
   "id": "1308afa5",
   "metadata": {},
   "outputs": [
    {
     "data": {
      "text/plain": [
       "(array([0, 1, 2, 3]),\n",
       " [Text(0, 0, '0'), Text(1, 0, '1'), Text(2, 0, '2'), Text(3, 0, '3')])"
      ]
     },
     "execution_count": 111,
     "metadata": {},
     "output_type": "execute_result"
    },
    {
     "data": {
      "image/png": "[encoded data removed]",
      "text/plain": [
       "<Figure size 1600x800 with 1 Axes>"
      ]
     },
     "metadata": {},
     "output_type": "display_data"
    }
   ],
   "source": [
    "plt.figure(figsize=(16, 8))\n",
    "x = df_country.groupby([\"Income Classification\"])[\"Overweight\"].mean()\n",
    "sns.set(style=\"whitegrid\")\n",
    "ax = sns.barplot(x=x.index, y=x)\n",
    "ax.set_title('Overweight')\n",
    "ax.set_ylabel('% Overweight')\n",
    "ax.set_xlabel('Income Classification')\n",
    "plt.xticks(rotation = 90)"
   ]
  },
  {
   "cell_type": "code",
   "execution_count": 112,
   "id": "28dd7eca",
   "metadata": {},
   "outputs": [
    {
     "data": {
      "application/vnd.plotly.v1+json": {
       "config": {
        "plotlyServerURL": "https://plot.ly"
       },
       "data": [
        {
         "colorbar": {
          "len": 200,
          "lenmode": "pixels",
          "title": {
           "text": "Overweight %"
          }
         },
         "colorscale": [
          [
           0,
           "rgb(12,51,131)"
          ],
          [
           0.25,
           "rgb(10,136,186)"
          ],
          [
           0.5,
           "rgb(242,211,56)"
          ],
          [
           0.75,
           "rgb(242,143,56)"
          ],
          [
           1,
           "rgb(217,30,30)"
          ]
         ],
         "locationmode": "country names",
         "locations": [
          "AFGHANISTAN",
          "ALBANIA",
          "ALGERIA",
          "ANGOLA",
          "ARGENTINA",
          "ARMENIA",
          "AUSTRALIA",
          "AZERBAIJAN",
          "BAHRAIN",
          "BANGLADESH",
          "BARBADOS",
          "BELARUS",
          "BELIZE",
          "BENIN",
          "BHUTAN",
          "BOLIVIA (PLURINATIONAL STATE OF)",
          "BOSNIA AND HERZEGOVINA",
          "BOTSWANA",
          "BRAZIL",
          "BRUNEI DARUSSALAM",
          "BULGARIA",
          "BURKINA FASO",
          "BURUNDI",
          "CABO VERDE",
          "CAMBODIA",
          "CAMEROON",
          "CANADA",
          "CENTRAL AFRICAN REPUBLIC (THE)",
          "CHAD",
          "CHILE",
          "CHINA",
          "COLOMBIA",
          "COMOROS (THE)",
          "CONGO (THE)",
          "COSTA RICA",
          "COTE D'IVOIRE",
          "CUBA",
          "CZECHIA",
          "DEMOCRATIC PEOPLE'S REP. OF KOREA (THE)",
          "DEMOCRATIC REP. OF THE CONGO (THE)",
          "DJIBOUTI",
          "DOMINICAN REPUBLIC (THE)",
          "ECUADOR",
          "EGYPT",
          "EL SALVADOR",
          "EQUATORIAL GUINEA",
          "ERITREA",
          "ESWATINI",
          "ETHIOPIA",
          "FIJI",
          "GABON",
          "GAMBIA (THE)",
          "GEORGIA",
          "GERMANY",
          "GHANA",
          "GUATEMALA",
          "GUINEA",
          "GUINEA-BISSAU",
          "GUYANA",
          "HAITI",
          "HONDURAS",
          "INDIA",
          "INDONESIA",
          "IRAN (ISLAMIC REPUBLIC OF)",
          "IRAQ",
          "JAMAICA",
          "JAPAN",
          "JORDAN",
          "KAZAKHSTAN",
          "KENYA",
          "KIRIBATI",
          "KUWAIT",
          "KYRGYZSTAN",
          "LAO PEOPLE'S DEMOCRATIC REP. (THE)",
          "LEBANON",
          "LESOTHO",
          "LIBERIA",
          "LIBYA",
          "MADAGASCAR",
          "MALAWI",
          "MALAYSIA",
          "MALDIVES",
          "MALI",
          "MARSHALL ISLANDS",
          "MAURITANIA",
          "MAURITIUS",
          "MEXICO",
          "MONGOLIA",
          "MONTENEGRO",
          "MOROCCO",
          "MOZAMBIQUE",
          "MYANMAR",
          "NAMIBIA",
          "NAURU",
          "NEPAL",
          "NICARAGUA",
          "NIGER (THE)",
          "NIGERIA",
          "NORTH MACEDONIA",
          "OMAN",
          "PAKISTAN",
          "PANAMA",
          "PAPUA NEW GUINEA",
          "PARAGUAY",
          "PERU",
          "PHILIPPINES (THE)",
          "POLAND",
          "QATAR",
          "REPUBLIC OF KOREA (THE)",
          "REPUBLIC OF MOLDOVA (THE)",
          "ROMANIA",
          "RWANDA",
          "SAINT LUCIA",
          "SAMOA",
          "SAO TOME AND PRINCIPE",
          "SAUDI ARABIA",
          "SENEGAL",
          "SERBIA",
          "SEYCHELLES",
          "SIERRA LEONE",
          "SINGAPORE",
          "SOLOMON ISLANDS",
          "SOMALIA",
          "SOUTH AFRICA",
          "SOUTH SUDAN",
          "SRI LANKA",
          "STATE OF PALESTINE",
          "SUDAN (THE)",
          "SURINAME",
          "SYRIAN ARAB REPUBLIC (THE)",
          "TAJIKISTAN",
          "THAILAND",
          "TIMOR-LESTE",
          "TOGO",
          "TONGA",
          "TRINIDAD AND TOBAGO",
          "TUNISIA",
          "TURKEY",
          "TURKMENISTAN",
          "TUVALU",
          "UGANDA",
          "UKRAINE",
          "UNITED REPUBLIC OF TANZANIA (THE)",
          "UNITED STATES OF AMERICA (THE)",
          "URUGUAY",
          "UZBEKISTAN",
          "VANUATU",
          "VENEZUELA (BOLIVARIAN REPUBLIC OF)",
          "VIET NAM",
          "YEMEN",
          "ZAMBIA",
          "ZIMBABWE"
         ],
         "text": [
          "AFGHANISTAN",
          "ALBANIA",
          "ALGERIA",
          "ANGOLA",
          "ARGENTINA",
          "ARMENIA",
          "AUSTRALIA",
          "AZERBAIJAN",
          "BAHRAIN",
          "BANGLADESH",
          "BARBADOS",
          "BELARUS",
          "BELIZE",
          "BENIN",
          "BHUTAN",
          "BOLIVIA (PLURINATIONAL STATE OF)",
          "BOSNIA AND HERZEGOVINA",
          "BOTSWANA",
          "BRAZIL",
          "BRUNEI DARUSSALAM",
          "BULGARIA",
          "BURKINA FASO",
          "BURUNDI",
          "CABO VERDE",
          "CAMBODIA",
          "CAMEROON",
          "CANADA",
          "CENTRAL AFRICAN REPUBLIC (THE)",
          "CHAD",
          "CHILE",
          "CHINA",
          "COLOMBIA",
          "COMOROS (THE)",
          "CONGO (THE)",
          "COSTA RICA",
          "COTE D'IVOIRE",
          "CUBA",
          "CZECHIA",
          "DEMOCRATIC PEOPLE'S REP. OF KOREA (THE)",
          "DEMOCRATIC REP. OF THE CONGO (THE)",
          "DJIBOUTI",
          "DOMINICAN REPUBLIC (THE)",
          "ECUADOR",
          "EGYPT",
          "EL SALVADOR",
          "EQUATORIAL GUINEA",
          "ERITREA",
          "ESWATINI",
          "ETHIOPIA",
          "FIJI",
          "GABON",
          "GAMBIA (THE)",
          "GEORGIA",
          "GERMANY",
          "GHANA",
          "GUATEMALA",
          "GUINEA",
          "GUINEA-BISSAU",
          "GUYANA",
          "HAITI",
          "HONDURAS",
          "INDIA",
          "INDONESIA",
          "IRAN (ISLAMIC REPUBLIC OF)",
          "IRAQ",
          "JAMAICA",
          "JAPAN",
          "JORDAN",
          "KAZAKHSTAN",
          "KENYA",
          "KIRIBATI",
          "KUWAIT",
          "KYRGYZSTAN",
          "LAO PEOPLE'S DEMOCRATIC REP. (THE)",
          "LEBANON",
          "LESOTHO",
          "LIBERIA",
          "LIBYA",
          "MADAGASCAR",
          "MALAWI",
          "MALAYSIA",
          "MALDIVES",
          "MALI",
          "MARSHALL ISLANDS",
          "MAURITANIA",
          "MAURITIUS",
          "MEXICO",
          "MONGOLIA",
          "MONTENEGRO",
          "MOROCCO",
          "MOZAMBIQUE",
          "MYANMAR",
          "NAMIBIA",
          "NAURU",
          "NEPAL",
          "NICARAGUA",
          "NIGER (THE)",
          "NIGERIA",
          "NORTH MACEDONIA",
          "OMAN",
          "PAKISTAN",
          "PANAMA",
          "PAPUA NEW GUINEA",
          "PARAGUAY",
          "PERU",
          "PHILIPPINES (THE)",
          "POLAND",
          "QATAR",
          "REPUBLIC OF KOREA (THE)",
          "REPUBLIC OF MOLDOVA (THE)",
          "ROMANIA",
          "RWANDA",
          "SAINT LUCIA",
          "SAMOA",
          "SAO TOME AND PRINCIPE",
          "SAUDI ARABIA",
          "SENEGAL",
          "SERBIA",
          "SEYCHELLES",
          "SIERRA LEONE",
          "SINGAPORE",
          "SOLOMON ISLANDS",
          "SOMALIA",
          "SOUTH AFRICA",
          "SOUTH SUDAN",
          "SRI LANKA",
          "STATE OF PALESTINE",
          "SUDAN (THE)",
          "SURINAME",
          "SYRIAN ARAB REPUBLIC (THE)",
          "TAJIKISTAN",
          "THAILAND",
          "TIMOR-LESTE",
          "TOGO",
          "TONGA",
          "TRINIDAD AND TOBAGO",
          "TUNISIA",
          "TURKEY",
          "TURKMENISTAN",
          "TUVALU",
          "UGANDA",
          "UKRAINE",
          "UNITED REPUBLIC OF TANZANIA (THE)",
          "UNITED STATES OF AMERICA (THE)",
          "URUGUAY",
          "UZBEKISTAN",
          "VANUATU",
          "VENEZUELA (BOLIVARIAN REPUBLIC OF)",
          "VIET NAM",
          "YEMEN",
          "ZAMBIA",
          "ZIMBABWE"
         ],
         "type": "choropleth",
         "z": [
          5.125,
          20.8,
          12.833333333333334,
          2.55,
          11.125,
          13.62,
          13.875,
          9.183333333333334,
          7.5,
          0.9625000000000002,
          12.2,
          9.7,
          9.6,
          2.275,
          5.1,
          8.6,
          19.8,
          10.05,
          6.25,
          8.3,
          9,
          2.2500000000000004,
          1.775,
          null,
          3.033333333333333,
          8.042857142857143,
          10.4,
          5.380000000000001,
          3.0400000000000005,
          11.313333333333334,
          7.027272727272727,
          4.783333333333333,
          12.466666666666669,
          4.875,
          8.8,
          4.3,
          null,
          5.550000000000001,
          1.0666666666666669,
          5.75,
          8.25,
          6.7,
          5.720000000000001,
          13.7625,
          4.75,
          8.85,
          1.6666666666666667,
          11.425,
          2.75,
          3.65,
          6.6,
          2.228571428571428,
          19.53333333333333,
          3.35,
          2.8222222222222224,
          5.4,
          4.333333333333333,
          6.75,
          5.24,
          3.66,
          3.9,
          2.9333333333333336,
          7.199999999999999,
          6.2,
          9.5,
          5.994736842105262,
          1.5,
          5.72,
          9.7,
          5.95,
          15.9,
          7.98888888888889,
          7.666666666666665,
          2.4,
          18.75,
          9.82,
          3.4799999999999995,
          21.8,
          2.5,
          7.484615384615385,
          6.2,
          4.66,
          2.2,
          4.1,
          2.6375,
          7.65,
          7.371428571428572,
          9.925,
          19,
          10.866666666666667,
          6.566666666666666,
          4.62,
          4.125,
          2.8,
          1.0285714285714287,
          6.55,
          1.52,
          4.890909090909092,
          12.733333333333333,
          3.5500000000000003,
          4.757142857142857,
          9.066666666666666,
          6.733333333333333,
          9.275,
          8.940000000000001,
          3.1,
          null,
          10.4,
          6.75,
          6.9,
          8.080000000000002,
          6.314285714285715,
          6.3,
          5.75,
          9.55,
          3.65,
          2.115384615384615,
          16.266666666666666,
          8,
          6.237500000000001,
          2.6,
          2.966666666666667,
          3.85,
          13.614285714285714,
          8.45,
          1.05,
          7.58,
          2.9,
          3.633333333333333,
          17.825000000000003,
          6.116666666666666,
          6.619999999999999,
          3.65,
          2.3999999999999995,
          17.3,
          6.633333333333333,
          9.080000000000002,
          7.75,
          5.2,
          6.3,
          4.277777777777778,
          26.5,
          4.540000000000001,
          7.414285714285714,
          9.166666666666666,
          10.925,
          4.800000000000001,
          5.40952380952381,
          3.3176470588235287,
          4.842857142857143,
          7.228571428571429,
          5.788888888888889
         ]
        }
       ],
       "layout": {
        "geo": {
         "scope": "world"
        },
        "template": {
         "data": {
          "bar": [
           {
            "error_x": {
             "color": "#2a3f5f"
            },
            "error_y": {
             "color": "#2a3f5f"
            },
            "marker": {
             "line": {
              "color": "#E5ECF6",
              "width": 0.5
             },
             "pattern": {
              "fillmode": "overlay",
              "size": 10,
              "solidity": 0.2
             }
            },
            "type": "bar"
           }
          ],
          "barpolar": [
           {
            "marker": {
             "line": {
              "color": "#E5ECF6",
              "width": 0.5
             },
             "pattern": {
              "fillmode": "overlay",
              "size": 10,
              "solidity": 0.2
             }
            },
            "type": "barpolar"
           }
          ],
          "carpet": [
           {
            "aaxis": {
             "endlinecolor": "#2a3f5f",
             "gridcolor": "white",
             "linecolor": "white",
             "minorgridcolor": "white",
             "startlinecolor": "#2a3f5f"
            },
            "baxis": {
             "endlinecolor": "#2a3f5f",
             "gridcolor": "white",
             "linecolor": "white",
             "minorgridcolor": "white",
             "startlinecolor": "#2a3f5f"
            },
            "type": "carpet"
           }
          ],
          "choropleth": [
           {
            "colorbar": {
             "outlinewidth": 0,
             "ticks": ""
            },
            "type": "choropleth"
           }
          ],
          "contour": [
           {
            "colorbar": {
             "outlinewidth": 0,
             "ticks": ""
            },
            "colorscale": [
             [
              0,
              "#0d0887"
             ],
             [
              0.1111111111111111,
              "#46039f"
             ],
             [
              0.2222222222222222,
              "#7201a8"
             ],
             [
              0.3333333333333333,
              "#9c179e"
             ],
             [
              0.4444444444444444,
              "#bd3786"
             ],
             [
              0.5555555555555556,
              "#d8576b"
             ],
             [
              0.6666666666666666,
              "#ed7953"
             ],
             [
              0.7777777777777778,
              "#fb9f3a"
             ],
             [
              0.8888888888888888,
              "#fdca26"
             ],
             [
              1,
              "#f0f921"
             ]
            ],
            "type": "contour"
           }
          ],
          "contourcarpet": [
           {
            "colorbar": {
             "outlinewidth": 0,
             "ticks": ""
            },
            "type": "contourcarpet"
           }
          ],
          "heatmap": [
           {
            "colorbar": {
             "outlinewidth": 0,
             "ticks": ""
            },
            "colorscale": [
             [
              0,
              "#0d0887"
             ],
             [
              0.1111111111111111,
              "#46039f"
             ],
             [
              0.2222222222222222,
              "#7201a8"
             ],
             [
              0.3333333333333333,
              "#9c179e"
             ],
             [
              0.4444444444444444,
              "#bd3786"
             ],
             [
              0.5555555555555556,
              "#d8576b"
             ],
             [
              0.6666666666666666,
              "#ed7953"
             ],
             [
              0.7777777777777778,
              "#fb9f3a"
             ],
             [
              0.8888888888888888,
              "#fdca26"
             ],
             [
              1,
              "#f0f921"
             ]
            ],
            "type": "heatmap"
           }
          ],
          "heatmapgl": [
           {
            "colorbar": {
             "outlinewidth": 0,
             "ticks": ""
            },
            "colorscale": [
             [
              0,
              "#0d0887"
             ],
             [
              0.1111111111111111,
              "#46039f"
             ],
             [
              0.2222222222222222,
              "#7201a8"
             ],
             [
              0.3333333333333333,
              "#9c179e"
             ],
             [
              0.4444444444444444,
              "#bd3786"
             ],
             [
              0.5555555555555556,
              "#d8576b"
             ],
             [
              0.6666666666666666,
              "#ed7953"
             ],
             [
              0.7777777777777778,
              "#fb9f3a"
             ],
             [
              0.8888888888888888,
              "#fdca26"
             ],
             [
              1,
              "#f0f921"
             ]
            ],
            "type": "heatmapgl"
           }
          ],
          "histogram": [
           {
            "marker": {
             "pattern": {
              "fillmode": "overlay",
              "size": 10,
              "solidity": 0.2
             }
            },
            "type": "histogram"
           }
          ],
          "histogram2d": [
           {
            "colorbar": {
             "outlinewidth": 0,
             "ticks": ""
            },
            "colorscale": [
             [
              0,
              "#0d0887"
             ],
             [
              0.1111111111111111,
              "#46039f"
             ],
             [
              0.2222222222222222,
              "#7201a8"
             ],
             [
              0.3333333333333333,
              "#9c179e"
             ],
             [
              0.4444444444444444,
              "#bd3786"
             ],
             [
              0.5555555555555556,
              "#d8576b"
             ],
             [
              0.6666666666666666,
              "#ed7953"
             ],
             [
              0.7777777777777778,
              "#fb9f3a"
             ],
             [
              0.8888888888888888,
              "#fdca26"
             ],
             [
              1,
              "#f0f921"
             ]
            ],
            "type": "histogram2d"
           }
          ],
          "histogram2dcontour": [
           {
            "colorbar": {
             "outlinewidth": 0,
             "ticks": ""
            },
            "colorscale": [
             [
              0,
              "#0d0887"
             ],
             [
              0.1111111111111111,
              "#46039f"
             ],
             [
              0.2222222222222222,
              "#7201a8"
             ],
             [
              0.3333333333333333,
              "#9c179e"
             ],
             [
              0.4444444444444444,
              "#bd3786"
             ],
             [
              0.5555555555555556,
              "#d8576b"
             ],
             [
              0.6666666666666666,
              "#ed7953"
             ],
             [
              0.7777777777777778,
              "#fb9f3a"
             ],
             [
              0.8888888888888888,
              "#fdca26"
             ],
             [
              1,
              "#f0f921"
             ]
            ],
            "type": "histogram2dcontour"
           }
          ],
          "mesh3d": [
           {
            "colorbar": {
             "outlinewidth": 0,
             "ticks": ""
            },
            "type": "mesh3d"
           }
          ],
          "parcoords": [
           {
            "line": {
             "colorbar": {
              "outlinewidth": 0,
              "ticks": ""
             }
            },
            "type": "parcoords"
           }
          ],
          "pie": [
           {
            "automargin": true,
            "type": "pie"
           }
          ],
          "scatter": [
           {
            "fillpattern": {
             "fillmode": "overlay",
             "size": 10,
             "solidity": 0.2
            },
            "type": "scatter"
           }
          ],
          "scatter3d": [
           {
            "line": {
             "colorbar": {
              "outlinewidth": 0,
              "ticks": ""
             }
            },
            "marker": {
             "colorbar": {
              "outlinewidth": 0,
              "ticks": ""
             }
            },
            "type": "scatter3d"
           }
          ],
          "scattercarpet": [
           {
            "marker": {
             "colorbar": {
              "outlinewidth": 0,
              "ticks": ""
             }
            },
            "type": "scattercarpet"
           }
          ],
          "scattergeo": [
           {
            "marker": {
             "colorbar": {
              "outlinewidth": 0,
              "ticks": ""
             }
            },
            "type": "scattergeo"
           }
          ],
          "scattergl": [
           {
            "marker": {
             "colorbar": {
              "outlinewidth": 0,
              "ticks": ""
             }
            },
            "type": "scattergl"
           }
          ],
          "scattermapbox": [
           {
            "marker": {
             "colorbar": {
              "outlinewidth": 0,
              "ticks": ""
             }
            },
            "type": "scattermapbox"
           }
          ],
          "scatterpolar": [
           {
            "marker": {
             "colorbar": {
              "outlinewidth": 0,
              "ticks": ""
             }
            },
            "type": "scatterpolar"
           }
          ],
          "scatterpolargl": [
           {
            "marker": {
             "colorbar": {
              "outlinewidth": 0,
              "ticks": ""
             }
            },
            "type": "scatterpolargl"
           }
          ],
          "scatterternary": [
           {
            "marker": {
             "colorbar": {
              "outlinewidth": 0,
              "ticks": ""
             }
            },
            "type": "scatterternary"
           }
          ],
          "surface": [
           {
            "colorbar": {
             "outlinewidth": 0,
             "ticks": ""
            },
            "colorscale": [
             [
              0,
              "#0d0887"
             ],
             [
              0.1111111111111111,
              "#46039f"
             ],
             [
              0.2222222222222222,
              "#7201a8"
             ],
             [
              0.3333333333333333,
              "#9c179e"
             ],
             [
              0.4444444444444444,
              "#bd3786"
             ],
             [
              0.5555555555555556,
              "#d8576b"
             ],
             [
              0.6666666666666666,
              "#ed7953"
             ],
             [
              0.7777777777777778,
              "#fb9f3a"
             ],
             [
              0.8888888888888888,
              "#fdca26"
             ],
             [
              1,
              "#f0f921"
             ]
            ],
            "type": "surface"
           }
          ],
          "table": [
           {
            "cells": {
             "fill": {
              "color": "#EBF0F8"
             },
             "line": {
              "color": "white"
             }
            },
            "header": {
             "fill": {
              "color": "#C8D4E3"
             },
             "line": {
              "color": "white"
             }
            },
            "type": "table"
           }
          ]
         },
         "layout": {
          "annotationdefaults": {
           "arrowcolor": "#2a3f5f",
           "arrowhead": 0,
           "arrowwidth": 1
          },
          "autotypenumbers": "strict",
          "coloraxis": {
           "colorbar": {
            "outlinewidth": 0,
            "ticks": ""
           }
          },
          "colorscale": {
           "diverging": [
            [
             0,
             "#8e0152"
            ],
            [
             0.1,
             "#c51b7d"
            ],
            [
             0.2,
             "#de77ae"
            ],
            [
             0.3,
             "#f1b6da"
            ],
            [
             0.4,
             "#fde0ef"
            ],
            [
             0.5,
             "#f7f7f7"
            ],
            [
             0.6,
             "#e6f5d0"
            ],
            [
             0.7,
             "#b8e186"
            ],
            [
             0.8,
             "#7fbc41"
            ],
            [
             0.9,
             "#4d9221"
            ],
            [
             1,
             "#276419"
            ]
           ],
           "sequential": [
            [
             0,
             "#0d0887"
            ],
            [
             0.1111111111111111,
             "#46039f"
            ],
            [
             0.2222222222222222,
             "#7201a8"
            ],
            [
             0.3333333333333333,
             "#9c179e"
            ],
            [
             0.4444444444444444,
             "#bd3786"
            ],
            [
             0.5555555555555556,
             "#d8576b"
            ],
            [
             0.6666666666666666,
             "#ed7953"
            ],
            [
             0.7777777777777778,
             "#fb9f3a"
            ],
            [
             0.8888888888888888,
             "#fdca26"
            ],
            [
             1,
             "#f0f921"
            ]
           ],
           "sequentialminus": [
            [
             0,
             "#0d0887"
            ],
            [
             0.1111111111111111,
             "#46039f"
            ],
            [
             0.2222222222222222,
             "#7201a8"
            ],
            [
             0.3333333333333333,
             "#9c179e"
            ],
            [
             0.4444444444444444,
             "#bd3786"
            ],
            [
             0.5555555555555556,
             "#d8576b"
            ],
            [
             0.6666666666666666,
             "#ed7953"
            ],
            [
             0.7777777777777778,
             "#fb9f3a"
            ],
            [
             0.8888888888888888,
             "#fdca26"
            ],
            [
             1,
             "#f0f921"
            ]
           ]
          },
          "colorway": [
           "#636efa",
           "#EF553B",
           "#00cc96",
           "#ab63fa",
           "#FFA15A",
           "#19d3f3",
           "#FF6692",
           "#B6E880",
           "#FF97FF",
           "#FECB52"
          ],
          "font": {
           "color": "#2a3f5f"
          },
          "geo": {
           "bgcolor": "white",
           "lakecolor": "white",
           "landcolor": "#E5ECF6",
           "showlakes": true,
           "showland": true,
           "subunitcolor": "white"
          },
          "hoverlabel": {
           "align": "left"
          },
          "hovermode": "closest",
          "mapbox": {
           "style": "light"
          },
          "paper_bgcolor": "white",
          "plot_bgcolor": "#E5ECF6",
          "polar": {
           "angularaxis": {
            "gridcolor": "white",
            "linecolor": "white",
            "ticks": ""
           },
           "bgcolor": "#E5ECF6",
           "radialaxis": {
            "gridcolor": "white",
            "linecolor": "white",
            "ticks": ""
           }
          },
          "scene": {
           "xaxis": {
            "backgroundcolor": "#E5ECF6",
            "gridcolor": "white",
            "gridwidth": 2,
            "linecolor": "white",
            "showbackground": true,
            "ticks": "",
            "zerolinecolor": "white"
           },
           "yaxis": {
            "backgroundcolor": "#E5ECF6",
            "gridcolor": "white",
            "gridwidth": 2,
            "linecolor": "white",
            "showbackground": true,
            "ticks": "",
            "zerolinecolor": "white"
           },
           "zaxis": {
            "backgroundcolor": "#E5ECF6",
            "gridcolor": "white",
            "gridwidth": 2,
            "linecolor": "white",
            "showbackground": true,
            "ticks": "",
            "zerolinecolor": "white"
           }
          },
          "shapedefaults": {
           "line": {
            "color": "#2a3f5f"
           }
          },
          "ternary": {
           "aaxis": {
            "gridcolor": "white",
            "linecolor": "white",
            "ticks": ""
           },
           "baxis": {
            "gridcolor": "white",
            "linecolor": "white",
            "ticks": ""
           },
           "bgcolor": "#E5ECF6",
           "caxis": {
            "gridcolor": "white",
            "linecolor": "white",
            "ticks": ""
           }
          },
          "title": {
           "x": 0.05
          },
          "xaxis": {
           "automargin": true,
           "gridcolor": "white",
           "linecolor": "white",
           "ticks": "",
           "title": {
            "standoff": 15
           },
           "zerolinecolor": "white",
           "zerolinewidth": 2
          },
          "yaxis": {
           "automargin": true,
           "gridcolor": "white",
           "linecolor": "white",
           "ticks": "",
           "title": {
            "standoff": 15
           },
           "zerolinecolor": "white",
           "zerolinewidth": 2
          }
         }
        },
        "title": {
         "text": "Overweight % around the world"
        }
       }
      },
      "text/html": [
       "<div>                            <div id=\"f844fb4b-9d2b-4039-ade4-4949cef05d1f\" class=\"plotly-graph-div\" style=\"height:525px; width:100%;\"></div>            <script type=\"text/javascript\">                require([\"plotly\"], function(Plotly) {                    window.PLOTLYENV=window.PLOTLYENV || {};                                    if (document.getElementById(\"f844fb4b-9d2b-4039-ade4-4949cef05d1f\")) {                    Plotly.newPlot(                        \"f844fb4b-9d2b-4039-ade4-4949cef05d1f\",                        [{\"colorbar\":{\"len\":200,\"lenmode\":\"pixels\",\"title\":{\"text\":\"Overweight %\"}},\"colorscale\":[[0.0,\"rgb(12,51,131)\"],[0.25,\"rgb(10,136,186)\"],[0.5,\"rgb(242,211,56)\"],[0.75,\"rgb(242,143,56)\"],[1.0,\"rgb(217,30,30)\"]],\"locationmode\":\"country names\",\"locations\":[\"AFGHANISTAN\",\"ALBANIA\",\"ALGERIA\",\"ANGOLA\",\"ARGENTINA\",\"ARMENIA\",\"AUSTRALIA\",\"AZERBAIJAN\",\"BAHRAIN\",\"BANGLADESH\",\"BARBADOS\",\"BELARUS\",\"BELIZE\",\"BENIN\",\"BHUTAN\",\"BOLIVIA (PLURINATIONAL STATE OF)\",\"BOSNIA AND HERZEGOVINA\",\"BOTSWANA\",\"BRAZIL\",\"BRUNEI DARUSSALAM\",\"BULGARIA\",\"BURKINA FASO\",\"BURUNDI\",\"CABO VERDE\",\"CAMBODIA\",\"CAMEROON\",\"CANADA\",\"CENTRAL AFRICAN REPUBLIC (THE)\",\"CHAD\",\"CHILE\",\"CHINA\",\"COLOMBIA\",\"COMOROS (THE)\",\"CONGO (THE)\",\"COSTA RICA\",\"COTE D'IVOIRE\",\"CUBA\",\"CZECHIA\",\"DEMOCRATIC PEOPLE'S REP. OF KOREA (THE)\",\"DEMOCRATIC REP. OF THE CONGO (THE)\",\"DJIBOUTI\",\"DOMINICAN REPUBLIC (THE)\",\"ECUADOR\",\"EGYPT\",\"EL SALVADOR\",\"EQUATORIAL GUINEA\",\"ERITREA\",\"ESWATINI\",\"ETHIOPIA\",\"FIJI\",\"GABON\",\"GAMBIA (THE)\",\"GEORGIA\",\"GERMANY\",\"GHANA\",\"GUATEMALA\",\"GUINEA\",\"GUINEA-BISSAU\",\"GUYANA\",\"HAITI\",\"HONDURAS\",\"INDIA\",\"INDONESIA\",\"IRAN (ISLAMIC REPUBLIC OF)\",\"IRAQ\",\"JAMAICA\",\"JAPAN\",\"JORDAN\",\"KAZAKHSTAN\",\"KENYA\",\"KIRIBATI\",\"KUWAIT\",\"KYRGYZSTAN\",\"LAO PEOPLE'S DEMOCRATIC REP. (THE)\",\"LEBANON\",\"LESOTHO\",\"LIBERIA\",\"LIBYA\",\"MADAGASCAR\",\"MALAWI\",\"MALAYSIA\",\"MALDIVES\",\"MALI\",\"MARSHALL ISLANDS\",\"MAURITANIA\",\"MAURITIUS\",\"MEXICO\",\"MONGOLIA\",\"MONTENEGRO\",\"MOROCCO\",\"MOZAMBIQUE\",\"MYANMAR\",\"NAMIBIA\",\"NAURU\",\"NEPAL\",\"NICARAGUA\",\"NIGER (THE)\",\"NIGERIA\",\"NORTH MACEDONIA\",\"OMAN\",\"PAKISTAN\",\"PANAMA\",\"PAPUA NEW GUINEA\",\"PARAGUAY\",\"PERU\",\"PHILIPPINES (THE)\",\"POLAND\",\"QATAR\",\"REPUBLIC OF KOREA (THE)\",\"REPUBLIC OF MOLDOVA (THE)\",\"ROMANIA\",\"RWANDA\",\"SAINT LUCIA\",\"SAMOA\",\"SAO TOME AND PRINCIPE\",\"SAUDI ARABIA\",\"SENEGAL\",\"SERBIA\",\"SEYCHELLES\",\"SIERRA LEONE\",\"SINGAPORE\",\"SOLOMON ISLANDS\",\"SOMALIA\",\"SOUTH AFRICA\",\"SOUTH SUDAN\",\"SRI LANKA\",\"STATE OF PALESTINE\",\"SUDAN (THE)\",\"SURINAME\",\"SYRIAN ARAB REPUBLIC (THE)\",\"TAJIKISTAN\",\"THAILAND\",\"TIMOR-LESTE\",\"TOGO\",\"TONGA\",\"TRINIDAD AND TOBAGO\",\"TUNISIA\",\"TURKEY\",\"TURKMENISTAN\",\"TUVALU\",\"UGANDA\",\"UKRAINE\",\"UNITED REPUBLIC OF TANZANIA (THE)\",\"UNITED STATES OF AMERICA (THE)\",\"URUGUAY\",\"UZBEKISTAN\",\"VANUATU\",\"VENEZUELA (BOLIVARIAN REPUBLIC OF)\",\"VIET NAM\",\"YEMEN\",\"ZAMBIA\",\"ZIMBABWE\"],\"text\":[\"AFGHANISTAN\",\"ALBANIA\",\"ALGERIA\",\"ANGOLA\",\"ARGENTINA\",\"ARMENIA\",\"AUSTRALIA\",\"AZERBAIJAN\",\"BAHRAIN\",\"BANGLADESH\",\"BARBADOS\",\"BELARUS\",\"BELIZE\",\"BENIN\",\"BHUTAN\",\"BOLIVIA (PLURINATIONAL STATE OF)\",\"BOSNIA AND HERZEGOVINA\",\"BOTSWANA\",\"BRAZIL\",\"BRUNEI DARUSSALAM\",\"BULGARIA\",\"BURKINA FASO\",\"BURUNDI\",\"CABO VERDE\",\"CAMBODIA\",\"CAMEROON\",\"CANADA\",\"CENTRAL AFRICAN REPUBLIC (THE)\",\"CHAD\",\"CHILE\",\"CHINA\",\"COLOMBIA\",\"COMOROS (THE)\",\"CONGO (THE)\",\"COSTA RICA\",\"COTE D'IVOIRE\",\"CUBA\",\"CZECHIA\",\"DEMOCRATIC PEOPLE'S REP. OF KOREA (THE)\",\"DEMOCRATIC REP. OF THE CONGO (THE)\",\"DJIBOUTI\",\"DOMINICAN REPUBLIC (THE)\",\"ECUADOR\",\"EGYPT\",\"EL SALVADOR\",\"EQUATORIAL GUINEA\",\"ERITREA\",\"ESWATINI\",\"ETHIOPIA\",\"FIJI\",\"GABON\",\"GAMBIA (THE)\",\"GEORGIA\",\"GERMANY\",\"GHANA\",\"GUATEMALA\",\"GUINEA\",\"GUINEA-BISSAU\",\"GUYANA\",\"HAITI\",\"HONDURAS\",\"INDIA\",\"INDONESIA\",\"IRAN (ISLAMIC REPUBLIC OF)\",\"IRAQ\",\"JAMAICA\",\"JAPAN\",\"JORDAN\",\"KAZAKHSTAN\",\"KENYA\",\"KIRIBATI\",\"KUWAIT\",\"KYRGYZSTAN\",\"LAO PEOPLE'S DEMOCRATIC REP. (THE)\",\"LEBANON\",\"LESOTHO\",\"LIBERIA\",\"LIBYA\",\"MADAGASCAR\",\"MALAWI\",\"MALAYSIA\",\"MALDIVES\",\"MALI\",\"MARSHALL ISLANDS\",\"MAURITANIA\",\"MAURITIUS\",\"MEXICO\",\"MONGOLIA\",\"MONTENEGRO\",\"MOROCCO\",\"MOZAMBIQUE\",\"MYANMAR\",\"NAMIBIA\",\"NAURU\",\"NEPAL\",\"NICARAGUA\",\"NIGER (THE)\",\"NIGERIA\",\"NORTH MACEDONIA\",\"OMAN\",\"PAKISTAN\",\"PANAMA\",\"PAPUA NEW GUINEA\",\"PARAGUAY\",\"PERU\",\"PHILIPPINES (THE)\",\"POLAND\",\"QATAR\",\"REPUBLIC OF KOREA (THE)\",\"REPUBLIC OF MOLDOVA (THE)\",\"ROMANIA\",\"RWANDA\",\"SAINT LUCIA\",\"SAMOA\",\"SAO TOME AND PRINCIPE\",\"SAUDI ARABIA\",\"SENEGAL\",\"SERBIA\",\"SEYCHELLES\",\"SIERRA LEONE\",\"SINGAPORE\",\"SOLOMON ISLANDS\",\"SOMALIA\",\"SOUTH AFRICA\",\"SOUTH SUDAN\",\"SRI LANKA\",\"STATE OF PALESTINE\",\"SUDAN (THE)\",\"SURINAME\",\"SYRIAN ARAB REPUBLIC (THE)\",\"TAJIKISTAN\",\"THAILAND\",\"TIMOR-LESTE\",\"TOGO\",\"TONGA\",\"TRINIDAD AND TOBAGO\",\"TUNISIA\",\"TURKEY\",\"TURKMENISTAN\",\"TUVALU\",\"UGANDA\",\"UKRAINE\",\"UNITED REPUBLIC OF TANZANIA (THE)\",\"UNITED STATES OF AMERICA (THE)\",\"URUGUAY\",\"UZBEKISTAN\",\"VANUATU\",\"VENEZUELA (BOLIVARIAN REPUBLIC OF)\",\"VIET NAM\",\"YEMEN\",\"ZAMBIA\",\"ZIMBABWE\"],\"z\":[5.125,20.8,12.833333333333334,2.55,11.125,13.62,13.875,9.183333333333334,7.5,0.9625000000000002,12.2,9.7,9.6,2.275,5.1,8.6,19.8,10.05,6.25,8.3,9.0,2.2500000000000004,1.775,null,3.033333333333333,8.042857142857143,10.4,5.380000000000001,3.0400000000000005,11.313333333333334,7.027272727272727,4.783333333333333,12.466666666666669,4.875,8.8,4.3,null,5.550000000000001,1.0666666666666669,5.75,8.25,6.7,5.720000000000001,13.7625,4.75,8.85,1.6666666666666667,11.425,2.75,3.65,6.6,2.228571428571428,19.53333333333333,3.35,2.8222222222222224,5.4,4.333333333333333,6.75,5.24,3.66,3.9,2.9333333333333336,7.199999999999999,6.2,9.5,5.994736842105262,1.5,5.72,9.7,5.95,15.9,7.98888888888889,7.666666666666665,2.4,18.75,9.82,3.4799999999999995,21.8,2.5,7.484615384615385,6.2,4.66,2.2,4.1,2.6375,7.65,7.371428571428572,9.925,19.0,10.866666666666667,6.566666666666666,4.62,4.125,2.8,1.0285714285714287,6.55,1.52,4.890909090909092,12.733333333333333,3.5500000000000003,4.757142857142857,9.066666666666666,6.733333333333333,9.275,8.940000000000001,3.1,null,10.4,6.75,6.9,8.080000000000002,6.314285714285715,6.3,5.75,9.55,3.65,2.115384615384615,16.266666666666666,8.0,6.237500000000001,2.6,2.966666666666667,3.85,13.614285714285714,8.45,1.05,7.58,2.9,3.633333333333333,17.825000000000003,6.116666666666666,6.619999999999999,3.65,2.3999999999999995,17.3,6.633333333333333,9.080000000000002,7.75,5.2,6.3,4.277777777777778,26.5,4.540000000000001,7.414285714285714,9.166666666666666,10.925,4.800000000000001,5.40952380952381,3.3176470588235287,4.842857142857143,7.228571428571429,5.788888888888889],\"type\":\"choropleth\"}],                        {\"geo\":{\"scope\":\"world\"},\"title\":{\"text\":\"Overweight % around the world\"},\"template\":{\"data\":{\"histogram2dcontour\":[{\"type\":\"histogram2dcontour\",\"colorbar\":{\"outlinewidth\":0,\"ticks\":\"\"},\"colorscale\":[[0.0,\"#0d0887\"],[0.1111111111111111,\"#46039f\"],[0.2222222222222222,\"#7201a8\"],[0.3333333333333333,\"#9c179e\"],[0.4444444444444444,\"#bd3786\"],[0.5555555555555556,\"#d8576b\"],[0.6666666666666666,\"#ed7953\"],[0.7777777777777778,\"#fb9f3a\"],[0.8888888888888888,\"#fdca26\"],[1.0,\"#f0f921\"]]}],\"choropleth\":[{\"type\":\"choropleth\",\"colorbar\":{\"outlinewidth\":0,\"ticks\":\"\"}}],\"histogram2d\":[{\"type\":\"histogram2d\",\"colorbar\":{\"outlinewidth\":0,\"ticks\":\"\"},\"colorscale\":[[0.0,\"#0d0887\"],[0.1111111111111111,\"#46039f\"],[0.2222222222222222,\"#7201a8\"],[0.3333333333333333,\"#9c179e\"],[0.4444444444444444,\"#bd3786\"],[0.5555555555555556,\"#d8576b\"],[0.6666666666666666,\"#ed7953\"],[0.7777777777777778,\"#fb9f3a\"],[0.8888888888888888,\"#fdca26\"],[1.0,\"#f0f921\"]]}],\"heatmap\":[{\"type\":\"heatmap\",\"colorbar\":{\"outlinewidth\":0,\"ticks\":\"\"},\"colorscale\":[[0.0,\"#0d0887\"],[0.1111111111111111,\"#46039f\"],[0.2222222222222222,\"#7201a8\"],[0.3333333333333333,\"#9c179e\"],[0.4444444444444444,\"#bd3786\"],[0.5555555555555556,\"#d8576b\"],[0.6666666666666666,\"#ed7953\"],[0.7777777777777778,\"#fb9f3a\"],[0.8888888888888888,\"#fdca26\"],[1.0,\"#f0f921\"]]}],\"heatmapgl\":[{\"type\":\"heatmapgl\",\"colorbar\":{\"outlinewidth\":0,\"ticks\":\"\"},\"colorscale\":[[0.0,\"#0d0887\"],[0.1111111111111111,\"#46039f\"],[0.2222222222222222,\"#7201a8\"],[0.3333333333333333,\"#9c179e\"],[0.4444444444444444,\"#bd3786\"],[0.5555555555555556,\"#d8576b\"],[0.6666666666666666,\"#ed7953\"],[0.7777777777777778,\"#fb9f3a\"],[0.8888888888888888,\"#fdca26\"],[1.0,\"#f0f921\"]]}],\"contourcarpet\":[{\"type\":\"contourcarpet\",\"colorbar\":{\"outlinewidth\":0,\"ticks\":\"\"}}],\"contour\":[{\"type\":\"contour\",\"colorbar\":{\"outlinewidth\":0,\"ticks\":\"\"},\"colorscale\":[[0.0,\"#0d0887\"],[0.1111111111111111,\"#46039f\"],[0.2222222222222222,\"#7201a8\"],[0.3333333333333333,\"#9c179e\"],[0.4444444444444444,\"#bd3786\"],[0.5555555555555556,\"#d8576b\"],[0.6666666666666666,\"#ed7953\"],[0.7777777777777778,\"#fb9f3a\"],[0.8888888888888888,\"#fdca26\"],[1.0,\"#f0f921\"]]}],\"surface\":[{\"type\":\"surface\",\"colorbar\":{\"outlinewidth\":0,\"ticks\":\"\"},\"colorscale\":[[0.0,\"#0d0887\"],[0.1111111111111111,\"#46039f\"],[0.2222222222222222,\"#7201a8\"],[0.3333333333333333,\"#9c179e\"],[0.4444444444444444,\"#bd3786\"],[0.5555555555555556,\"#d8576b\"],[0.6666666666666666,\"#ed7953\"],[0.7777777777777778,\"#fb9f3a\"],[0.8888888888888888,\"#fdca26\"],[1.0,\"#f0f921\"]]}],\"mesh3d\":[{\"type\":\"mesh3d\",\"colorbar\":{\"outlinewidth\":0,\"ticks\":\"\"}}],\"scatter\":[{\"fillpattern\":{\"fillmode\":\"overlay\",\"size\":10,\"solidity\":0.2},\"type\":\"scatter\"}],\"parcoords\":[{\"type\":\"parcoords\",\"line\":{\"colorbar\":{\"outlinewidth\":0,\"ticks\":\"\"}}}],\"scatterpolargl\":[{\"type\":\"scatterpolargl\",\"marker\":{\"colorbar\":{\"outlinewidth\":0,\"ticks\":\"\"}}}],\"bar\":[{\"error_x\":{\"color\":\"#2a3f5f\"},\"error_y\":{\"color\":\"#2a3f5f\"},\"marker\":{\"line\":{\"color\":\"#E5ECF6\",\"width\":0.5},\"pattern\":{\"fillmode\":\"overlay\",\"size\":10,\"solidity\":0.2}},\"type\":\"bar\"}],\"scattergeo\":[{\"type\":\"scattergeo\",\"marker\":{\"colorbar\":{\"outlinewidth\":0,\"ticks\":\"\"}}}],\"scatterpolar\":[{\"type\":\"scatterpolar\",\"marker\":{\"colorbar\":{\"outlinewidth\":0,\"ticks\":\"\"}}}],\"histogram\":[{\"marker\":{\"pattern\":{\"fillmode\":\"overlay\",\"size\":10,\"solidity\":0.2}},\"type\":\"histogram\"}],\"scattergl\":[{\"type\":\"scattergl\",\"marker\":{\"colorbar\":{\"outlinewidth\":0,\"ticks\":\"\"}}}],\"scatter3d\":[{\"type\":\"scatter3d\",\"line\":{\"colorbar\":{\"outlinewidth\":0,\"ticks\":\"\"}},\"marker\":{\"colorbar\":{\"outlinewidth\":0,\"ticks\":\"\"}}}],\"scattermapbox\":[{\"type\":\"scattermapbox\",\"marker\":{\"colorbar\":{\"outlinewidth\":0,\"ticks\":\"\"}}}],\"scatterternary\":[{\"type\":\"scatterternary\",\"marker\":{\"colorbar\":{\"outlinewidth\":0,\"ticks\":\"\"}}}],\"scattercarpet\":[{\"type\":\"scattercarpet\",\"marker\":{\"colorbar\":{\"outlinewidth\":0,\"ticks\":\"\"}}}],\"carpet\":[{\"aaxis\":{\"endlinecolor\":\"#2a3f5f\",\"gridcolor\":\"white\",\"linecolor\":\"white\",\"minorgridcolor\":\"white\",\"startlinecolor\":\"#2a3f5f\"},\"baxis\":{\"endlinecolor\":\"#2a3f5f\",\"gridcolor\":\"white\",\"linecolor\":\"white\",\"minorgridcolor\":\"white\",\"startlinecolor\":\"#2a3f5f\"},\"type\":\"carpet\"}],\"table\":[{\"cells\":{\"fill\":{\"color\":\"#EBF0F8\"},\"line\":{\"color\":\"white\"}},\"header\":{\"fill\":{\"color\":\"#C8D4E3\"},\"line\":{\"color\":\"white\"}},\"type\":\"table\"}],\"barpolar\":[{\"marker\":{\"line\":{\"color\":\"#E5ECF6\",\"width\":0.5},\"pattern\":{\"fillmode\":\"overlay\",\"size\":10,\"solidity\":0.2}},\"type\":\"barpolar\"}],\"pie\":[{\"automargin\":true,\"type\":\"pie\"}]},\"layout\":{\"autotypenumbers\":\"strict\",\"colorway\":[\"#636efa\",\"#EF553B\",\"#00cc96\",\"#ab63fa\",\"#FFA15A\",\"#19d3f3\",\"#FF6692\",\"#B6E880\",\"#FF97FF\",\"#FECB52\"],\"font\":{\"color\":\"#2a3f5f\"},\"hovermode\":\"closest\",\"hoverlabel\":{\"align\":\"left\"},\"paper_bgcolor\":\"white\",\"plot_bgcolor\":\"#E5ECF6\",\"polar\":{\"bgcolor\":\"#E5ECF6\",\"angularaxis\":{\"gridcolor\":\"white\",\"linecolor\":\"white\",\"ticks\":\"\"},\"radialaxis\":{\"gridcolor\":\"white\",\"linecolor\":\"white\",\"ticks\":\"\"}},\"ternary\":{\"bgcolor\":\"#E5ECF6\",\"aaxis\":{\"gridcolor\":\"white\",\"linecolor\":\"white\",\"ticks\":\"\"},\"baxis\":{\"gridcolor\":\"white\",\"linecolor\":\"white\",\"ticks\":\"\"},\"caxis\":{\"gridcolor\":\"white\",\"linecolor\":\"white\",\"ticks\":\"\"}},\"coloraxis\":{\"colorbar\":{\"outlinewidth\":0,\"ticks\":\"\"}},\"colorscale\":{\"sequential\":[[0.0,\"#0d0887\"],[0.1111111111111111,\"#46039f\"],[0.2222222222222222,\"#7201a8\"],[0.3333333333333333,\"#9c179e\"],[0.4444444444444444,\"#bd3786\"],[0.5555555555555556,\"#d8576b\"],[0.6666666666666666,\"#ed7953\"],[0.7777777777777778,\"#fb9f3a\"],[0.8888888888888888,\"#fdca26\"],[1.0,\"#f0f921\"]],\"sequentialminus\":[[0.0,\"#0d0887\"],[0.1111111111111111,\"#46039f\"],[0.2222222222222222,\"#7201a8\"],[0.3333333333333333,\"#9c179e\"],[0.4444444444444444,\"#bd3786\"],[0.5555555555555556,\"#d8576b\"],[0.6666666666666666,\"#ed7953\"],[0.7777777777777778,\"#fb9f3a\"],[0.8888888888888888,\"#fdca26\"],[1.0,\"#f0f921\"]],\"diverging\":[[0,\"#8e0152\"],[0.1,\"#c51b7d\"],[0.2,\"#de77ae\"],[0.3,\"#f1b6da\"],[0.4,\"#fde0ef\"],[0.5,\"#f7f7f7\"],[0.6,\"#e6f5d0\"],[0.7,\"#b8e186\"],[0.8,\"#7fbc41\"],[0.9,\"#4d9221\"],[1,\"#276419\"]]},\"xaxis\":{\"gridcolor\":\"white\",\"linecolor\":\"white\",\"ticks\":\"\",\"title\":{\"standoff\":15},\"zerolinecolor\":\"white\",\"automargin\":true,\"zerolinewidth\":2},\"yaxis\":{\"gridcolor\":\"white\",\"linecolor\":\"white\",\"ticks\":\"\",\"title\":{\"standoff\":15},\"zerolinecolor\":\"white\",\"automargin\":true,\"zerolinewidth\":2},\"scene\":{\"xaxis\":{\"backgroundcolor\":\"#E5ECF6\",\"gridcolor\":\"white\",\"linecolor\":\"white\",\"showbackground\":true,\"ticks\":\"\",\"zerolinecolor\":\"white\",\"gridwidth\":2},\"yaxis\":{\"backgroundcolor\":\"#E5ECF6\",\"gridcolor\":\"white\",\"linecolor\":\"white\",\"showbackground\":true,\"ticks\":\"\",\"zerolinecolor\":\"white\",\"gridwidth\":2},\"zaxis\":{\"backgroundcolor\":\"#E5ECF6\",\"gridcolor\":\"white\",\"linecolor\":\"white\",\"showbackground\":true,\"ticks\":\"\",\"zerolinecolor\":\"white\",\"gridwidth\":2}},\"shapedefaults\":{\"line\":{\"color\":\"#2a3f5f\"}},\"annotationdefaults\":{\"arrowcolor\":\"#2a3f5f\",\"arrowhead\":0,\"arrowwidth\":1},\"geo\":{\"bgcolor\":\"white\",\"landcolor\":\"#E5ECF6\",\"subunitcolor\":\"white\",\"showland\":true,\"showlakes\":true,\"lakecolor\":\"white\"},\"title\":{\"x\":0.05},\"mapbox\":{\"style\":\"light\"}}}},                        {\"responsive\": true}                    ).then(function(){\n",
       "                            \n",
       "var gd = document.getElementById('f844fb4b-9d2b-4039-ade4-4949cef05d1f');\n",
       "var x = new MutationObserver(function (mutations, observer) {{\n",
       "        var display = window.getComputedStyle(gd).display;\n",
       "        if (!display || display === 'none') {{\n",
       "            console.log([gd, 'removed!']);\n",
       "            Plotly.purge(gd);\n",
       "            observer.disconnect();\n",
       "        }}\n",
       "}});\n",
       "\n",
       "// Listen for the removal of the full notebook cells\n",
       "var notebookContainer = gd.closest('#notebook-container');\n",
       "if (notebookContainer) {{\n",
       "    x.observe(notebookContainer, {childList: true});\n",
       "}}\n",
       "\n",
       "// Listen for the clearing of the current output cell\n",
       "var outputEl = gd.closest('.output');\n",
       "if (outputEl) {{\n",
       "    x.observe(outputEl, {childList: true});\n",
       "}}\n",
       "\n",
       "                        })                };                });            </script>        </div>"
      ]
     },
     "metadata": {},
     "output_type": "display_data"
    }
   ],
   "source": [
    "#Plotting on the WorldMap using plotly\n",
    "x = df_country.groupby([\"Country\"])[\"Overweight\"].mean()\n",
    "data = dict(type = 'choropleth',\n",
    "            locations = x.index,\n",
    "            locationmode = 'country names',\n",
    "            colorscale= 'Portland',\n",
    "            text= x.index,\n",
    "            z=x,\n",
    "            colorbar = {'title':'Overweight %', 'len':200,'lenmode':'pixels' })\n",
    "layout = dict(geo = {'scope':'world'},title=\"Overweight % around the world\")\n",
    "col_map = go.Figure(data = [data],layout = layout)\n",
    "col_map.show()"
   ]
  },
  {
   "cell_type": "code",
   "execution_count": 113,
   "id": "81cfa1de",
   "metadata": {},
   "outputs": [
    {
     "data": {
      "text/plain": [
       "(array([0, 1, 2, 3]),\n",
       " [Text(0, 0, '0'), Text(1, 0, '1'), Text(2, 0, '2'), Text(3, 0, '3')])"
      ]
     },
     "execution_count": 113,
     "metadata": {},
     "output_type": "execute_result"
    },
    {
     "data": {
      "image/png": "[encoded data removed]",
      "text/plain": [
       "<Figure size 1600x800 with 1 Axes>"
      ]
     },
     "metadata": {},
     "output_type": "display_data"
    }
   ],
   "source": [
    "plt.figure(figsize=(16, 8))\n",
    "x = df_country.groupby([\"Income Classification\"])[\"Stunting\"].mean()\n",
    "sns.set(style=\"whitegrid\")\n",
    "ax = sns.barplot(x=x.index, y=x)\n",
    "ax.set_title('Stunting')\n",
    "ax.set_ylabel('% Stunting')\n",
    "ax.set_xlabel('Income Classification')\n",
    "plt.xticks(rotation = 90)"
   ]
  },
  {
   "cell_type": "code",
   "execution_count": 114,
   "id": "98f55675",
   "metadata": {},
   "outputs": [
    {
     "data": {
      "application/vnd.plotly.v1+json": {
       "config": {
        "plotlyServerURL": "https://plot.ly"
       },
       "data": [
        {
         "colorbar": {
          "len": 200,
          "lenmode": "pixels",
          "title": {
           "text": "stunting %"
          }
         },
         "colorscale": [
          [
           0,
           "rgb(12,51,131)"
          ],
          [
           0.25,
           "rgb(10,136,186)"
          ],
          [
           0.5,
           "rgb(242,211,56)"
          ],
          [
           0.75,
           "rgb(242,143,56)"
          ],
          [
           1,
           "rgb(217,30,30)"
          ]
         ],
         "locationmode": "country names",
         "locations": [
          "AFGHANISTAN",
          "ALBANIA",
          "ALGERIA",
          "ANGOLA",
          "ARGENTINA",
          "ARMENIA",
          "AUSTRALIA",
          "AZERBAIJAN",
          "BAHRAIN",
          "BANGLADESH",
          "BARBADOS",
          "BELARUS",
          "BELIZE",
          "BENIN",
          "BHUTAN",
          "BOLIVIA (PLURINATIONAL STATE OF)",
          "BOSNIA AND HERZEGOVINA",
          "BOTSWANA",
          "BRAZIL",
          "BRUNEI DARUSSALAM",
          "BULGARIA",
          "BURKINA FASO",
          "BURUNDI",
          "CABO VERDE",
          "CAMBODIA",
          "CAMEROON",
          "CANADA",
          "CENTRAL AFRICAN REPUBLIC (THE)",
          "CHAD",
          "CHILE",
          "CHINA",
          "COLOMBIA",
          "COMOROS (THE)",
          "CONGO (THE)",
          "COSTA RICA",
          "COTE D'IVOIRE",
          "CUBA",
          "CZECHIA",
          "DEMOCRATIC PEOPLE'S REP. OF KOREA (THE)",
          "DEMOCRATIC REP. OF THE CONGO (THE)",
          "DJIBOUTI",
          "DOMINICAN REPUBLIC (THE)",
          "ECUADOR",
          "EGYPT",
          "EL SALVADOR",
          "EQUATORIAL GUINEA",
          "ERITREA",
          "ESWATINI",
          "ETHIOPIA",
          "FIJI",
          "GABON",
          "GAMBIA (THE)",
          "GEORGIA",
          "GERMANY",
          "GHANA",
          "GUATEMALA",
          "GUINEA",
          "GUINEA-BISSAU",
          "GUYANA",
          "HAITI",
          "HONDURAS",
          "INDIA",
          "INDONESIA",
          "IRAN (ISLAMIC REPUBLIC OF)",
          "IRAQ",
          "JAMAICA",
          "JAPAN",
          "JORDAN",
          "KAZAKHSTAN",
          "KENYA",
          "KIRIBATI",
          "KUWAIT",
          "KYRGYZSTAN",
          "LAO PEOPLE'S DEMOCRATIC REP. (THE)",
          "LEBANON",
          "LESOTHO",
          "LIBERIA",
          "LIBYA",
          "MADAGASCAR",
          "MALAWI",
          "MALAYSIA",
          "MALDIVES",
          "MALI",
          "MARSHALL ISLANDS",
          "MAURITANIA",
          "MAURITIUS",
          "MEXICO",
          "MONGOLIA",
          "MONTENEGRO",
          "MOROCCO",
          "MOZAMBIQUE",
          "MYANMAR",
          "NAMIBIA",
          "NAURU",
          "NEPAL",
          "NICARAGUA",
          "NIGER (THE)",
          "NIGERIA",
          "NORTH MACEDONIA",
          "OMAN",
          "PAKISTAN",
          "PANAMA",
          "PAPUA NEW GUINEA",
          "PARAGUAY",
          "PERU",
          "PHILIPPINES (THE)",
          "POLAND",
          "QATAR",
          "REPUBLIC OF KOREA (THE)",
          "REPUBLIC OF MOLDOVA (THE)",
          "ROMANIA",
          "RWANDA",
          "SAINT LUCIA",
          "SAMOA",
          "SAO TOME AND PRINCIPE",
          "SAUDI ARABIA",
          "SENEGAL",
          "SERBIA",
          "SEYCHELLES",
          "SIERRA LEONE",
          "SINGAPORE",
          "SOLOMON ISLANDS",
          "SOMALIA",
          "SOUTH AFRICA",
          "SOUTH SUDAN",
          "SRI LANKA",
          "STATE OF PALESTINE",
          "SUDAN (THE)",
          "SURINAME",
          "SYRIAN ARAB REPUBLIC (THE)",
          "TAJIKISTAN",
          "THAILAND",
          "TIMOR-LESTE",
          "TOGO",
          "TONGA",
          "TRINIDAD AND TOBAGO",
          "TUNISIA",
          "TURKEY",
          "TURKMENISTAN",
          "TUVALU",
          "UGANDA",
          "UKRAINE",
          "UNITED REPUBLIC OF TANZANIA (THE)",
          "UNITED STATES OF AMERICA (THE)",
          "URUGUAY",
          "UZBEKISTAN",
          "VANUATU",
          "VENEZUELA (BOLIVARIAN REPUBLIC OF)",
          "VIET NAM",
          "YEMEN",
          "ZAMBIA",
          "ZIMBABWE"
         ],
         "text": [
          "AFGHANISTAN",
          "ALBANIA",
          "ALGERIA",
          "ANGOLA",
          "ARGENTINA",
          "ARMENIA",
          "AUSTRALIA",
          "AZERBAIJAN",
          "BAHRAIN",
          "BANGLADESH",
          "BARBADOS",
          "BELARUS",
          "BELIZE",
          "BENIN",
          "BHUTAN",
          "BOLIVIA (PLURINATIONAL STATE OF)",
          "BOSNIA AND HERZEGOVINA",
          "BOTSWANA",
          "BRAZIL",
          "BRUNEI DARUSSALAM",
          "BULGARIA",
          "BURKINA FASO",
          "BURUNDI",
          "CABO VERDE",
          "CAMBODIA",
          "CAMEROON",
          "CANADA",
          "CENTRAL AFRICAN REPUBLIC (THE)",
          "CHAD",
          "CHILE",
          "CHINA",
          "COLOMBIA",
          "COMOROS (THE)",
          "CONGO (THE)",
          "COSTA RICA",
          "COTE D'IVOIRE",
          "CUBA",
          "CZECHIA",
          "DEMOCRATIC PEOPLE'S REP. OF KOREA (THE)",
          "DEMOCRATIC REP. OF THE CONGO (THE)",
          "DJIBOUTI",
          "DOMINICAN REPUBLIC (THE)",
          "ECUADOR",
          "EGYPT",
          "EL SALVADOR",
          "EQUATORIAL GUINEA",
          "ERITREA",
          "ESWATINI",
          "ETHIOPIA",
          "FIJI",
          "GABON",
          "GAMBIA (THE)",
          "GEORGIA",
          "GERMANY",
          "GHANA",
          "GUATEMALA",
          "GUINEA",
          "GUINEA-BISSAU",
          "GUYANA",
          "HAITI",
          "HONDURAS",
          "INDIA",
          "INDONESIA",
          "IRAN (ISLAMIC REPUBLIC OF)",
          "IRAQ",
          "JAMAICA",
          "JAPAN",
          "JORDAN",
          "KAZAKHSTAN",
          "KENYA",
          "KIRIBATI",
          "KUWAIT",
          "KYRGYZSTAN",
          "LAO PEOPLE'S DEMOCRATIC REP. (THE)",
          "LEBANON",
          "LESOTHO",
          "LIBERIA",
          "LIBYA",
          "MADAGASCAR",
          "MALAWI",
          "MALAYSIA",
          "MALDIVES",
          "MALI",
          "MARSHALL ISLANDS",
          "MAURITANIA",
          "MAURITIUS",
          "MEXICO",
          "MONGOLIA",
          "MONTENEGRO",
          "MOROCCO",
          "MOZAMBIQUE",
          "MYANMAR",
          "NAMIBIA",
          "NAURU",
          "NEPAL",
          "NICARAGUA",
          "NIGER (THE)",
          "NIGERIA",
          "NORTH MACEDONIA",
          "OMAN",
          "PAKISTAN",
          "PANAMA",
          "PAPUA NEW GUINEA",
          "PARAGUAY",
          "PERU",
          "PHILIPPINES (THE)",
          "POLAND",
          "QATAR",
          "REPUBLIC OF KOREA (THE)",
          "REPUBLIC OF MOLDOVA (THE)",
          "ROMANIA",
          "RWANDA",
          "SAINT LUCIA",
          "SAMOA",
          "SAO TOME AND PRINCIPE",
          "SAUDI ARABIA",
          "SENEGAL",
          "SERBIA",
          "SEYCHELLES",
          "SIERRA LEONE",
          "SINGAPORE",
          "SOLOMON ISLANDS",
          "SOMALIA",
          "SOUTH AFRICA",
          "SOUTH SUDAN",
          "SRI LANKA",
          "STATE OF PALESTINE",
          "SUDAN (THE)",
          "SURINAME",
          "SYRIAN ARAB REPUBLIC (THE)",
          "TAJIKISTAN",
          "THAILAND",
          "TIMOR-LESTE",
          "TOGO",
          "TONGA",
          "TRINIDAD AND TOBAGO",
          "TUNISIA",
          "TURKEY",
          "TURKMENISTAN",
          "TUVALU",
          "UGANDA",
          "UKRAINE",
          "UNITED REPUBLIC OF TANZANIA (THE)",
          "UNITED STATES OF AMERICA (THE)",
          "URUGUAY",
          "UZBEKISTAN",
          "VANUATU",
          "VENEZUELA (BOLIVARIAN REPUBLIC OF)",
          "VIET NAM",
          "YEMEN",
          "ZAMBIA",
          "ZIMBABWE"
         ],
         "type": "choropleth",
         "z": [
          47.775000000000006,
          24.16,
          19.571428571428573,
          42.63333333333333,
          10.025,
          16.119999999999997,
          1,
          21.816666666666663,
          13.75,
          54.22916666666666,
          7.7,
          4.5,
          18.766666666666666,
          35.375,
          44.25,
          29.728571428571424,
          10.933333333333332,
          31.03333333333333,
          13.133333333333333,
          19.7,
          7.466666666666666,
          33.346153846153854,
          57.6,
          24.1,
          43.68333333333333,
          33.74285714285714,
          null,
          41.78333333333333,
          41.260000000000005,
          3.453333333333333,
          20.6,
          18.214285714285715,
          39.125,
          26.725,
          6.9,
          31.385714285714283,
          7,
          2.9000000000000004,
          40.3,
          45.46,
          30.075000000000003,
          12.749999999999998,
          28.75,
          28.5,
          26.600000000000005,
          35.65,
          53.225,
          32.5,
          47.84285714285714,
          5.9,
          21.45,
          23.7,
          14,
          1.5,
          29.477777777777785,
          54.1,
          34.2375,
          35.275,
          15.279999999999998,
          29.916666666666668,
          36.85714285714285,
          49.05555555555556,
          38.3625,
          14.675,
          24.514285714285712,
          8.680000000000001,
          7.1,
          11.76,
          15.02,
          37.144444444444446,
          34.4,
          4.661111111111112,
          19.916666666666668,
          44.92857142857143,
          16.85,
          40.2,
          37.22,
          26.73333333333333,
          52.575,
          49.10714285714285,
          19.075,
          32.6,
          34.41428571428572,
          34.8,
          34.17,
          20.45,
          19.175,
          20.777777777777786,
          8.65,
          23.85,
          47.84285714285715,
          45.1,
          29.200000000000003,
          24,
          51.9125,
          24.066666666666663,
          46,
          39.46363636363637,
          8.066666666666668,
          16.066666666666666,
          46.67142857142858,
          19.83333333333333,
          46.46666666666667,
          13.025,
          21.860000000000003,
          36.27272727272728,
          2.75,
          11.6,
          2.5,
          8.55,
          13.22,
          46.31111111111111,
          2.5,
          5.65,
          28.880000000000003,
          15.35,
          22.73571428571429,
          6.9,
          7.800000000000001,
          37.2,
          4.4,
          32.733333333333334,
          32.166666666666664,
          29.071428571428573,
          33.75,
          21.8625,
          11.550000000000002,
          36.86666666666667,
          11.166666666666666,
          28.55,
          33.77272727272727,
          17.733333333333334,
          55.38,
          30.922222222222224,
          5.15,
          6.933333333333333,
          12.45,
          14.35,
          19.5,
          10,
          38.333333333333336,
          22.9,
          40.99090909090909,
          2.914285714285714,
          14.242857142857144,
          23.7,
          26.766666666666666,
          16.957142857142863,
          34.922727272727265,
          51.9,
          48.1375,
          30.455555555555552
         ]
        }
       ],
       "layout": {
        "geo": {
         "scope": "world"
        },
        "template": {
         "data": {
          "bar": [
           {
            "error_x": {
             "color": "#2a3f5f"
            },
            "error_y": {
             "color": "#2a3f5f"
            },
            "marker": {
             "line": {
              "color": "#E5ECF6",
              "width": 0.5
             },
             "pattern": {
              "fillmode": "overlay",
              "size": 10,
              "solidity": 0.2
             }
            },
            "type": "bar"
           }
          ],
          "barpolar": [
           {
            "marker": {
             "line": {
              "color": "#E5ECF6",
              "width": 0.5
             },
             "pattern": {
              "fillmode": "overlay",
              "size": 10,
              "solidity": 0.2
             }
            },
            "type": "barpolar"
           }
          ],
          "carpet": [
           {
            "aaxis": {
             "endlinecolor": "#2a3f5f",
             "gridcolor": "white",
             "linecolor": "white",
             "minorgridcolor": "white",
             "startlinecolor": "#2a3f5f"
            },
            "baxis": {
             "endlinecolor": "#2a3f5f",
             "gridcolor": "white",
             "linecolor": "white",
             "minorgridcolor": "white",
             "startlinecolor": "#2a3f5f"
            },
            "type": "carpet"
           }
          ],
          "choropleth": [
           {
            "colorbar": {
             "outlinewidth": 0,
             "ticks": ""
            },
            "type": "choropleth"
           }
          ],
          "contour": [
           {
            "colorbar": {
             "outlinewidth": 0,
             "ticks": ""
            },
            "colorscale": [
             [
              0,
              "#0d0887"
             ],
             [
              0.1111111111111111,
              "#46039f"
             ],
             [
              0.2222222222222222,
              "#7201a8"
             ],
             [
              0.3333333333333333,
              "#9c179e"
             ],
             [
              0.4444444444444444,
              "#bd3786"
             ],
             [
              0.5555555555555556,
              "#d8576b"
             ],
             [
              0.6666666666666666,
              "#ed7953"
             ],
             [
              0.7777777777777778,
              "#fb9f3a"
             ],
             [
              0.8888888888888888,
              "#fdca26"
             ],
             [
              1,
              "#f0f921"
             ]
            ],
            "type": "contour"
           }
          ],
          "contourcarpet": [
           {
            "colorbar": {
             "outlinewidth": 0,
             "ticks": ""
            },
            "type": "contourcarpet"
           }
          ],
          "heatmap": [
           {
            "colorbar": {
             "outlinewidth": 0,
             "ticks": ""
            },
            "colorscale": [
             [
              0,
              "#0d0887"
             ],
             [
              0.1111111111111111,
              "#46039f"
             ],
             [
              0.2222222222222222,
              "#7201a8"
             ],
             [
              0.3333333333333333,
              "#9c179e"
             ],
             [
              0.4444444444444444,
              "#bd3786"
             ],
             [
              0.5555555555555556,
              "#d8576b"
             ],
             [
              0.6666666666666666,
              "#ed7953"
             ],
             [
              0.7777777777777778,
              "#fb9f3a"
             ],
             [
              0.8888888888888888,
              "#fdca26"
             ],
             [
              1,
              "#f0f921"
             ]
            ],
            "type": "heatmap"
           }
          ],
          "heatmapgl": [
           {
            "colorbar": {
             "outlinewidth": 0,
             "ticks": ""
            },
            "colorscale": [
             [
              0,
              "#0d0887"
             ],
             [
              0.1111111111111111,
              "#46039f"
             ],
             [
              0.2222222222222222,
              "#7201a8"
             ],
             [
              0.3333333333333333,
              "#9c179e"
             ],
             [
              0.4444444444444444,
              "#bd3786"
             ],
             [
              0.5555555555555556,
              "#d8576b"
             ],
             [
              0.6666666666666666,
              "#ed7953"
             ],
             [
              0.7777777777777778,
              "#fb9f3a"
             ],
             [
              0.8888888888888888,
              "#fdca26"
             ],
             [
              1,
              "#f0f921"
             ]
            ],
            "type": "heatmapgl"
           }
          ],
          "histogram": [
           {
            "marker": {
             "pattern": {
              "fillmode": "overlay",
              "size": 10,
              "solidity": 0.2
             }
            },
            "type": "histogram"
           }
          ],
          "histogram2d": [
           {
            "colorbar": {
             "outlinewidth": 0,
             "ticks": ""
            },
            "colorscale": [
             [
              0,
              "#0d0887"
             ],
             [
              0.1111111111111111,
              "#46039f"
             ],
             [
              0.2222222222222222,
              "#7201a8"
             ],
             [
              0.3333333333333333,
              "#9c179e"
             ],
             [
              0.4444444444444444,
              "#bd3786"
             ],
             [
              0.5555555555555556,
              "#d8576b"
             ],
             [
              0.6666666666666666,
              "#ed7953"
             ],
             [
              0.7777777777777778,
              "#fb9f3a"
             ],
             [
              0.8888888888888888,
              "#fdca26"
             ],
             [
              1,
              "#f0f921"
             ]
            ],
            "type": "histogram2d"
           }
          ],
          "histogram2dcontour": [
           {
            "colorbar": {
             "outlinewidth": 0,
             "ticks": ""
            },
            "colorscale": [
             [
              0,
              "#0d0887"
             ],
             [
              0.1111111111111111,
              "#46039f"
             ],
             [
              0.2222222222222222,
              "#7201a8"
             ],
             [
              0.3333333333333333,
              "#9c179e"
             ],
             [
              0.4444444444444444,
              "#bd3786"
             ],
             [
              0.5555555555555556,
              "#d8576b"
             ],
             [
              0.6666666666666666,
              "#ed7953"
             ],
             [
              0.7777777777777778,
              "#fb9f3a"
             ],
             [
              0.8888888888888888,
              "#fdca26"
             ],
             [
              1,
              "#f0f921"
             ]
            ],
            "type": "histogram2dcontour"
           }
          ],
          "mesh3d": [
           {
            "colorbar": {
             "outlinewidth": 0,
             "ticks": ""
            },
            "type": "mesh3d"
           }
          ],
          "parcoords": [
           {
            "line": {
             "colorbar": {
              "outlinewidth": 0,
              "ticks": ""
             }
            },
            "type": "parcoords"
           }
          ],
          "pie": [
           {
            "automargin": true,
            "type": "pie"
           }
          ],
          "scatter": [
           {
            "fillpattern": {
             "fillmode": "overlay",
             "size": 10,
             "solidity": 0.2
            },
            "type": "scatter"
           }
          ],
          "scatter3d": [
           {
            "line": {
             "colorbar": {
              "outlinewidth": 0,
              "ticks": ""
             }
            },
            "marker": {
             "colorbar": {
              "outlinewidth": 0,
              "ticks": ""
             }
            },
            "type": "scatter3d"
           }
          ],
          "scattercarpet": [
           {
            "marker": {
             "colorbar": {
              "outlinewidth": 0,
              "ticks": ""
             }
            },
            "type": "scattercarpet"
           }
          ],
          "scattergeo": [
           {
            "marker": {
             "colorbar": {
              "outlinewidth": 0,
              "ticks": ""
             }
            },
            "type": "scattergeo"
           }
          ],
          "scattergl": [
           {
            "marker": {
             "colorbar": {
              "outlinewidth": 0,
              "ticks": ""
             }
            },
            "type": "scattergl"
           }
          ],
          "scattermapbox": [
           {
            "marker": {
             "colorbar": {
              "outlinewidth": 0,
              "ticks": ""
             }
            },
            "type": "scattermapbox"
           }
          ],
          "scatterpolar": [
           {
            "marker": {
             "colorbar": {
              "outlinewidth": 0,
              "ticks": ""
             }
            },
            "type": "scatterpolar"
           }
          ],
          "scatterpolargl": [
           {
            "marker": {
             "colorbar": {
              "outlinewidth": 0,
              "ticks": ""
             }
            },
            "type": "scatterpolargl"
           }
          ],
          "scatterternary": [
           {
            "marker": {
             "colorbar": {
              "outlinewidth": 0,
              "ticks": ""
             }
            },
            "type": "scatterternary"
           }
          ],
          "surface": [
           {
            "colorbar": {
             "outlinewidth": 0,
             "ticks": ""
            },
            "colorscale": [
             [
              0,
              "#0d0887"
             ],
             [
              0.1111111111111111,
              "#46039f"
             ],
             [
              0.2222222222222222,
              "#7201a8"
             ],
             [
              0.3333333333333333,
              "#9c179e"
             ],
             [
              0.4444444444444444,
              "#bd3786"
             ],
             [
              0.5555555555555556,
              "#d8576b"
             ],
             [
              0.6666666666666666,
              "#ed7953"
             ],
             [
              0.7777777777777778,
              "#fb9f3a"
             ],
             [
              0.8888888888888888,
              "#fdca26"
             ],
             [
              1,
              "#f0f921"
             ]
            ],
            "type": "surface"
           }
          ],
          "table": [
           {
            "cells": {
             "fill": {
              "color": "#EBF0F8"
             },
             "line": {
              "color": "white"
             }
            },
            "header": {
             "fill": {
              "color": "#C8D4E3"
             },
             "line": {
              "color": "white"
             }
            },
            "type": "table"
           }
          ]
         },
         "layout": {
          "annotationdefaults": {
           "arrowcolor": "#2a3f5f",
           "arrowhead": 0,
           "arrowwidth": 1
          },
          "autotypenumbers": "strict",
          "coloraxis": {
           "colorbar": {
            "outlinewidth": 0,
            "ticks": ""
           }
          },
          "colorscale": {
           "diverging": [
            [
             0,
             "#8e0152"
            ],
            [
             0.1,
             "#c51b7d"
            ],
            [
             0.2,
             "#de77ae"
            ],
            [
             0.3,
             "#f1b6da"
            ],
            [
             0.4,
             "#fde0ef"
            ],
            [
             0.5,
             "#f7f7f7"
            ],
            [
             0.6,
             "#e6f5d0"
            ],
            [
             0.7,
             "#b8e186"
            ],
            [
             0.8,
             "#7fbc41"
            ],
            [
             0.9,
             "#4d9221"
            ],
            [
             1,
             "#276419"
            ]
           ],
           "sequential": [
            [
             0,
             "#0d0887"
            ],
            [
             0.1111111111111111,
             "#46039f"
            ],
            [
             0.2222222222222222,
             "#7201a8"
            ],
            [
             0.3333333333333333,
             "#9c179e"
            ],
            [
             0.4444444444444444,
             "#bd3786"
            ],
            [
             0.5555555555555556,
             "#d8576b"
            ],
            [
             0.6666666666666666,
             "#ed7953"
            ],
            [
             0.7777777777777778,
             "#fb9f3a"
            ],
            [
             0.8888888888888888,
             "#fdca26"
            ],
            [
             1,
             "#f0f921"
            ]
           ],
           "sequentialminus": [
            [
             0,
             "#0d0887"
            ],
            [
             0.1111111111111111,
             "#46039f"
            ],
            [
             0.2222222222222222,
             "#7201a8"
            ],
            [
             0.3333333333333333,
             "#9c179e"
            ],
            [
             0.4444444444444444,
             "#bd3786"
            ],
            [
             0.5555555555555556,
             "#d8576b"
            ],
            [
             0.6666666666666666,
             "#ed7953"
            ],
            [
             0.7777777777777778,
             "#fb9f3a"
            ],
            [
             0.8888888888888888,
             "#fdca26"
            ],
            [
             1,
             "#f0f921"
            ]
           ]
          },
          "colorway": [
           "#636efa",
           "#EF553B",
           "#00cc96",
           "#ab63fa",
           "#FFA15A",
           "#19d3f3",
           "#FF6692",
           "#B6E880",
           "#FF97FF",
           "#FECB52"
          ],
          "font": {
           "color": "#2a3f5f"
          },
          "geo": {
           "bgcolor": "white",
           "lakecolor": "white",
           "landcolor": "#E5ECF6",
           "showlakes": true,
           "showland": true,
           "subunitcolor": "white"
          },
          "hoverlabel": {
           "align": "left"
          },
          "hovermode": "closest",
          "mapbox": {
           "style": "light"
          },
          "paper_bgcolor": "white",
          "plot_bgcolor": "#E5ECF6",
          "polar": {
           "angularaxis": {
            "gridcolor": "white",
            "linecolor": "white",
            "ticks": ""
           },
           "bgcolor": "#E5ECF6",
           "radialaxis": {
            "gridcolor": "white",
            "linecolor": "white",
            "ticks": ""
           }
          },
          "scene": {
           "xaxis": {
            "backgroundcolor": "#E5ECF6",
            "gridcolor": "white",
            "gridwidth": 2,
            "linecolor": "white",
            "showbackground": true,
            "ticks": "",
            "zerolinecolor": "white"
           },
           "yaxis": {
            "backgroundcolor": "#E5ECF6",
            "gridcolor": "white",
            "gridwidth": 2,
            "linecolor": "white",
            "showbackground": true,
            "ticks": "",
            "zerolinecolor": "white"
           },
           "zaxis": {
            "backgroundcolor": "#E5ECF6",
            "gridcolor": "white",
            "gridwidth": 2,
            "linecolor": "white",
            "showbackground": true,
            "ticks": "",
            "zerolinecolor": "white"
           }
          },
          "shapedefaults": {
           "line": {
            "color": "#2a3f5f"
           }
          },
          "ternary": {
           "aaxis": {
            "gridcolor": "white",
            "linecolor": "white",
            "ticks": ""
           },
           "baxis": {
            "gridcolor": "white",
            "linecolor": "white",
            "ticks": ""
           },
           "bgcolor": "#E5ECF6",
           "caxis": {
            "gridcolor": "white",
            "linecolor": "white",
            "ticks": ""
           }
          },
          "title": {
           "x": 0.05
          },
          "xaxis": {
           "automargin": true,
           "gridcolor": "white",
           "linecolor": "white",
           "ticks": "",
           "title": {
            "standoff": 15
           },
           "zerolinecolor": "white",
           "zerolinewidth": 2
          },
          "yaxis": {
           "automargin": true,
           "gridcolor": "white",
           "linecolor": "white",
           "ticks": "",
           "title": {
            "standoff": 15
           },
           "zerolinecolor": "white",
           "zerolinewidth": 2
          }
         }
        },
        "title": {
         "text": "stunting % around the world"
        }
       }
      },
      "text/html": [
       "<div>                            <div id=\"ef9e3867-342e-4b34-b3c7-10701d1df311\" class=\"plotly-graph-div\" style=\"height:525px; width:100%;\"></div>            <script type=\"text/javascript\">                require([\"plotly\"], function(Plotly) {                    window.PLOTLYENV=window.PLOTLYENV || {};                                    if (document.getElementById(\"ef9e3867-342e-4b34-b3c7-10701d1df311\")) {                    Plotly.newPlot(                        \"ef9e3867-342e-4b34-b3c7-10701d1df311\",                        [{\"colorbar\":{\"len\":200,\"lenmode\":\"pixels\",\"title\":{\"text\":\"stunting %\"}},\"colorscale\":[[0.0,\"rgb(12,51,131)\"],[0.25,\"rgb(10,136,186)\"],[0.5,\"rgb(242,211,56)\"],[0.75,\"rgb(242,143,56)\"],[1.0,\"rgb(217,30,30)\"]],\"locationmode\":\"country names\",\"locations\":[\"AFGHANISTAN\",\"ALBANIA\",\"ALGERIA\",\"ANGOLA\",\"ARGENTINA\",\"ARMENIA\",\"AUSTRALIA\",\"AZERBAIJAN\",\"BAHRAIN\",\"BANGLADESH\",\"BARBADOS\",\"BELARUS\",\"BELIZE\",\"BENIN\",\"BHUTAN\",\"BOLIVIA (PLURINATIONAL STATE OF)\",\"BOSNIA AND HERZEGOVINA\",\"BOTSWANA\",\"BRAZIL\",\"BRUNEI DARUSSALAM\",\"BULGARIA\",\"BURKINA FASO\",\"BURUNDI\",\"CABO VERDE\",\"CAMBODIA\",\"CAMEROON\",\"CANADA\",\"CENTRAL AFRICAN REPUBLIC (THE)\",\"CHAD\",\"CHILE\",\"CHINA\",\"COLOMBIA\",\"COMOROS (THE)\",\"CONGO (THE)\",\"COSTA RICA\",\"COTE D'IVOIRE\",\"CUBA\",\"CZECHIA\",\"DEMOCRATIC PEOPLE'S REP. OF KOREA (THE)\",\"DEMOCRATIC REP. OF THE CONGO (THE)\",\"DJIBOUTI\",\"DOMINICAN REPUBLIC (THE)\",\"ECUADOR\",\"EGYPT\",\"EL SALVADOR\",\"EQUATORIAL GUINEA\",\"ERITREA\",\"ESWATINI\",\"ETHIOPIA\",\"FIJI\",\"GABON\",\"GAMBIA (THE)\",\"GEORGIA\",\"GERMANY\",\"GHANA\",\"GUATEMALA\",\"GUINEA\",\"GUINEA-BISSAU\",\"GUYANA\",\"HAITI\",\"HONDURAS\",\"INDIA\",\"INDONESIA\",\"IRAN (ISLAMIC REPUBLIC OF)\",\"IRAQ\",\"JAMAICA\",\"JAPAN\",\"JORDAN\",\"KAZAKHSTAN\",\"KENYA\",\"KIRIBATI\",\"KUWAIT\",\"KYRGYZSTAN\",\"LAO PEOPLE'S DEMOCRATIC REP. (THE)\",\"LEBANON\",\"LESOTHO\",\"LIBERIA\",\"LIBYA\",\"MADAGASCAR\",\"MALAWI\",\"MALAYSIA\",\"MALDIVES\",\"MALI\",\"MARSHALL ISLANDS\",\"MAURITANIA\",\"MAURITIUS\",\"MEXICO\",\"MONGOLIA\",\"MONTENEGRO\",\"MOROCCO\",\"MOZAMBIQUE\",\"MYANMAR\",\"NAMIBIA\",\"NAURU\",\"NEPAL\",\"NICARAGUA\",\"NIGER (THE)\",\"NIGERIA\",\"NORTH MACEDONIA\",\"OMAN\",\"PAKISTAN\",\"PANAMA\",\"PAPUA NEW GUINEA\",\"PARAGUAY\",\"PERU\",\"PHILIPPINES (THE)\",\"POLAND\",\"QATAR\",\"REPUBLIC OF KOREA (THE)\",\"REPUBLIC OF MOLDOVA (THE)\",\"ROMANIA\",\"RWANDA\",\"SAINT LUCIA\",\"SAMOA\",\"SAO TOME AND PRINCIPE\",\"SAUDI ARABIA\",\"SENEGAL\",\"SERBIA\",\"SEYCHELLES\",\"SIERRA LEONE\",\"SINGAPORE\",\"SOLOMON ISLANDS\",\"SOMALIA\",\"SOUTH AFRICA\",\"SOUTH SUDAN\",\"SRI LANKA\",\"STATE OF PALESTINE\",\"SUDAN (THE)\",\"SURINAME\",\"SYRIAN ARAB REPUBLIC (THE)\",\"TAJIKISTAN\",\"THAILAND\",\"TIMOR-LESTE\",\"TOGO\",\"TONGA\",\"TRINIDAD AND TOBAGO\",\"TUNISIA\",\"TURKEY\",\"TURKMENISTAN\",\"TUVALU\",\"UGANDA\",\"UKRAINE\",\"UNITED REPUBLIC OF TANZANIA (THE)\",\"UNITED STATES OF AMERICA (THE)\",\"URUGUAY\",\"UZBEKISTAN\",\"VANUATU\",\"VENEZUELA (BOLIVARIAN REPUBLIC OF)\",\"VIET NAM\",\"YEMEN\",\"ZAMBIA\",\"ZIMBABWE\"],\"text\":[\"AFGHANISTAN\",\"ALBANIA\",\"ALGERIA\",\"ANGOLA\",\"ARGENTINA\",\"ARMENIA\",\"AUSTRALIA\",\"AZERBAIJAN\",\"BAHRAIN\",\"BANGLADESH\",\"BARBADOS\",\"BELARUS\",\"BELIZE\",\"BENIN\",\"BHUTAN\",\"BOLIVIA (PLURINATIONAL STATE OF)\",\"BOSNIA AND HERZEGOVINA\",\"BOTSWANA\",\"BRAZIL\",\"BRUNEI DARUSSALAM\",\"BULGARIA\",\"BURKINA FASO\",\"BURUNDI\",\"CABO VERDE\",\"CAMBODIA\",\"CAMEROON\",\"CANADA\",\"CENTRAL AFRICAN REPUBLIC (THE)\",\"CHAD\",\"CHILE\",\"CHINA\",\"COLOMBIA\",\"COMOROS (THE)\",\"CONGO (THE)\",\"COSTA RICA\",\"COTE D'IVOIRE\",\"CUBA\",\"CZECHIA\",\"DEMOCRATIC PEOPLE'S REP. OF KOREA (THE)\",\"DEMOCRATIC REP. OF THE CONGO (THE)\",\"DJIBOUTI\",\"DOMINICAN REPUBLIC (THE)\",\"ECUADOR\",\"EGYPT\",\"EL SALVADOR\",\"EQUATORIAL GUINEA\",\"ERITREA\",\"ESWATINI\",\"ETHIOPIA\",\"FIJI\",\"GABON\",\"GAMBIA (THE)\",\"GEORGIA\",\"GERMANY\",\"GHANA\",\"GUATEMALA\",\"GUINEA\",\"GUINEA-BISSAU\",\"GUYANA\",\"HAITI\",\"HONDURAS\",\"INDIA\",\"INDONESIA\",\"IRAN (ISLAMIC REPUBLIC OF)\",\"IRAQ\",\"JAMAICA\",\"JAPAN\",\"JORDAN\",\"KAZAKHSTAN\",\"KENYA\",\"KIRIBATI\",\"KUWAIT\",\"KYRGYZSTAN\",\"LAO PEOPLE'S DEMOCRATIC REP. (THE)\",\"LEBANON\",\"LESOTHO\",\"LIBERIA\",\"LIBYA\",\"MADAGASCAR\",\"MALAWI\",\"MALAYSIA\",\"MALDIVES\",\"MALI\",\"MARSHALL ISLANDS\",\"MAURITANIA\",\"MAURITIUS\",\"MEXICO\",\"MONGOLIA\",\"MONTENEGRO\",\"MOROCCO\",\"MOZAMBIQUE\",\"MYANMAR\",\"NAMIBIA\",\"NAURU\",\"NEPAL\",\"NICARAGUA\",\"NIGER (THE)\",\"NIGERIA\",\"NORTH MACEDONIA\",\"OMAN\",\"PAKISTAN\",\"PANAMA\",\"PAPUA NEW GUINEA\",\"PARAGUAY\",\"PERU\",\"PHILIPPINES (THE)\",\"POLAND\",\"QATAR\",\"REPUBLIC OF KOREA (THE)\",\"REPUBLIC OF MOLDOVA (THE)\",\"ROMANIA\",\"RWANDA\",\"SAINT LUCIA\",\"SAMOA\",\"SAO TOME AND PRINCIPE\",\"SAUDI ARABIA\",\"SENEGAL\",\"SERBIA\",\"SEYCHELLES\",\"SIERRA LEONE\",\"SINGAPORE\",\"SOLOMON ISLANDS\",\"SOMALIA\",\"SOUTH AFRICA\",\"SOUTH SUDAN\",\"SRI LANKA\",\"STATE OF PALESTINE\",\"SUDAN (THE)\",\"SURINAME\",\"SYRIAN ARAB REPUBLIC (THE)\",\"TAJIKISTAN\",\"THAILAND\",\"TIMOR-LESTE\",\"TOGO\",\"TONGA\",\"TRINIDAD AND TOBAGO\",\"TUNISIA\",\"TURKEY\",\"TURKMENISTAN\",\"TUVALU\",\"UGANDA\",\"UKRAINE\",\"UNITED REPUBLIC OF TANZANIA (THE)\",\"UNITED STATES OF AMERICA (THE)\",\"URUGUAY\",\"UZBEKISTAN\",\"VANUATU\",\"VENEZUELA (BOLIVARIAN REPUBLIC OF)\",\"VIET NAM\",\"YEMEN\",\"ZAMBIA\",\"ZIMBABWE\"],\"z\":[47.775000000000006,24.16,19.571428571428573,42.63333333333333,10.025,16.119999999999997,1.0,21.816666666666663,13.75,54.22916666666666,7.7,4.5,18.766666666666666,35.375,44.25,29.728571428571424,10.933333333333332,31.03333333333333,13.133333333333333,19.7,7.466666666666666,33.346153846153854,57.6,24.1,43.68333333333333,33.74285714285714,null,41.78333333333333,41.260000000000005,3.453333333333333,20.6,18.214285714285715,39.125,26.725,6.9,31.385714285714283,7.0,2.9000000000000004,40.3,45.46,30.075000000000003,12.749999999999998,28.75,28.5,26.600000000000005,35.65,53.225,32.5,47.84285714285714,5.9,21.45,23.7,14.0,1.5,29.477777777777785,54.1,34.2375,35.275,15.279999999999998,29.916666666666668,36.85714285714285,49.05555555555556,38.3625,14.675,24.514285714285712,8.680000000000001,7.1,11.76,15.02,37.144444444444446,34.4,4.661111111111112,19.916666666666668,44.92857142857143,16.85,40.2,37.22,26.73333333333333,52.575,49.10714285714285,19.075,32.6,34.41428571428572,34.8,34.17,20.45,19.175,20.777777777777786,8.65,23.85,47.84285714285715,45.1,29.200000000000003,24.0,51.9125,24.066666666666663,46.0,39.46363636363637,8.066666666666668,16.066666666666666,46.67142857142858,19.83333333333333,46.46666666666667,13.025,21.860000000000003,36.27272727272728,2.75,11.6,2.5,8.55,13.22,46.31111111111111,2.5,5.65,28.880000000000003,15.35,22.73571428571429,6.9,7.800000000000001,37.2,4.4,32.733333333333334,32.166666666666664,29.071428571428573,33.75,21.8625,11.550000000000002,36.86666666666667,11.166666666666666,28.55,33.77272727272727,17.733333333333334,55.38,30.922222222222224,5.15,6.933333333333333,12.45,14.35,19.5,10.0,38.333333333333336,22.9,40.99090909090909,2.914285714285714,14.242857142857144,23.7,26.766666666666666,16.957142857142863,34.922727272727265,51.9,48.1375,30.455555555555552],\"type\":\"choropleth\"}],                        {\"geo\":{\"scope\":\"world\"},\"title\":{\"text\":\"stunting % around the world\"},\"template\":{\"data\":{\"histogram2dcontour\":[{\"type\":\"histogram2dcontour\",\"colorbar\":{\"outlinewidth\":0,\"ticks\":\"\"},\"colorscale\":[[0.0,\"#0d0887\"],[0.1111111111111111,\"#46039f\"],[0.2222222222222222,\"#7201a8\"],[0.3333333333333333,\"#9c179e\"],[0.4444444444444444,\"#bd3786\"],[0.5555555555555556,\"#d8576b\"],[0.6666666666666666,\"#ed7953\"],[0.7777777777777778,\"#fb9f3a\"],[0.8888888888888888,\"#fdca26\"],[1.0,\"#f0f921\"]]}],\"choropleth\":[{\"type\":\"choropleth\",\"colorbar\":{\"outlinewidth\":0,\"ticks\":\"\"}}],\"histogram2d\":[{\"type\":\"histogram2d\",\"colorbar\":{\"outlinewidth\":0,\"ticks\":\"\"},\"colorscale\":[[0.0,\"#0d0887\"],[0.1111111111111111,\"#46039f\"],[0.2222222222222222,\"#7201a8\"],[0.3333333333333333,\"#9c179e\"],[0.4444444444444444,\"#bd3786\"],[0.5555555555555556,\"#d8576b\"],[0.6666666666666666,\"#ed7953\"],[0.7777777777777778,\"#fb9f3a\"],[0.8888888888888888,\"#fdca26\"],[1.0,\"#f0f921\"]]}],\"heatmap\":[{\"type\":\"heatmap\",\"colorbar\":{\"outlinewidth\":0,\"ticks\":\"\"},\"colorscale\":[[0.0,\"#0d0887\"],[0.1111111111111111,\"#46039f\"],[0.2222222222222222,\"#7201a8\"],[0.3333333333333333,\"#9c179e\"],[0.4444444444444444,\"#bd3786\"],[0.5555555555555556,\"#d8576b\"],[0.6666666666666666,\"#ed7953\"],[0.7777777777777778,\"#fb9f3a\"],[0.8888888888888888,\"#fdca26\"],[1.0,\"#f0f921\"]]}],\"heatmapgl\":[{\"type\":\"heatmapgl\",\"colorbar\":{\"outlinewidth\":0,\"ticks\":\"\"},\"colorscale\":[[0.0,\"#0d0887\"],[0.1111111111111111,\"#46039f\"],[0.2222222222222222,\"#7201a8\"],[0.3333333333333333,\"#9c179e\"],[0.4444444444444444,\"#bd3786\"],[0.5555555555555556,\"#d8576b\"],[0.6666666666666666,\"#ed7953\"],[0.7777777777777778,\"#fb9f3a\"],[0.8888888888888888,\"#fdca26\"],[1.0,\"#f0f921\"]]}],\"contourcarpet\":[{\"type\":\"contourcarpet\",\"colorbar\":{\"outlinewidth\":0,\"ticks\":\"\"}}],\"contour\":[{\"type\":\"contour\",\"colorbar\":{\"outlinewidth\":0,\"ticks\":\"\"},\"colorscale\":[[0.0,\"#0d0887\"],[0.1111111111111111,\"#46039f\"],[0.2222222222222222,\"#7201a8\"],[0.3333333333333333,\"#9c179e\"],[0.4444444444444444,\"#bd3786\"],[0.5555555555555556,\"#d8576b\"],[0.6666666666666666,\"#ed7953\"],[0.7777777777777778,\"#fb9f3a\"],[0.8888888888888888,\"#fdca26\"],[1.0,\"#f0f921\"]]}],\"surface\":[{\"type\":\"surface\",\"colorbar\":{\"outlinewidth\":0,\"ticks\":\"\"},\"colorscale\":[[0.0,\"#0d0887\"],[0.1111111111111111,\"#46039f\"],[0.2222222222222222,\"#7201a8\"],[0.3333333333333333,\"#9c179e\"],[0.4444444444444444,\"#bd3786\"],[0.5555555555555556,\"#d8576b\"],[0.6666666666666666,\"#ed7953\"],[0.7777777777777778,\"#fb9f3a\"],[0.8888888888888888,\"#fdca26\"],[1.0,\"#f0f921\"]]}],\"mesh3d\":[{\"type\":\"mesh3d\",\"colorbar\":{\"outlinewidth\":0,\"ticks\":\"\"}}],\"scatter\":[{\"fillpattern\":{\"fillmode\":\"overlay\",\"size\":10,\"solidity\":0.2},\"type\":\"scatter\"}],\"parcoords\":[{\"type\":\"parcoords\",\"line\":{\"colorbar\":{\"outlinewidth\":0,\"ticks\":\"\"}}}],\"scatterpolargl\":[{\"type\":\"scatterpolargl\",\"marker\":{\"colorbar\":{\"outlinewidth\":0,\"ticks\":\"\"}}}],\"bar\":[{\"error_x\":{\"color\":\"#2a3f5f\"},\"error_y\":{\"color\":\"#2a3f5f\"},\"marker\":{\"line\":{\"color\":\"#E5ECF6\",\"width\":0.5},\"pattern\":{\"fillmode\":\"overlay\",\"size\":10,\"solidity\":0.2}},\"type\":\"bar\"}],\"scattergeo\":[{\"type\":\"scattergeo\",\"marker\":{\"colorbar\":{\"outlinewidth\":0,\"ticks\":\"\"}}}],\"scatterpolar\":[{\"type\":\"scatterpolar\",\"marker\":{\"colorbar\":{\"outlinewidth\":0,\"ticks\":\"\"}}}],\"histogram\":[{\"marker\":{\"pattern\":{\"fillmode\":\"overlay\",\"size\":10,\"solidity\":0.2}},\"type\":\"histogram\"}],\"scattergl\":[{\"type\":\"scattergl\",\"marker\":{\"colorbar\":{\"outlinewidth\":0,\"ticks\":\"\"}}}],\"scatter3d\":[{\"type\":\"scatter3d\",\"line\":{\"colorbar\":{\"outlinewidth\":0,\"ticks\":\"\"}},\"marker\":{\"colorbar\":{\"outlinewidth\":0,\"ticks\":\"\"}}}],\"scattermapbox\":[{\"type\":\"scattermapbox\",\"marker\":{\"colorbar\":{\"outlinewidth\":0,\"ticks\":\"\"}}}],\"scatterternary\":[{\"type\":\"scatterternary\",\"marker\":{\"colorbar\":{\"outlinewidth\":0,\"ticks\":\"\"}}}],\"scattercarpet\":[{\"type\":\"scattercarpet\",\"marker\":{\"colorbar\":{\"outlinewidth\":0,\"ticks\":\"\"}}}],\"carpet\":[{\"aaxis\":{\"endlinecolor\":\"#2a3f5f\",\"gridcolor\":\"white\",\"linecolor\":\"white\",\"minorgridcolor\":\"white\",\"startlinecolor\":\"#2a3f5f\"},\"baxis\":{\"endlinecolor\":\"#2a3f5f\",\"gridcolor\":\"white\",\"linecolor\":\"white\",\"minorgridcolor\":\"white\",\"startlinecolor\":\"#2a3f5f\"},\"type\":\"carpet\"}],\"table\":[{\"cells\":{\"fill\":{\"color\":\"#EBF0F8\"},\"line\":{\"color\":\"white\"}},\"header\":{\"fill\":{\"color\":\"#C8D4E3\"},\"line\":{\"color\":\"white\"}},\"type\":\"table\"}],\"barpolar\":[{\"marker\":{\"line\":{\"color\":\"#E5ECF6\",\"width\":0.5},\"pattern\":{\"fillmode\":\"overlay\",\"size\":10,\"solidity\":0.2}},\"type\":\"barpolar\"}],\"pie\":[{\"automargin\":true,\"type\":\"pie\"}]},\"layout\":{\"autotypenumbers\":\"strict\",\"colorway\":[\"#636efa\",\"#EF553B\",\"#00cc96\",\"#ab63fa\",\"#FFA15A\",\"#19d3f3\",\"#FF6692\",\"#B6E880\",\"#FF97FF\",\"#FECB52\"],\"font\":{\"color\":\"#2a3f5f\"},\"hovermode\":\"closest\",\"hoverlabel\":{\"align\":\"left\"},\"paper_bgcolor\":\"white\",\"plot_bgcolor\":\"#E5ECF6\",\"polar\":{\"bgcolor\":\"#E5ECF6\",\"angularaxis\":{\"gridcolor\":\"white\",\"linecolor\":\"white\",\"ticks\":\"\"},\"radialaxis\":{\"gridcolor\":\"white\",\"linecolor\":\"white\",\"ticks\":\"\"}},\"ternary\":{\"bgcolor\":\"#E5ECF6\",\"aaxis\":{\"gridcolor\":\"white\",\"linecolor\":\"white\",\"ticks\":\"\"},\"baxis\":{\"gridcolor\":\"white\",\"linecolor\":\"white\",\"ticks\":\"\"},\"caxis\":{\"gridcolor\":\"white\",\"linecolor\":\"white\",\"ticks\":\"\"}},\"coloraxis\":{\"colorbar\":{\"outlinewidth\":0,\"ticks\":\"\"}},\"colorscale\":{\"sequential\":[[0.0,\"#0d0887\"],[0.1111111111111111,\"#46039f\"],[0.2222222222222222,\"#7201a8\"],[0.3333333333333333,\"#9c179e\"],[0.4444444444444444,\"#bd3786\"],[0.5555555555555556,\"#d8576b\"],[0.6666666666666666,\"#ed7953\"],[0.7777777777777778,\"#fb9f3a\"],[0.8888888888888888,\"#fdca26\"],[1.0,\"#f0f921\"]],\"sequentialminus\":[[0.0,\"#0d0887\"],[0.1111111111111111,\"#46039f\"],[0.2222222222222222,\"#7201a8\"],[0.3333333333333333,\"#9c179e\"],[0.4444444444444444,\"#bd3786\"],[0.5555555555555556,\"#d8576b\"],[0.6666666666666666,\"#ed7953\"],[0.7777777777777778,\"#fb9f3a\"],[0.8888888888888888,\"#fdca26\"],[1.0,\"#f0f921\"]],\"diverging\":[[0,\"#8e0152\"],[0.1,\"#c51b7d\"],[0.2,\"#de77ae\"],[0.3,\"#f1b6da\"],[0.4,\"#fde0ef\"],[0.5,\"#f7f7f7\"],[0.6,\"#e6f5d0\"],[0.7,\"#b8e186\"],[0.8,\"#7fbc41\"],[0.9,\"#4d9221\"],[1,\"#276419\"]]},\"xaxis\":{\"gridcolor\":\"white\",\"linecolor\":\"white\",\"ticks\":\"\",\"title\":{\"standoff\":15},\"zerolinecolor\":\"white\",\"automargin\":true,\"zerolinewidth\":2},\"yaxis\":{\"gridcolor\":\"white\",\"linecolor\":\"white\",\"ticks\":\"\",\"title\":{\"standoff\":15},\"zerolinecolor\":\"white\",\"automargin\":true,\"zerolinewidth\":2},\"scene\":{\"xaxis\":{\"backgroundcolor\":\"#E5ECF6\",\"gridcolor\":\"white\",\"linecolor\":\"white\",\"showbackground\":true,\"ticks\":\"\",\"zerolinecolor\":\"white\",\"gridwidth\":2},\"yaxis\":{\"backgroundcolor\":\"#E5ECF6\",\"gridcolor\":\"white\",\"linecolor\":\"white\",\"showbackground\":true,\"ticks\":\"\",\"zerolinecolor\":\"white\",\"gridwidth\":2},\"zaxis\":{\"backgroundcolor\":\"#E5ECF6\",\"gridcolor\":\"white\",\"linecolor\":\"white\",\"showbackground\":true,\"ticks\":\"\",\"zerolinecolor\":\"white\",\"gridwidth\":2}},\"shapedefaults\":{\"line\":{\"color\":\"#2a3f5f\"}},\"annotationdefaults\":{\"arrowcolor\":\"#2a3f5f\",\"arrowhead\":0,\"arrowwidth\":1},\"geo\":{\"bgcolor\":\"white\",\"landcolor\":\"#E5ECF6\",\"subunitcolor\":\"white\",\"showland\":true,\"showlakes\":true,\"lakecolor\":\"white\"},\"title\":{\"x\":0.05},\"mapbox\":{\"style\":\"light\"}}}},                        {\"responsive\": true}                    ).then(function(){\n",
       "                            \n",
       "var gd = document.getElementById('ef9e3867-342e-4b34-b3c7-10701d1df311');\n",
       "var x = new MutationObserver(function (mutations, observer) {{\n",
       "        var display = window.getComputedStyle(gd).display;\n",
       "        if (!display || display === 'none') {{\n",
       "            console.log([gd, 'removed!']);\n",
       "            Plotly.purge(gd);\n",
       "            observer.disconnect();\n",
       "        }}\n",
       "}});\n",
       "\n",
       "// Listen for the removal of the full notebook cells\n",
       "var notebookContainer = gd.closest('#notebook-container');\n",
       "if (notebookContainer) {{\n",
       "    x.observe(notebookContainer, {childList: true});\n",
       "}}\n",
       "\n",
       "// Listen for the clearing of the current output cell\n",
       "var outputEl = gd.closest('.output');\n",
       "if (outputEl) {{\n",
       "    x.observe(outputEl, {childList: true});\n",
       "}}\n",
       "\n",
       "                        })                };                });            </script>        </div>"
      ]
     },
     "metadata": {},
     "output_type": "display_data"
    }
   ],
   "source": [
    "x = df_country.groupby([\"Country\"])[\"Stunting\"].mean()\n",
    "data = dict(type = 'choropleth',\n",
    "            locations = x.index,\n",
    "            locationmode = 'country names',\n",
    "            colorscale= 'Portland',\n",
    "            text= x.index,\n",
    "            z=x,\n",
    "            colorbar = {'title':'stunting %', 'len':200,'lenmode':'pixels' })\n",
    "layout = dict(geo = {'scope':'world'},title=\"stunting % around the world\")\n",
    "col_map = go.Figure(data = [data],layout = layout)\n",
    "col_map.show()"
   ]
  },
  {
   "cell_type": "code",
   "execution_count": 115,
   "id": "58b18f41",
   "metadata": {},
   "outputs": [
    {
     "data": {
      "text/plain": [
       "(array([0, 1, 2, 3]),\n",
       " [Text(0, 0, '0'), Text(1, 0, '1'), Text(2, 0, '2'), Text(3, 0, '3')])"
      ]
     },
     "execution_count": 115,
     "metadata": {},
     "output_type": "execute_result"
    },
    {
     "data": {
      "image/png": "[encoded data removed]",
      "text/plain": [
       "<Figure size 1600x800 with 1 Axes>"
      ]
     },
     "metadata": {},
     "output_type": "display_data"
    }
   ],
   "source": [
    "plt.figure(figsize=(16, 8))\n",
    "x = df_country.groupby([\"Income Classification\"])[\"Underweight\"].mean()\n",
    "sns.set(style=\"whitegrid\")\n",
    "ax = sns.barplot(x=x.index, y=x)\n",
    "ax.set_title('Underweight')\n",
    "ax.set_ylabel('% Underweight')\n",
    "ax.set_xlabel('Income Classification')\n",
    "plt.xticks(rotation = 90)"
   ]
  },
  {
   "cell_type": "code",
   "execution_count": 116,
   "id": "10761c3a",
   "metadata": {},
   "outputs": [
    {
     "data": {
      "application/vnd.plotly.v1+json": {
       "config": {
        "plotlyServerURL": "https://plot.ly"
       },
       "data": [
        {
         "colorbar": {
          "len": 200,
          "lenmode": "pixels",
          "title": {
           "text": "Underweight %"
          }
         },
         "colorscale": [
          [
           0,
           "rgb(12,51,131)"
          ],
          [
           0.25,
           "rgb(10,136,186)"
          ],
          [
           0.5,
           "rgb(242,211,56)"
          ],
          [
           0.75,
           "rgb(242,143,56)"
          ],
          [
           1,
           "rgb(217,30,30)"
          ]
         ],
         "locationmode": "country names",
         "locations": [
          "AFGHANISTAN",
          "ALBANIA",
          "ALGERIA",
          "ANGOLA",
          "ARGENTINA",
          "ARMENIA",
          "AUSTRALIA",
          "AZERBAIJAN",
          "BAHRAIN",
          "BANGLADESH",
          "BARBADOS",
          "BELARUS",
          "BELIZE",
          "BENIN",
          "BHUTAN",
          "BOLIVIA (PLURINATIONAL STATE OF)",
          "BOSNIA AND HERZEGOVINA",
          "BOTSWANA",
          "BRAZIL",
          "BRUNEI DARUSSALAM",
          "BULGARIA",
          "BURKINA FASO",
          "BURUNDI",
          "CABO VERDE",
          "CAMBODIA",
          "CAMEROON",
          "CANADA",
          "CENTRAL AFRICAN REPUBLIC (THE)",
          "CHAD",
          "CHILE",
          "CHINA",
          "COLOMBIA",
          "COMOROS (THE)",
          "CONGO (THE)",
          "COSTA RICA",
          "COTE D'IVOIRE",
          "CUBA",
          "CZECHIA",
          "DEMOCRATIC PEOPLE'S REP. OF KOREA (THE)",
          "DEMOCRATIC REP. OF THE CONGO (THE)",
          "DJIBOUTI",
          "DOMINICAN REPUBLIC (THE)",
          "ECUADOR",
          "EGYPT",
          "EL SALVADOR",
          "EQUATORIAL GUINEA",
          "ERITREA",
          "ESWATINI",
          "ETHIOPIA",
          "FIJI",
          "GABON",
          "GAMBIA (THE)",
          "GEORGIA",
          "GERMANY",
          "GHANA",
          "GUATEMALA",
          "GUINEA",
          "GUINEA-BISSAU",
          "GUYANA",
          "HAITI",
          "HONDURAS",
          "INDIA",
          "INDONESIA",
          "IRAN (ISLAMIC REPUBLIC OF)",
          "IRAQ",
          "JAMAICA",
          "JAPAN",
          "JORDAN",
          "KAZAKHSTAN",
          "KENYA",
          "KIRIBATI",
          "KUWAIT",
          "KYRGYZSTAN",
          "LAO PEOPLE'S DEMOCRATIC REP. (THE)",
          "LEBANON",
          "LESOTHO",
          "LIBERIA",
          "LIBYA",
          "MADAGASCAR",
          "MALAWI",
          "MALAYSIA",
          "MALDIVES",
          "MALI",
          "MARSHALL ISLANDS",
          "MAURITANIA",
          "MAURITIUS",
          "MEXICO",
          "MONGOLIA",
          "MONTENEGRO",
          "MOROCCO",
          "MOZAMBIQUE",
          "MYANMAR",
          "NAMIBIA",
          "NAURU",
          "NEPAL",
          "NICARAGUA",
          "NIGER (THE)",
          "NIGERIA",
          "NORTH MACEDONIA",
          "OMAN",
          "PAKISTAN",
          "PANAMA",
          "PAPUA NEW GUINEA",
          "PARAGUAY",
          "PERU",
          "PHILIPPINES (THE)",
          "POLAND",
          "QATAR",
          "REPUBLIC OF KOREA (THE)",
          "REPUBLIC OF MOLDOVA (THE)",
          "ROMANIA",
          "RWANDA",
          "SAINT LUCIA",
          "SAMOA",
          "SAO TOME AND PRINCIPE",
          "SAUDI ARABIA",
          "SENEGAL",
          "SERBIA",
          "SEYCHELLES",
          "SIERRA LEONE",
          "SINGAPORE",
          "SOLOMON ISLANDS",
          "SOMALIA",
          "SOUTH AFRICA",
          "SOUTH SUDAN",
          "SRI LANKA",
          "STATE OF PALESTINE",
          "SUDAN (THE)",
          "SURINAME",
          "SYRIAN ARAB REPUBLIC (THE)",
          "TAJIKISTAN",
          "THAILAND",
          "TIMOR-LESTE",
          "TOGO",
          "TONGA",
          "TRINIDAD AND TOBAGO",
          "TUNISIA",
          "TURKEY",
          "TURKMENISTAN",
          "TUVALU",
          "UGANDA",
          "UKRAINE",
          "UNITED REPUBLIC OF TANZANIA (THE)",
          "UNITED STATES OF AMERICA (THE)",
          "URUGUAY",
          "UZBEKISTAN",
          "VANUATU",
          "VENEZUELA (BOLIVARIAN REPUBLIC OF)",
          "VIET NAM",
          "YEMEN",
          "ZAMBIA",
          "ZIMBABWE"
         ],
         "text": [
          "AFGHANISTAN",
          "ALBANIA",
          "ALGERIA",
          "ANGOLA",
          "ARGENTINA",
          "ARMENIA",
          "AUSTRALIA",
          "AZERBAIJAN",
          "BAHRAIN",
          "BANGLADESH",
          "BARBADOS",
          "BELARUS",
          "BELIZE",
          "BENIN",
          "BHUTAN",
          "BOLIVIA (PLURINATIONAL STATE OF)",
          "BOSNIA AND HERZEGOVINA",
          "BOTSWANA",
          "BRAZIL",
          "BRUNEI DARUSSALAM",
          "BULGARIA",
          "BURKINA FASO",
          "BURUNDI",
          "CABO VERDE",
          "CAMBODIA",
          "CAMEROON",
          "CANADA",
          "CENTRAL AFRICAN REPUBLIC (THE)",
          "CHAD",
          "CHILE",
          "CHINA",
          "COLOMBIA",
          "COMOROS (THE)",
          "CONGO (THE)",
          "COSTA RICA",
          "COTE D'IVOIRE",
          "CUBA",
          "CZECHIA",
          "DEMOCRATIC PEOPLE'S REP. OF KOREA (THE)",
          "DEMOCRATIC REP. OF THE CONGO (THE)",
          "DJIBOUTI",
          "DOMINICAN REPUBLIC (THE)",
          "ECUADOR",
          "EGYPT",
          "EL SALVADOR",
          "EQUATORIAL GUINEA",
          "ERITREA",
          "ESWATINI",
          "ETHIOPIA",
          "FIJI",
          "GABON",
          "GAMBIA (THE)",
          "GEORGIA",
          "GERMANY",
          "GHANA",
          "GUATEMALA",
          "GUINEA",
          "GUINEA-BISSAU",
          "GUYANA",
          "HAITI",
          "HONDURAS",
          "INDIA",
          "INDONESIA",
          "IRAN (ISLAMIC REPUBLIC OF)",
          "IRAQ",
          "JAMAICA",
          "JAPAN",
          "JORDAN",
          "KAZAKHSTAN",
          "KENYA",
          "KIRIBATI",
          "KUWAIT",
          "KYRGYZSTAN",
          "LAO PEOPLE'S DEMOCRATIC REP. (THE)",
          "LEBANON",
          "LESOTHO",
          "LIBERIA",
          "LIBYA",
          "MADAGASCAR",
          "MALAWI",
          "MALAYSIA",
          "MALDIVES",
          "MALI",
          "MARSHALL ISLANDS",
          "MAURITANIA",
          "MAURITIUS",
          "MEXICO",
          "MONGOLIA",
          "MONTENEGRO",
          "MOROCCO",
          "MOZAMBIQUE",
          "MYANMAR",
          "NAMIBIA",
          "NAURU",
          "NEPAL",
          "NICARAGUA",
          "NIGER (THE)",
          "NIGERIA",
          "NORTH MACEDONIA",
          "OMAN",
          "PAKISTAN",
          "PANAMA",
          "PAPUA NEW GUINEA",
          "PARAGUAY",
          "PERU",
          "PHILIPPINES (THE)",
          "POLAND",
          "QATAR",
          "REPUBLIC OF KOREA (THE)",
          "REPUBLIC OF MOLDOVA (THE)",
          "ROMANIA",
          "RWANDA",
          "SAINT LUCIA",
          "SAMOA",
          "SAO TOME AND PRINCIPE",
          "SAUDI ARABIA",
          "SENEGAL",
          "SERBIA",
          "SEYCHELLES",
          "SIERRA LEONE",
          "SINGAPORE",
          "SOLOMON ISLANDS",
          "SOMALIA",
          "SOUTH AFRICA",
          "SOUTH SUDAN",
          "SRI LANKA",
          "STATE OF PALESTINE",
          "SUDAN (THE)",
          "SURINAME",
          "SYRIAN ARAB REPUBLIC (THE)",
          "TAJIKISTAN",
          "THAILAND",
          "TIMOR-LESTE",
          "TOGO",
          "TONGA",
          "TRINIDAD AND TOBAGO",
          "TUNISIA",
          "TURKEY",
          "TURKMENISTAN",
          "TUVALU",
          "UGANDA",
          "UKRAINE",
          "UNITED REPUBLIC OF TANZANIA (THE)",
          "UNITED STATES OF AMERICA (THE)",
          "URUGUAY",
          "UZBEKISTAN",
          "VANUATU",
          "VENEZUELA (BOLIVARIAN REPUBLIC OF)",
          "VIET NAM",
          "YEMEN",
          "ZAMBIA",
          "ZIMBABWE"
         ],
         "type": "choropleth",
         "z": [
          30.375,
          7.7,
          7.3428571428571425,
          23.600000000000005,
          2.6,
          3.4800000000000004,
          0.1,
          8.083333333333334,
          6.949999999999999,
          46.26666666666666,
          3.5,
          1.3,
          5.300000000000001,
          20.125,
          17.8,
          7.472727272727273,
          2.466666666666667,
          12.666666666666666,
          3.925,
          9.6,
          2,
          25.076923076923077,
          32.25,
          12.75,
          31.98333333333333,
          14.685714285714283,
          null,
          23.36666666666667,
          31.4,
          0.7466666666666666,
          7.900000000000001,
          5.8571428571428585,
          19.575,
          13.099999999999998,
          2.2375000000000003,
          17.67142857142857,
          3.4,
          1.5,
          23.12857142857143,
          26.84,
          22.625,
          5.1625,
          8.316666666666666,
          8.639999999999999,
          7.766666666666667,
          11.425,
          37.55,
          6.819999999999999,
          31.057142857142853,
          6.1,
          7.7,
          16.300000000000004,
          2.0666666666666664,
          0.8,
          17.244444444444444,
          19.057142857142853,
          19.262500000000003,
          18.05,
          11.383333333333336,
          16.9,
          13.785714285714286,
          42.977777777777774,
          24.3625,
          8,
          8.500000000000002,
          3.955000000000001,
          3.4,
          3.5,
          3.76,
          16.75,
          13.2,
          2.353333333333333,
          4.366666666666667,
          30.871428571428567,
          3.85,
          14.085714285714287,
          17.740000000000002,
          7.166666666666667,
          34.31428571428571,
          17.40666666666667,
          18.14,
          30.32,
          26.67142857142857,
          11.9,
          24.866666666666667,
          17.05,
          6.525,
          5.911111111111111,
          1.6,
          6.916666666666667,
          20.75714285714286,
          29.75555555555555,
          18.05,
          4.8,
          36.95,
          7.033333333333334,
          38.263636363636365,
          26.681818181818183,
          1.6666666666666667,
          11.916666666666666,
          33.737500000000004,
          4.733333333333333,
          22.9,
          2.525,
          4.320000000000001,
          24.14545454545454,
          null,
          4.8,
          0.8,
          2.7,
          3.88,
          15.88888888888889,
          2.8,
          2.45,
          11.26,
          9.4,
          16.3,
          1.7333333333333334,
          4.3,
          20.39,
          3.3,
          14.666666666666666,
          26.03333333333333,
          9.714285714285715,
          30.1,
          26,
          2.92,
          29.933333333333334,
          8.133333333333335,
          10.05,
          10.933333333333332,
          12.466666666666669,
          42.8,
          18.93333333333333,
          1.9,
          5.133333333333334,
          3.65,
          4.842857142857143,
          7.633333333333333,
          1.6,
          15.533333333333337,
          4.1,
          17.727272727272723,
          0.8800000000000001,
          5.128571428571429,
          7,
          11.266666666666666,
          4.242857142857143,
          22.91818181818182,
          37.78571428571428,
          17.885714285714286,
          10.71
         ]
        }
       ],
       "layout": {
        "geo": {
         "scope": "world"
        },
        "template": {
         "data": {
          "bar": [
           {
            "error_x": {
             "color": "#2a3f5f"
            },
            "error_y": {
             "color": "#2a3f5f"
            },
            "marker": {
             "line": {
              "color": "#E5ECF6",
              "width": 0.5
             },
             "pattern": {
              "fillmode": "overlay",
              "size": 10,
              "solidity": 0.2
             }
            },
            "type": "bar"
           }
          ],
          "barpolar": [
           {
            "marker": {
             "line": {
              "color": "#E5ECF6",
              "width": 0.5
             },
             "pattern": {
              "fillmode": "overlay",
              "size": 10,
              "solidity": 0.2
             }
            },
            "type": "barpolar"
           }
          ],
          "carpet": [
           {
            "aaxis": {
             "endlinecolor": "#2a3f5f",
             "gridcolor": "white",
             "linecolor": "white",
             "minorgridcolor": "white",
             "startlinecolor": "#2a3f5f"
            },
            "baxis": {
             "endlinecolor": "#2a3f5f",
             "gridcolor": "white",
             "linecolor": "white",
             "minorgridcolor": "white",
             "startlinecolor": "#2a3f5f"
            },
            "type": "carpet"
           }
          ],
          "choropleth": [
           {
            "colorbar": {
             "outlinewidth": 0,
             "ticks": ""
            },
            "type": "choropleth"
           }
          ],
          "contour": [
           {
            "colorbar": {
             "outlinewidth": 0,
             "ticks": ""
            },
            "colorscale": [
             [
              0,
              "#0d0887"
             ],
             [
              0.1111111111111111,
              "#46039f"
             ],
             [
              0.2222222222222222,
              "#7201a8"
             ],
             [
              0.3333333333333333,
              "#9c179e"
             ],
             [
              0.4444444444444444,
              "#bd3786"
             ],
             [
              0.5555555555555556,
              "#d8576b"
             ],
             [
              0.6666666666666666,
              "#ed7953"
             ],
             [
              0.7777777777777778,
              "#fb9f3a"
             ],
             [
              0.8888888888888888,
              "#fdca26"
             ],
             [
              1,
              "#f0f921"
             ]
            ],
            "type": "contour"
           }
          ],
          "contourcarpet": [
           {
            "colorbar": {
             "outlinewidth": 0,
             "ticks": ""
            },
            "type": "contourcarpet"
           }
          ],
          "heatmap": [
           {
            "colorbar": {
             "outlinewidth": 0,
             "ticks": ""
            },
            "colorscale": [
             [
              0,
              "#0d0887"
             ],
             [
              0.1111111111111111,
              "#46039f"
             ],
             [
              0.2222222222222222,
              "#7201a8"
             ],
             [
              0.3333333333333333,
              "#9c179e"
             ],
             [
              0.4444444444444444,
              "#bd3786"
             ],
             [
              0.5555555555555556,
              "#d8576b"
             ],
             [
              0.6666666666666666,
              "#ed7953"
             ],
             [
              0.7777777777777778,
              "#fb9f3a"
             ],
             [
              0.8888888888888888,
              "#fdca26"
             ],
             [
              1,
              "#f0f921"
             ]
            ],
            "type": "heatmap"
           }
          ],
          "heatmapgl": [
           {
            "colorbar": {
             "outlinewidth": 0,
             "ticks": ""
            },
            "colorscale": [
             [
              0,
              "#0d0887"
             ],
             [
              0.1111111111111111,
              "#46039f"
             ],
             [
              0.2222222222222222,
              "#7201a8"
             ],
             [
              0.3333333333333333,
              "#9c179e"
             ],
             [
              0.4444444444444444,
              "#bd3786"
             ],
             [
              0.5555555555555556,
              "#d8576b"
             ],
             [
              0.6666666666666666,
              "#ed7953"
             ],
             [
              0.7777777777777778,
              "#fb9f3a"
             ],
             [
              0.8888888888888888,
              "#fdca26"
             ],
             [
              1,
              "#f0f921"
             ]
            ],
            "type": "heatmapgl"
           }
          ],
          "histogram": [
           {
            "marker": {
             "pattern": {
              "fillmode": "overlay",
              "size": 10,
              "solidity": 0.2
             }
            },
            "type": "histogram"
           }
          ],
          "histogram2d": [
           {
            "colorbar": {
             "outlinewidth": 0,
             "ticks": ""
            },
            "colorscale": [
             [
              0,
              "#0d0887"
             ],
             [
              0.1111111111111111,
              "#46039f"
             ],
             [
              0.2222222222222222,
              "#7201a8"
             ],
             [
              0.3333333333333333,
              "#9c179e"
             ],
             [
              0.4444444444444444,
              "#bd3786"
             ],
             [
              0.5555555555555556,
              "#d8576b"
             ],
             [
              0.6666666666666666,
              "#ed7953"
             ],
             [
              0.7777777777777778,
              "#fb9f3a"
             ],
             [
              0.8888888888888888,
              "#fdca26"
             ],
             [
              1,
              "#f0f921"
             ]
            ],
            "type": "histogram2d"
           }
          ],
          "histogram2dcontour": [
           {
            "colorbar": {
             "outlinewidth": 0,
             "ticks": ""
            },
            "colorscale": [
             [
              0,
              "#0d0887"
             ],
             [
              0.1111111111111111,
              "#46039f"
             ],
             [
              0.2222222222222222,
              "#7201a8"
             ],
             [
              0.3333333333333333,
              "#9c179e"
             ],
             [
              0.4444444444444444,
              "#bd3786"
             ],
             [
              0.5555555555555556,
              "#d8576b"
             ],
             [
              0.6666666666666666,
              "#ed7953"
             ],
             [
              0.7777777777777778,
              "#fb9f3a"
             ],
             [
              0.8888888888888888,
              "#fdca26"
             ],
             [
              1,
              "#f0f921"
             ]
            ],
            "type": "histogram2dcontour"
           }
          ],
          "mesh3d": [
           {
            "colorbar": {
             "outlinewidth": 0,
             "ticks": ""
            },
            "type": "mesh3d"
           }
          ],
          "parcoords": [
           {
            "line": {
             "colorbar": {
              "outlinewidth": 0,
              "ticks": ""
             }
            },
            "type": "parcoords"
           }
          ],
          "pie": [
           {
            "automargin": true,
            "type": "pie"
           }
          ],
          "scatter": [
           {
            "fillpattern": {
             "fillmode": "overlay",
             "size": 10,
             "solidity": 0.2
            },
            "type": "scatter"
           }
          ],
          "scatter3d": [
           {
            "line": {
             "colorbar": {
              "outlinewidth": 0,
              "ticks": ""
             }
            },
            "marker": {
             "colorbar": {
              "outlinewidth": 0,
              "ticks": ""
             }
            },
            "type": "scatter3d"
           }
          ],
          "scattercarpet": [
           {
            "marker": {
             "colorbar": {
              "outlinewidth": 0,
              "ticks": ""
             }
            },
            "type": "scattercarpet"
           }
          ],
          "scattergeo": [
           {
            "marker": {
             "colorbar": {
              "outlinewidth": 0,
              "ticks": ""
             }
            },
            "type": "scattergeo"
           }
          ],
          "scattergl": [
           {
            "marker": {
             "colorbar": {
              "outlinewidth": 0,
              "ticks": ""
             }
            },
            "type": "scattergl"
           }
          ],
          "scattermapbox": [
           {
            "marker": {
             "colorbar": {
              "outlinewidth": 0,
              "ticks": ""
             }
            },
            "type": "scattermapbox"
           }
          ],
          "scatterpolar": [
           {
            "marker": {
             "colorbar": {
              "outlinewidth": 0,
              "ticks": ""
             }
            },
            "type": "scatterpolar"
           }
          ],
          "scatterpolargl": [
           {
            "marker": {
             "colorbar": {
              "outlinewidth": 0,
              "ticks": ""
             }
            },
            "type": "scatterpolargl"
           }
          ],
          "scatterternary": [
           {
            "marker": {
             "colorbar": {
              "outlinewidth": 0,
              "ticks": ""
             }
            },
            "type": "scatterternary"
           }
          ],
          "surface": [
           {
            "colorbar": {
             "outlinewidth": 0,
             "ticks": ""
            },
            "colorscale": [
             [
              0,
              "#0d0887"
             ],
             [
              0.1111111111111111,
              "#46039f"
             ],
             [
              0.2222222222222222,
              "#7201a8"
             ],
             [
              0.3333333333333333,
              "#9c179e"
             ],
             [
              0.4444444444444444,
              "#bd3786"
             ],
             [
              0.5555555555555556,
              "#d8576b"
             ],
             [
              0.6666666666666666,
              "#ed7953"
             ],
             [
              0.7777777777777778,
              "#fb9f3a"
             ],
             [
              0.8888888888888888,
              "#fdca26"
             ],
             [
              1,
              "#f0f921"
             ]
            ],
            "type": "surface"
           }
          ],
          "table": [
           {
            "cells": {
             "fill": {
              "color": "#EBF0F8"
             },
             "line": {
              "color": "white"
             }
            },
            "header": {
             "fill": {
              "color": "#C8D4E3"
             },
             "line": {
              "color": "white"
             }
            },
            "type": "table"
           }
          ]
         },
         "layout": {
          "annotationdefaults": {
           "arrowcolor": "#2a3f5f",
           "arrowhead": 0,
           "arrowwidth": 1
          },
          "autotypenumbers": "strict",
          "coloraxis": {
           "colorbar": {
            "outlinewidth": 0,
            "ticks": ""
           }
          },
          "colorscale": {
           "diverging": [
            [
             0,
             "#8e0152"
            ],
            [
             0.1,
             "#c51b7d"
            ],
            [
             0.2,
             "#de77ae"
            ],
            [
             0.3,
             "#f1b6da"
            ],
            [
             0.4,
             "#fde0ef"
            ],
            [
             0.5,
             "#f7f7f7"
            ],
            [
             0.6,
             "#e6f5d0"
            ],
            [
             0.7,
             "#b8e186"
            ],
            [
             0.8,
             "#7fbc41"
            ],
            [
             0.9,
             "#4d9221"
            ],
            [
             1,
             "#276419"
            ]
           ],
           "sequential": [
            [
             0,
             "#0d0887"
            ],
            [
             0.1111111111111111,
             "#46039f"
            ],
            [
             0.2222222222222222,
             "#7201a8"
            ],
            [
             0.3333333333333333,
             "#9c179e"
            ],
            [
             0.4444444444444444,
             "#bd3786"
            ],
            [
             0.5555555555555556,
             "#d8576b"
            ],
            [
             0.6666666666666666,
             "#ed7953"
            ],
            [
             0.7777777777777778,
             "#fb9f3a"
            ],
            [
             0.8888888888888888,
             "#fdca26"
            ],
            [
             1,
             "#f0f921"
            ]
           ],
           "sequentialminus": [
            [
             0,
             "#0d0887"
            ],
            [
             0.1111111111111111,
             "#46039f"
            ],
            [
             0.2222222222222222,
             "#7201a8"
            ],
            [
             0.3333333333333333,
             "#9c179e"
            ],
            [
             0.4444444444444444,
             "#bd3786"
            ],
            [
             0.5555555555555556,
             "#d8576b"
            ],
            [
             0.6666666666666666,
             "#ed7953"
            ],
            [
             0.7777777777777778,
             "#fb9f3a"
            ],
            [
             0.8888888888888888,
             "#fdca26"
            ],
            [
             1,
             "#f0f921"
            ]
           ]
          },
          "colorway": [
           "#636efa",
           "#EF553B",
           "#00cc96",
           "#ab63fa",
           "#FFA15A",
           "#19d3f3",
           "#FF6692",
           "#B6E880",
           "#FF97FF",
           "#FECB52"
          ],
          "font": {
           "color": "#2a3f5f"
          },
          "geo": {
           "bgcolor": "white",
           "lakecolor": "white",
           "landcolor": "#E5ECF6",
           "showlakes": true,
           "showland": true,
           "subunitcolor": "white"
          },
          "hoverlabel": {
           "align": "left"
          },
          "hovermode": "closest",
          "mapbox": {
           "style": "light"
          },
          "paper_bgcolor": "white",
          "plot_bgcolor": "#E5ECF6",
          "polar": {
           "angularaxis": {
            "gridcolor": "white",
            "linecolor": "white",
            "ticks": ""
           },
           "bgcolor": "#E5ECF6",
           "radialaxis": {
            "gridcolor": "white",
            "linecolor": "white",
            "ticks": ""
           }
          },
          "scene": {
           "xaxis": {
            "backgroundcolor": "#E5ECF6",
            "gridcolor": "white",
            "gridwidth": 2,
            "linecolor": "white",
            "showbackground": true,
            "ticks": "",
            "zerolinecolor": "white"
           },
           "yaxis": {
            "backgroundcolor": "#E5ECF6",
            "gridcolor": "white",
            "gridwidth": 2,
            "linecolor": "white",
            "showbackground": true,
            "ticks": "",
            "zerolinecolor": "white"
           },
           "zaxis": {
            "backgroundcolor": "#E5ECF6",
            "gridcolor": "white",
            "gridwidth": 2,
            "linecolor": "white",
            "showbackground": true,
            "ticks": "",
            "zerolinecolor": "white"
           }
          },
          "shapedefaults": {
           "line": {
            "color": "#2a3f5f"
           }
          },
          "ternary": {
           "aaxis": {
            "gridcolor": "white",
            "linecolor": "white",
            "ticks": ""
           },
           "baxis": {
            "gridcolor": "white",
            "linecolor": "white",
            "ticks": ""
           },
           "bgcolor": "#E5ECF6",
           "caxis": {
            "gridcolor": "white",
            "linecolor": "white",
            "ticks": ""
           }
          },
          "title": {
           "x": 0.05
          },
          "xaxis": {
           "automargin": true,
           "gridcolor": "white",
           "linecolor": "white",
           "ticks": "",
           "title": {
            "standoff": 15
           },
           "zerolinecolor": "white",
           "zerolinewidth": 2
          },
          "yaxis": {
           "automargin": true,
           "gridcolor": "white",
           "linecolor": "white",
           "ticks": "",
           "title": {
            "standoff": 15
           },
           "zerolinecolor": "white",
           "zerolinewidth": 2
          }
         }
        },
        "title": {
         "text": "Underweight % around the world"
        }
       }
      },
      "text/html": [
       "<div>                            <div id=\"1f738454-78cc-4954-82a4-d4a254a89192\" class=\"plotly-graph-div\" style=\"height:525px; width:100%;\"></div>            <script type=\"text/javascript\">                require([\"plotly\"], function(Plotly) {                    window.PLOTLYENV=window.PLOTLYENV || {};                                    if (document.getElementById(\"1f738454-78cc-4954-82a4-d4a254a89192\")) {                    Plotly.newPlot(                        \"1f738454-78cc-4954-82a4-d4a254a89192\",                        [{\"colorbar\":{\"len\":200,\"lenmode\":\"pixels\",\"title\":{\"text\":\"Underweight %\"}},\"colorscale\":[[0.0,\"rgb(12,51,131)\"],[0.25,\"rgb(10,136,186)\"],[0.5,\"rgb(242,211,56)\"],[0.75,\"rgb(242,143,56)\"],[1.0,\"rgb(217,30,30)\"]],\"locationmode\":\"country names\",\"locations\":[\"AFGHANISTAN\",\"ALBANIA\",\"ALGERIA\",\"ANGOLA\",\"ARGENTINA\",\"ARMENIA\",\"AUSTRALIA\",\"AZERBAIJAN\",\"BAHRAIN\",\"BANGLADESH\",\"BARBADOS\",\"BELARUS\",\"BELIZE\",\"BENIN\",\"BHUTAN\",\"BOLIVIA (PLURINATIONAL STATE OF)\",\"BOSNIA AND HERZEGOVINA\",\"BOTSWANA\",\"BRAZIL\",\"BRUNEI DARUSSALAM\",\"BULGARIA\",\"BURKINA FASO\",\"BURUNDI\",\"CABO VERDE\",\"CAMBODIA\",\"CAMEROON\",\"CANADA\",\"CENTRAL AFRICAN REPUBLIC (THE)\",\"CHAD\",\"CHILE\",\"CHINA\",\"COLOMBIA\",\"COMOROS (THE)\",\"CONGO (THE)\",\"COSTA RICA\",\"COTE D'IVOIRE\",\"CUBA\",\"CZECHIA\",\"DEMOCRATIC PEOPLE'S REP. OF KOREA (THE)\",\"DEMOCRATIC REP. OF THE CONGO (THE)\",\"DJIBOUTI\",\"DOMINICAN REPUBLIC (THE)\",\"ECUADOR\",\"EGYPT\",\"EL SALVADOR\",\"EQUATORIAL GUINEA\",\"ERITREA\",\"ESWATINI\",\"ETHIOPIA\",\"FIJI\",\"GABON\",\"GAMBIA (THE)\",\"GEORGIA\",\"GERMANY\",\"GHANA\",\"GUATEMALA\",\"GUINEA\",\"GUINEA-BISSAU\",\"GUYANA\",\"HAITI\",\"HONDURAS\",\"INDIA\",\"INDONESIA\",\"IRAN (ISLAMIC REPUBLIC OF)\",\"IRAQ\",\"JAMAICA\",\"JAPAN\",\"JORDAN\",\"KAZAKHSTAN\",\"KENYA\",\"KIRIBATI\",\"KUWAIT\",\"KYRGYZSTAN\",\"LAO PEOPLE'S DEMOCRATIC REP. (THE)\",\"LEBANON\",\"LESOTHO\",\"LIBERIA\",\"LIBYA\",\"MADAGASCAR\",\"MALAWI\",\"MALAYSIA\",\"MALDIVES\",\"MALI\",\"MARSHALL ISLANDS\",\"MAURITANIA\",\"MAURITIUS\",\"MEXICO\",\"MONGOLIA\",\"MONTENEGRO\",\"MOROCCO\",\"MOZAMBIQUE\",\"MYANMAR\",\"NAMIBIA\",\"NAURU\",\"NEPAL\",\"NICARAGUA\",\"NIGER (THE)\",\"NIGERIA\",\"NORTH MACEDONIA\",\"OMAN\",\"PAKISTAN\",\"PANAMA\",\"PAPUA NEW GUINEA\",\"PARAGUAY\",\"PERU\",\"PHILIPPINES (THE)\",\"POLAND\",\"QATAR\",\"REPUBLIC OF KOREA (THE)\",\"REPUBLIC OF MOLDOVA (THE)\",\"ROMANIA\",\"RWANDA\",\"SAINT LUCIA\",\"SAMOA\",\"SAO TOME AND PRINCIPE\",\"SAUDI ARABIA\",\"SENEGAL\",\"SERBIA\",\"SEYCHELLES\",\"SIERRA LEONE\",\"SINGAPORE\",\"SOLOMON ISLANDS\",\"SOMALIA\",\"SOUTH AFRICA\",\"SOUTH SUDAN\",\"SRI LANKA\",\"STATE OF PALESTINE\",\"SUDAN (THE)\",\"SURINAME\",\"SYRIAN ARAB REPUBLIC (THE)\",\"TAJIKISTAN\",\"THAILAND\",\"TIMOR-LESTE\",\"TOGO\",\"TONGA\",\"TRINIDAD AND TOBAGO\",\"TUNISIA\",\"TURKEY\",\"TURKMENISTAN\",\"TUVALU\",\"UGANDA\",\"UKRAINE\",\"UNITED REPUBLIC OF TANZANIA (THE)\",\"UNITED STATES OF AMERICA (THE)\",\"URUGUAY\",\"UZBEKISTAN\",\"VANUATU\",\"VENEZUELA (BOLIVARIAN REPUBLIC OF)\",\"VIET NAM\",\"YEMEN\",\"ZAMBIA\",\"ZIMBABWE\"],\"text\":[\"AFGHANISTAN\",\"ALBANIA\",\"ALGERIA\",\"ANGOLA\",\"ARGENTINA\",\"ARMENIA\",\"AUSTRALIA\",\"AZERBAIJAN\",\"BAHRAIN\",\"BANGLADESH\",\"BARBADOS\",\"BELARUS\",\"BELIZE\",\"BENIN\",\"BHUTAN\",\"BOLIVIA (PLURINATIONAL STATE OF)\",\"BOSNIA AND HERZEGOVINA\",\"BOTSWANA\",\"BRAZIL\",\"BRUNEI DARUSSALAM\",\"BULGARIA\",\"BURKINA FASO\",\"BURUNDI\",\"CABO VERDE\",\"CAMBODIA\",\"CAMEROON\",\"CANADA\",\"CENTRAL AFRICAN REPUBLIC (THE)\",\"CHAD\",\"CHILE\",\"CHINA\",\"COLOMBIA\",\"COMOROS (THE)\",\"CONGO (THE)\",\"COSTA RICA\",\"COTE D'IVOIRE\",\"CUBA\",\"CZECHIA\",\"DEMOCRATIC PEOPLE'S REP. OF KOREA (THE)\",\"DEMOCRATIC REP. OF THE CONGO (THE)\",\"DJIBOUTI\",\"DOMINICAN REPUBLIC (THE)\",\"ECUADOR\",\"EGYPT\",\"EL SALVADOR\",\"EQUATORIAL GUINEA\",\"ERITREA\",\"ESWATINI\",\"ETHIOPIA\",\"FIJI\",\"GABON\",\"GAMBIA (THE)\",\"GEORGIA\",\"GERMANY\",\"GHANA\",\"GUATEMALA\",\"GUINEA\",\"GUINEA-BISSAU\",\"GUYANA\",\"HAITI\",\"HONDURAS\",\"INDIA\",\"INDONESIA\",\"IRAN (ISLAMIC REPUBLIC OF)\",\"IRAQ\",\"JAMAICA\",\"JAPAN\",\"JORDAN\",\"KAZAKHSTAN\",\"KENYA\",\"KIRIBATI\",\"KUWAIT\",\"KYRGYZSTAN\",\"LAO PEOPLE'S DEMOCRATIC REP. (THE)\",\"LEBANON\",\"LESOTHO\",\"LIBERIA\",\"LIBYA\",\"MADAGASCAR\",\"MALAWI\",\"MALAYSIA\",\"MALDIVES\",\"MALI\",\"MARSHALL ISLANDS\",\"MAURITANIA\",\"MAURITIUS\",\"MEXICO\",\"MONGOLIA\",\"MONTENEGRO\",\"MOROCCO\",\"MOZAMBIQUE\",\"MYANMAR\",\"NAMIBIA\",\"NAURU\",\"NEPAL\",\"NICARAGUA\",\"NIGER (THE)\",\"NIGERIA\",\"NORTH MACEDONIA\",\"OMAN\",\"PAKISTAN\",\"PANAMA\",\"PAPUA NEW GUINEA\",\"PARAGUAY\",\"PERU\",\"PHILIPPINES (THE)\",\"POLAND\",\"QATAR\",\"REPUBLIC OF KOREA (THE)\",\"REPUBLIC OF MOLDOVA (THE)\",\"ROMANIA\",\"RWANDA\",\"SAINT LUCIA\",\"SAMOA\",\"SAO TOME AND PRINCIPE\",\"SAUDI ARABIA\",\"SENEGAL\",\"SERBIA\",\"SEYCHELLES\",\"SIERRA LEONE\",\"SINGAPORE\",\"SOLOMON ISLANDS\",\"SOMALIA\",\"SOUTH AFRICA\",\"SOUTH SUDAN\",\"SRI LANKA\",\"STATE OF PALESTINE\",\"SUDAN (THE)\",\"SURINAME\",\"SYRIAN ARAB REPUBLIC (THE)\",\"TAJIKISTAN\",\"THAILAND\",\"TIMOR-LESTE\",\"TOGO\",\"TONGA\",\"TRINIDAD AND TOBAGO\",\"TUNISIA\",\"TURKEY\",\"TURKMENISTAN\",\"TUVALU\",\"UGANDA\",\"UKRAINE\",\"UNITED REPUBLIC OF TANZANIA (THE)\",\"UNITED STATES OF AMERICA (THE)\",\"URUGUAY\",\"UZBEKISTAN\",\"VANUATU\",\"VENEZUELA (BOLIVARIAN REPUBLIC OF)\",\"VIET NAM\",\"YEMEN\",\"ZAMBIA\",\"ZIMBABWE\"],\"z\":[30.375,7.7,7.3428571428571425,23.600000000000005,2.6,3.4800000000000004,0.1,8.083333333333334,6.949999999999999,46.26666666666666,3.5,1.3,5.300000000000001,20.125,17.8,7.472727272727273,2.466666666666667,12.666666666666666,3.925,9.6,2.0,25.076923076923077,32.25,12.75,31.98333333333333,14.685714285714283,null,23.36666666666667,31.4,0.7466666666666666,7.900000000000001,5.8571428571428585,19.575,13.099999999999998,2.2375000000000003,17.67142857142857,3.4,1.5,23.12857142857143,26.84,22.625,5.1625,8.316666666666666,8.639999999999999,7.766666666666667,11.425,37.55,6.819999999999999,31.057142857142853,6.1,7.7,16.300000000000004,2.0666666666666664,0.8,17.244444444444444,19.057142857142853,19.262500000000003,18.05,11.383333333333336,16.9,13.785714285714286,42.977777777777774,24.3625,8.0,8.500000000000002,3.955000000000001,3.4,3.5,3.76,16.75,13.2,2.353333333333333,4.366666666666667,30.871428571428567,3.85,14.085714285714287,17.740000000000002,7.166666666666667,34.31428571428571,17.40666666666667,18.14,30.32,26.67142857142857,11.9,24.866666666666667,17.05,6.525,5.911111111111111,1.6,6.916666666666667,20.75714285714286,29.75555555555555,18.05,4.8,36.95,7.033333333333334,38.263636363636365,26.681818181818183,1.6666666666666667,11.916666666666666,33.737500000000004,4.733333333333333,22.9,2.525,4.320000000000001,24.14545454545454,null,4.8,0.8,2.7,3.88,15.88888888888889,2.8,2.45,11.26,9.4,16.3,1.7333333333333334,4.3,20.39,3.3,14.666666666666666,26.03333333333333,9.714285714285715,30.1,26.0,2.92,29.933333333333334,8.133333333333335,10.05,10.933333333333332,12.466666666666669,42.8,18.93333333333333,1.9,5.133333333333334,3.65,4.842857142857143,7.633333333333333,1.6,15.533333333333337,4.1,17.727272727272723,0.8800000000000001,5.128571428571429,7.0,11.266666666666666,4.242857142857143,22.91818181818182,37.78571428571428,17.885714285714286,10.71],\"type\":\"choropleth\"}],                        {\"geo\":{\"scope\":\"world\"},\"title\":{\"text\":\"Underweight % around the world\"},\"template\":{\"data\":{\"histogram2dcontour\":[{\"type\":\"histogram2dcontour\",\"colorbar\":{\"outlinewidth\":0,\"ticks\":\"\"},\"colorscale\":[[0.0,\"#0d0887\"],[0.1111111111111111,\"#46039f\"],[0.2222222222222222,\"#7201a8\"],[0.3333333333333333,\"#9c179e\"],[0.4444444444444444,\"#bd3786\"],[0.5555555555555556,\"#d8576b\"],[0.6666666666666666,\"#ed7953\"],[0.7777777777777778,\"#fb9f3a\"],[0.8888888888888888,\"#fdca26\"],[1.0,\"#f0f921\"]]}],\"choropleth\":[{\"type\":\"choropleth\",\"colorbar\":{\"outlinewidth\":0,\"ticks\":\"\"}}],\"histogram2d\":[{\"type\":\"histogram2d\",\"colorbar\":{\"outlinewidth\":0,\"ticks\":\"\"},\"colorscale\":[[0.0,\"#0d0887\"],[0.1111111111111111,\"#46039f\"],[0.2222222222222222,\"#7201a8\"],[0.3333333333333333,\"#9c179e\"],[0.4444444444444444,\"#bd3786\"],[0.5555555555555556,\"#d8576b\"],[0.6666666666666666,\"#ed7953\"],[0.7777777777777778,\"#fb9f3a\"],[0.8888888888888888,\"#fdca26\"],[1.0,\"#f0f921\"]]}],\"heatmap\":[{\"type\":\"heatmap\",\"colorbar\":{\"outlinewidth\":0,\"ticks\":\"\"},\"colorscale\":[[0.0,\"#0d0887\"],[0.1111111111111111,\"#46039f\"],[0.2222222222222222,\"#7201a8\"],[0.3333333333333333,\"#9c179e\"],[0.4444444444444444,\"#bd3786\"],[0.5555555555555556,\"#d8576b\"],[0.6666666666666666,\"#ed7953\"],[0.7777777777777778,\"#fb9f3a\"],[0.8888888888888888,\"#fdca26\"],[1.0,\"#f0f921\"]]}],\"heatmapgl\":[{\"type\":\"heatmapgl\",\"colorbar\":{\"outlinewidth\":0,\"ticks\":\"\"},\"colorscale\":[[0.0,\"#0d0887\"],[0.1111111111111111,\"#46039f\"],[0.2222222222222222,\"#7201a8\"],[0.3333333333333333,\"#9c179e\"],[0.4444444444444444,\"#bd3786\"],[0.5555555555555556,\"#d8576b\"],[0.6666666666666666,\"#ed7953\"],[0.7777777777777778,\"#fb9f3a\"],[0.8888888888888888,\"#fdca26\"],[1.0,\"#f0f921\"]]}],\"contourcarpet\":[{\"type\":\"contourcarpet\",\"colorbar\":{\"outlinewidth\":0,\"ticks\":\"\"}}],\"contour\":[{\"type\":\"contour\",\"colorbar\":{\"outlinewidth\":0,\"ticks\":\"\"},\"colorscale\":[[0.0,\"#0d0887\"],[0.1111111111111111,\"#46039f\"],[0.2222222222222222,\"#7201a8\"],[0.3333333333333333,\"#9c179e\"],[0.4444444444444444,\"#bd3786\"],[0.5555555555555556,\"#d8576b\"],[0.6666666666666666,\"#ed7953\"],[0.7777777777777778,\"#fb9f3a\"],[0.8888888888888888,\"#fdca26\"],[1.0,\"#f0f921\"]]}],\"surface\":[{\"type\":\"surface\",\"colorbar\":{\"outlinewidth\":0,\"ticks\":\"\"},\"colorscale\":[[0.0,\"#0d0887\"],[0.1111111111111111,\"#46039f\"],[0.2222222222222222,\"#7201a8\"],[0.3333333333333333,\"#9c179e\"],[0.4444444444444444,\"#bd3786\"],[0.5555555555555556,\"#d8576b\"],[0.6666666666666666,\"#ed7953\"],[0.7777777777777778,\"#fb9f3a\"],[0.8888888888888888,\"#fdca26\"],[1.0,\"#f0f921\"]]}],\"mesh3d\":[{\"type\":\"mesh3d\",\"colorbar\":{\"outlinewidth\":0,\"ticks\":\"\"}}],\"scatter\":[{\"fillpattern\":{\"fillmode\":\"overlay\",\"size\":10,\"solidity\":0.2},\"type\":\"scatter\"}],\"parcoords\":[{\"type\":\"parcoords\",\"line\":{\"colorbar\":{\"outlinewidth\":0,\"ticks\":\"\"}}}],\"scatterpolargl\":[{\"type\":\"scatterpolargl\",\"marker\":{\"colorbar\":{\"outlinewidth\":0,\"ticks\":\"\"}}}],\"bar\":[{\"error_x\":{\"color\":\"#2a3f5f\"},\"error_y\":{\"color\":\"#2a3f5f\"},\"marker\":{\"line\":{\"color\":\"#E5ECF6\",\"width\":0.5},\"pattern\":{\"fillmode\":\"overlay\",\"size\":10,\"solidity\":0.2}},\"type\":\"bar\"}],\"scattergeo\":[{\"type\":\"scattergeo\",\"marker\":{\"colorbar\":{\"outlinewidth\":0,\"ticks\":\"\"}}}],\"scatterpolar\":[{\"type\":\"scatterpolar\",\"marker\":{\"colorbar\":{\"outlinewidth\":0,\"ticks\":\"\"}}}],\"histogram\":[{\"marker\":{\"pattern\":{\"fillmode\":\"overlay\",\"size\":10,\"solidity\":0.2}},\"type\":\"histogram\"}],\"scattergl\":[{\"type\":\"scattergl\",\"marker\":{\"colorbar\":{\"outlinewidth\":0,\"ticks\":\"\"}}}],\"scatter3d\":[{\"type\":\"scatter3d\",\"line\":{\"colorbar\":{\"outlinewidth\":0,\"ticks\":\"\"}},\"marker\":{\"colorbar\":{\"outlinewidth\":0,\"ticks\":\"\"}}}],\"scattermapbox\":[{\"type\":\"scattermapbox\",\"marker\":{\"colorbar\":{\"outlinewidth\":0,\"ticks\":\"\"}}}],\"scatterternary\":[{\"type\":\"scatterternary\",\"marker\":{\"colorbar\":{\"outlinewidth\":0,\"ticks\":\"\"}}}],\"scattercarpet\":[{\"type\":\"scattercarpet\",\"marker\":{\"colorbar\":{\"outlinewidth\":0,\"ticks\":\"\"}}}],\"carpet\":[{\"aaxis\":{\"endlinecolor\":\"#2a3f5f\",\"gridcolor\":\"white\",\"linecolor\":\"white\",\"minorgridcolor\":\"white\",\"startlinecolor\":\"#2a3f5f\"},\"baxis\":{\"endlinecolor\":\"#2a3f5f\",\"gridcolor\":\"white\",\"linecolor\":\"white\",\"minorgridcolor\":\"white\",\"startlinecolor\":\"#2a3f5f\"},\"type\":\"carpet\"}],\"table\":[{\"cells\":{\"fill\":{\"color\":\"#EBF0F8\"},\"line\":{\"color\":\"white\"}},\"header\":{\"fill\":{\"color\":\"#C8D4E3\"},\"line\":{\"color\":\"white\"}},\"type\":\"table\"}],\"barpolar\":[{\"marker\":{\"line\":{\"color\":\"#E5ECF6\",\"width\":0.5},\"pattern\":{\"fillmode\":\"overlay\",\"size\":10,\"solidity\":0.2}},\"type\":\"barpolar\"}],\"pie\":[{\"automargin\":true,\"type\":\"pie\"}]},\"layout\":{\"autotypenumbers\":\"strict\",\"colorway\":[\"#636efa\",\"#EF553B\",\"#00cc96\",\"#ab63fa\",\"#FFA15A\",\"#19d3f3\",\"#FF6692\",\"#B6E880\",\"#FF97FF\",\"#FECB52\"],\"font\":{\"color\":\"#2a3f5f\"},\"hovermode\":\"closest\",\"hoverlabel\":{\"align\":\"left\"},\"paper_bgcolor\":\"white\",\"plot_bgcolor\":\"#E5ECF6\",\"polar\":{\"bgcolor\":\"#E5ECF6\",\"angularaxis\":{\"gridcolor\":\"white\",\"linecolor\":\"white\",\"ticks\":\"\"},\"radialaxis\":{\"gridcolor\":\"white\",\"linecolor\":\"white\",\"ticks\":\"\"}},\"ternary\":{\"bgcolor\":\"#E5ECF6\",\"aaxis\":{\"gridcolor\":\"white\",\"linecolor\":\"white\",\"ticks\":\"\"},\"baxis\":{\"gridcolor\":\"white\",\"linecolor\":\"white\",\"ticks\":\"\"},\"caxis\":{\"gridcolor\":\"white\",\"linecolor\":\"white\",\"ticks\":\"\"}},\"coloraxis\":{\"colorbar\":{\"outlinewidth\":0,\"ticks\":\"\"}},\"colorscale\":{\"sequential\":[[0.0,\"#0d0887\"],[0.1111111111111111,\"#46039f\"],[0.2222222222222222,\"#7201a8\"],[0.3333333333333333,\"#9c179e\"],[0.4444444444444444,\"#bd3786\"],[0.5555555555555556,\"#d8576b\"],[0.6666666666666666,\"#ed7953\"],[0.7777777777777778,\"#fb9f3a\"],[0.8888888888888888,\"#fdca26\"],[1.0,\"#f0f921\"]],\"sequentialminus\":[[0.0,\"#0d0887\"],[0.1111111111111111,\"#46039f\"],[0.2222222222222222,\"#7201a8\"],[0.3333333333333333,\"#9c179e\"],[0.4444444444444444,\"#bd3786\"],[0.5555555555555556,\"#d8576b\"],[0.6666666666666666,\"#ed7953\"],[0.7777777777777778,\"#fb9f3a\"],[0.8888888888888888,\"#fdca26\"],[1.0,\"#f0f921\"]],\"diverging\":[[0,\"#8e0152\"],[0.1,\"#c51b7d\"],[0.2,\"#de77ae\"],[0.3,\"#f1b6da\"],[0.4,\"#fde0ef\"],[0.5,\"#f7f7f7\"],[0.6,\"#e6f5d0\"],[0.7,\"#b8e186\"],[0.8,\"#7fbc41\"],[0.9,\"#4d9221\"],[1,\"#276419\"]]},\"xaxis\":{\"gridcolor\":\"white\",\"linecolor\":\"white\",\"ticks\":\"\",\"title\":{\"standoff\":15},\"zerolinecolor\":\"white\",\"automargin\":true,\"zerolinewidth\":2},\"yaxis\":{\"gridcolor\":\"white\",\"linecolor\":\"white\",\"ticks\":\"\",\"title\":{\"standoff\":15},\"zerolinecolor\":\"white\",\"automargin\":true,\"zerolinewidth\":2},\"scene\":{\"xaxis\":{\"backgroundcolor\":\"#E5ECF6\",\"gridcolor\":\"white\",\"linecolor\":\"white\",\"showbackground\":true,\"ticks\":\"\",\"zerolinecolor\":\"white\",\"gridwidth\":2},\"yaxis\":{\"backgroundcolor\":\"#E5ECF6\",\"gridcolor\":\"white\",\"linecolor\":\"white\",\"showbackground\":true,\"ticks\":\"\",\"zerolinecolor\":\"white\",\"gridwidth\":2},\"zaxis\":{\"backgroundcolor\":\"#E5ECF6\",\"gridcolor\":\"white\",\"linecolor\":\"white\",\"showbackground\":true,\"ticks\":\"\",\"zerolinecolor\":\"white\",\"gridwidth\":2}},\"shapedefaults\":{\"line\":{\"color\":\"#2a3f5f\"}},\"annotationdefaults\":{\"arrowcolor\":\"#2a3f5f\",\"arrowhead\":0,\"arrowwidth\":1},\"geo\":{\"bgcolor\":\"white\",\"landcolor\":\"#E5ECF6\",\"subunitcolor\":\"white\",\"showland\":true,\"showlakes\":true,\"lakecolor\":\"white\"},\"title\":{\"x\":0.05},\"mapbox\":{\"style\":\"light\"}}}},                        {\"responsive\": true}                    ).then(function(){\n",
       "                            \n",
       "var gd = document.getElementById('1f738454-78cc-4954-82a4-d4a254a89192');\n",
       "var x = new MutationObserver(function (mutations, observer) {{\n",
       "        var display = window.getComputedStyle(gd).display;\n",
       "        if (!display || display === 'none') {{\n",
       "            console.log([gd, 'removed!']);\n",
       "            Plotly.purge(gd);\n",
       "            observer.disconnect();\n",
       "        }}\n",
       "}});\n",
       "\n",
       "// Listen for the removal of the full notebook cells\n",
       "var notebookContainer = gd.closest('#notebook-container');\n",
       "if (notebookContainer) {{\n",
       "    x.observe(notebookContainer, {childList: true});\n",
       "}}\n",
       "\n",
       "// Listen for the clearing of the current output cell\n",
       "var outputEl = gd.closest('.output');\n",
       "if (outputEl) {{\n",
       "    x.observe(outputEl, {childList: true});\n",
       "}}\n",
       "\n",
       "                        })                };                });            </script>        </div>"
      ]
     },
     "metadata": {},
     "output_type": "display_data"
    }
   ],
   "source": [
    "x = df_country.groupby([\"Country\"])[\"Underweight\"].mean()\n",
    "data = dict(type = 'choropleth',\n",
    "            locations = x.index,\n",
    "            locationmode = 'country names',\n",
    "            colorscale= 'Portland',\n",
    "            text= x.index,\n",
    "            z=x,\n",
    "            colorbar = {'title':'Underweight %', 'len':200,'lenmode':'pixels' })\n",
    "layout = dict(geo = {'scope':'world'},title=\"Underweight % around the world\")\n",
    "col_map = go.Figure(data = [data],layout = layout)\n",
    "col_map.show()"
   ]
  },
  {
   "cell_type": "code",
   "execution_count": 117,
   "id": "b674a6fe",
   "metadata": {},
   "outputs": [],
   "source": [
    "df_world.rename(columns = {\"TIME_PERIOD\" : \"Year\", \"OBS_VALUE\" : \"value\"}, inplace =True)\n"
   ]
  },
  {
   "cell_type": "code",
   "execution_count": 118,
   "id": "eab7d7e4",
   "metadata": {},
   "outputs": [],
   "source": [
    "df_world_mort = df_world[df_world[\"Indicator\"] == \"Under-five mortality rate\"]\n",
    "df_world_stunting = df_world[df_world.Indicator == \"Height-for-age <-2 SD (stunting)\"]\n",
    "df_world_underwt = df_world[df_world.Indicator == \"Weight-for-age <-2 SD (Underweight)\"]"
   ]
  },
  {
   "cell_type": "code",
   "execution_count": 119,
   "id": "1e084925",
   "metadata": {},
   "outputs": [],
   "source": [
    "df_world_mort.drop([\"Indicator\"],axis=\"columns\",inplace = True)"
   ]
  },
  {
   "cell_type": "code",
   "execution_count": 120,
   "id": "d8542fdb",
   "metadata": {},
   "outputs": [
    {
     "data": {
      "text/plain": [
       "array([1970, 1971, 1972, 1973, 1974, 1975, 1976, 1977, 1978, 1979, 1980,\n",
       "       1981, 1982, 1983, 1984, 1985, 1986, 1987, 1988, 1989, 1990, 1991,\n",
       "       1992, 1993, 1994, 1995, 1996, 1997, 1998, 1999, 2000, 2001, 2002,\n",
       "       2003, 2004, 2005, 2006, 2007, 2008, 2009, 2010, 2011, 2012, 2013,\n",
       "       2014, 2015, 2016, 2017, 2018], dtype=int64)"
      ]
     },
     "execution_count": 120,
     "metadata": {},
     "output_type": "execute_result"
    }
   ],
   "source": [
    "df_world_mort.Year.unique()"
   ]
  },
  {
   "cell_type": "raw",
   "id": "505d156b",
   "metadata": {},
   "source": []
  },
  {
   "cell_type": "code",
   "execution_count": 121,
   "id": "c09f40c2",
   "metadata": {},
   "outputs": [],
   "source": [
    "import pandas as pd"
   ]
  },
  {
   "cell_type": "code",
   "execution_count": 123,
   "id": "ed52b3fa",
   "metadata": {},
   "outputs": [],
   "source": [
    "df = pd.read_csv(\"country-wise-average.csv\")"
   ]
  },
  {
   "cell_type": "code",
   "execution_count": 128,
   "id": "3d0a7b8b",
   "metadata": {},
   "outputs": [
    {
     "data": {
      "text/html": [
       "<div>\n",
       "<style scoped>\n",
       "    .dataframe tbody tr th:only-of-type {\n",
       "        vertical-align: middle;\n",
       "    }\n",
       "\n",
       "    .dataframe tbody tr th {\n",
       "        vertical-align: top;\n",
       "    }\n",
       "\n",
       "    .dataframe thead th {\n",
       "        text-align: right;\n",
       "    }\n",
       "</style>\n",
       "<table border=\"1\" class=\"dataframe\">\n",
       "  <thead>\n",
       "    <tr style=\"text-align: right;\">\n",
       "      <th></th>\n",
       "      <th>Country</th>\n",
       "      <th>Income Classification</th>\n",
       "      <th>Severe Wasting</th>\n",
       "      <th>Wasting</th>\n",
       "      <th>Overweight</th>\n",
       "      <th>Stunting</th>\n",
       "      <th>Underweight</th>\n",
       "      <th>U5 Population ('000s)</th>\n",
       "    </tr>\n",
       "  </thead>\n",
       "  <tbody>\n",
       "    <tr>\n",
       "      <th>0</th>\n",
       "      <td>AFGHANISTAN</td>\n",
       "      <td>0.0</td>\n",
       "      <td>3.033333</td>\n",
       "      <td>10.350000</td>\n",
       "      <td>5.125000</td>\n",
       "      <td>47.775000</td>\n",
       "      <td>30.375000</td>\n",
       "      <td>4918.561500</td>\n",
       "    </tr>\n",
       "    <tr>\n",
       "      <th>1</th>\n",
       "      <td>ALBANIA</td>\n",
       "      <td>2.0</td>\n",
       "      <td>4.075000</td>\n",
       "      <td>7.760000</td>\n",
       "      <td>20.800000</td>\n",
       "      <td>24.160000</td>\n",
       "      <td>7.700000</td>\n",
       "      <td>232.859800</td>\n",
       "    </tr>\n",
       "    <tr>\n",
       "      <th>2</th>\n",
       "      <td>ALGERIA</td>\n",
       "      <td>2.0</td>\n",
       "      <td>2.733333</td>\n",
       "      <td>5.942857</td>\n",
       "      <td>12.833333</td>\n",
       "      <td>19.571429</td>\n",
       "      <td>7.342857</td>\n",
       "      <td>3565.213143</td>\n",
       "    </tr>\n",
       "    <tr>\n",
       "      <th>3</th>\n",
       "      <td>ANGOLA</td>\n",
       "      <td>1.0</td>\n",
       "      <td>2.400000</td>\n",
       "      <td>6.933333</td>\n",
       "      <td>2.550000</td>\n",
       "      <td>42.633333</td>\n",
       "      <td>23.600000</td>\n",
       "      <td>3980.054000</td>\n",
       "    </tr>\n",
       "    <tr>\n",
       "      <th>4</th>\n",
       "      <td>ARGENTINA</td>\n",
       "      <td>2.0</td>\n",
       "      <td>0.200000</td>\n",
       "      <td>2.150000</td>\n",
       "      <td>11.125000</td>\n",
       "      <td>10.025000</td>\n",
       "      <td>2.600000</td>\n",
       "      <td>3613.651750</td>\n",
       "    </tr>\n",
       "  </tbody>\n",
       "</table>\n",
       "</div>"
      ],
      "text/plain": [
       "       Country  Income Classification  Severe Wasting    Wasting  Overweight   \n",
       "0  AFGHANISTAN                    0.0        3.033333  10.350000    5.125000  \\\n",
       "1      ALBANIA                    2.0        4.075000   7.760000   20.800000   \n",
       "2      ALGERIA                    2.0        2.733333   5.942857   12.833333   \n",
       "3       ANGOLA                    1.0        2.400000   6.933333    2.550000   \n",
       "4    ARGENTINA                    2.0        0.200000   2.150000   11.125000   \n",
       "\n",
       "    Stunting  Underweight  U5 Population ('000s)  \n",
       "0  47.775000    30.375000            4918.561500  \n",
       "1  24.160000     7.700000             232.859800  \n",
       "2  19.571429     7.342857            3565.213143  \n",
       "3  42.633333    23.600000            3980.054000  \n",
       "4  10.025000     2.600000            3613.651750  "
      ]
     },
     "execution_count": 128,
     "metadata": {},
     "output_type": "execute_result"
    }
   ],
   "source": [
    "df.head()"
   ]
  },
  {
   "cell_type": "code",
   "execution_count": 62,
   "id": "1ec9ce62",
   "metadata": {},
   "outputs": [],
   "source": [
    "import numpy as np\n",
    "import matplotlib.pyplot as plt\n",
    "import pandas as pd"
   ]
  },
  {
   "cell_type": "raw",
   "id": "26b0b8ec",
   "metadata": {},
   "source": [
    "from sklearn.model_selection import train_test_split\n",
    "from sklearn.ensemble import RandomForestRegressor\n",
    "from sklearn.metrics import mean_squared_error"
   ]
  },
  {
   "cell_type": "raw",
   "id": "fdbca80a",
   "metadata": {},
   "source": []
  },
  {
   "cell_type": "raw",
   "id": "4ba352fc",
   "metadata": {},
   "source": []
  },
  {
   "cell_type": "code",
   "execution_count": 126,
   "id": "a1c3a94c",
   "metadata": {},
   "outputs": [
    {
     "name": "stdout",
     "output_type": "stream",
     "text": [
      "Index(['Country', 'Income Classification', 'Severe Wasting', 'Wasting',\n",
      "       'Overweight', 'Stunting', 'Underweight', 'U5 Population ('000s)'],\n",
      "      dtype='object')\n"
     ]
    }
   ],
   "source": [
    "print(df.columns)"
   ]
  },
  {
   "cell_type": "code",
   "execution_count": 129,
   "id": "d5320d6e",
   "metadata": {},
   "outputs": [],
   "source": [
    "import pandas as pd\n",
    "from sklearn.model_selection import train_test_split\n",
    "from sklearn.ensemble import RandomForestRegressor\n",
    "from sklearn.metrics import mean_squared_error\n"
   ]
  },
  {
   "cell_type": "code",
   "execution_count": 134,
   "id": "b60d56e0",
   "metadata": {},
   "outputs": [
    {
     "data": {
      "text/plain": [
       "Country                   object\n",
       "Income Classification    float64\n",
       "Severe Wasting           float64\n",
       "Wasting                  float64\n",
       "Overweight               float64\n",
       "Stunting                 float64\n",
       "Underweight              float64\n",
       "U5 Population ('000s)    float64\n",
       "dtype: object"
      ]
     },
     "execution_count": 134,
     "metadata": {},
     "output_type": "execute_result"
    }
   ],
   "source": [
    "df.dtypes"
   ]
  },
  {
   "cell_type": "code",
   "execution_count": 136,
   "id": "b7f49457",
   "metadata": {},
   "outputs": [],
   "source": [
    "df.drop('Country', axis='columns', inplace=True)"
   ]
  },
  {
   "cell_type": "code",
   "execution_count": 137,
   "id": "c25f0222",
   "metadata": {},
   "outputs": [
    {
     "data": {
      "text/html": [
       "<div>\n",
       "<style scoped>\n",
       "    .dataframe tbody tr th:only-of-type {\n",
       "        vertical-align: middle;\n",
       "    }\n",
       "\n",
       "    .dataframe tbody tr th {\n",
       "        vertical-align: top;\n",
       "    }\n",
       "\n",
       "    .dataframe thead th {\n",
       "        text-align: right;\n",
       "    }\n",
       "</style>\n",
       "<table border=\"1\" class=\"dataframe\">\n",
       "  <thead>\n",
       "    <tr style=\"text-align: right;\">\n",
       "      <th></th>\n",
       "      <th>Income Classification</th>\n",
       "      <th>Severe Wasting</th>\n",
       "      <th>Wasting</th>\n",
       "      <th>Overweight</th>\n",
       "      <th>Stunting</th>\n",
       "      <th>Underweight</th>\n",
       "      <th>U5 Population ('000s)</th>\n",
       "    </tr>\n",
       "  </thead>\n",
       "  <tbody>\n",
       "    <tr>\n",
       "      <th>0</th>\n",
       "      <td>0.0</td>\n",
       "      <td>3.033333</td>\n",
       "      <td>10.350000</td>\n",
       "      <td>5.125000</td>\n",
       "      <td>47.775000</td>\n",
       "      <td>30.375000</td>\n",
       "      <td>4918.561500</td>\n",
       "    </tr>\n",
       "    <tr>\n",
       "      <th>1</th>\n",
       "      <td>2.0</td>\n",
       "      <td>4.075000</td>\n",
       "      <td>7.760000</td>\n",
       "      <td>20.800000</td>\n",
       "      <td>24.160000</td>\n",
       "      <td>7.700000</td>\n",
       "      <td>232.859800</td>\n",
       "    </tr>\n",
       "    <tr>\n",
       "      <th>2</th>\n",
       "      <td>2.0</td>\n",
       "      <td>2.733333</td>\n",
       "      <td>5.942857</td>\n",
       "      <td>12.833333</td>\n",
       "      <td>19.571429</td>\n",
       "      <td>7.342857</td>\n",
       "      <td>3565.213143</td>\n",
       "    </tr>\n",
       "    <tr>\n",
       "      <th>3</th>\n",
       "      <td>1.0</td>\n",
       "      <td>2.400000</td>\n",
       "      <td>6.933333</td>\n",
       "      <td>2.550000</td>\n",
       "      <td>42.633333</td>\n",
       "      <td>23.600000</td>\n",
       "      <td>3980.054000</td>\n",
       "    </tr>\n",
       "    <tr>\n",
       "      <th>4</th>\n",
       "      <td>2.0</td>\n",
       "      <td>0.200000</td>\n",
       "      <td>2.150000</td>\n",
       "      <td>11.125000</td>\n",
       "      <td>10.025000</td>\n",
       "      <td>2.600000</td>\n",
       "      <td>3613.651750</td>\n",
       "    </tr>\n",
       "  </tbody>\n",
       "</table>\n",
       "</div>"
      ],
      "text/plain": [
       "   Income Classification  Severe Wasting    Wasting  Overweight   Stunting   \n",
       "0                    0.0        3.033333  10.350000    5.125000  47.775000  \\\n",
       "1                    2.0        4.075000   7.760000   20.800000  24.160000   \n",
       "2                    2.0        2.733333   5.942857   12.833333  19.571429   \n",
       "3                    1.0        2.400000   6.933333    2.550000  42.633333   \n",
       "4                    2.0        0.200000   2.150000   11.125000  10.025000   \n",
       "\n",
       "   Underweight  U5 Population ('000s)  \n",
       "0    30.375000            4918.561500  \n",
       "1     7.700000             232.859800  \n",
       "2     7.342857            3565.213143  \n",
       "3    23.600000            3980.054000  \n",
       "4     2.600000            3613.651750  "
      ]
     },
     "execution_count": 137,
     "metadata": {},
     "output_type": "execute_result"
    }
   ],
   "source": [
    "df.head()"
   ]
  },
  {
   "cell_type": "code",
   "execution_count": 138,
   "id": "de6d621d",
   "metadata": {},
   "outputs": [
    {
     "data": {
      "text/plain": [
       "Income Classification     0\n",
       "Severe Wasting           12\n",
       "Wasting                   2\n",
       "Overweight                3\n",
       "Stunting                  1\n",
       "Underweight               2\n",
       "U5 Population ('000s)     0\n",
       "dtype: int64"
      ]
     },
     "execution_count": 138,
     "metadata": {},
     "output_type": "execute_result"
    }
   ],
   "source": [
    "df.isnull().sum()"
   ]
  },
  {
   "cell_type": "code",
   "execution_count": null,
   "id": "b1fc8102",
   "metadata": {},
   "outputs": [],
   "source": [
    " "
   ]
  },
  {
   "cell_type": "markdown",
   "id": "0859e2c6",
   "metadata": {},
   "source": [
    "# plotting correlation matrix\n"
   ]
  },
  {
   "cell_type": "code",
   "execution_count": 162,
   "id": "15318818",
   "metadata": {},
   "outputs": [
    {
     "data": {
      "image/png": "[encoded data removed]",
      "text/plain": [
       "<Figure size 2000x2000 with 2 Axes>"
      ]
     },
     "metadata": {},
     "output_type": "display_data"
    }
   ],
   "source": [
    "corr = df.corr().round(2)\n",
    "\n",
    "mask = np.zeros_like(corr, dtype = bool)\n",
    "mask[np.triu_indices_from(mask)]  = True\n",
    "\n",
    "f, ax = plt.subplots(figsize = (20,20))\n",
    "\n",
    "cmap = sns.diverging_palette(220, 10, as_cmap = True)\n",
    "\n",
    "sns.heatmap(corr, mask = mask, cmap = cmap, vmin = -1, vmax = 1, center = 0, square= True,\n",
    "           linewidth = 5, cbar_kws = {\"shrink\": .5}, annot = True)\n",
    "\n",
    "plt.tight_layout()"
   ]
  },
  {
   "cell_type": "code",
   "execution_count": null,
   "id": "ba9dd6d9",
   "metadata": {},
   "outputs": [],
   "source": []
  },
  {
   "cell_type": "code",
   "execution_count": null,
   "id": "1f85e892",
   "metadata": {},
   "outputs": [],
   "source": []
  },
  {
   "cell_type": "code",
   "execution_count": null,
   "id": "da7175ce",
   "metadata": {},
   "outputs": [],
   "source": []
  }
 ],
 "metadata": {
  "kernelspec": {
   "display_name": "Python 3 (ipykernel)",
   "language": "python",
   "name": "python3"
  },
  "language_info": {
   "codemirror_mode": {
    "name": "ipython",
    "version": 3
   },
   "file_extension": ".py",
   "mimetype": "text/x-python",
   "name": "python",
   "nbconvert_exporter": "python",
   "pygments_lexer": "ipython3",
   "version": "3.10.5"
  }
 },
 "nbformat": 4,
 "nbformat_minor": 5
}
